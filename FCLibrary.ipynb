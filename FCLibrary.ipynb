{
 "cells": [
  {
   "cell_type": "code",
   "execution_count": 1,
   "metadata": {},
   "outputs": [],
   "source": [
    "class Library:\n",
    "    def __init__(self, name, book_list):\n",
    "        self.name = name\n",
    "        self.book_list = book_list\n",
    "        \n",
    "    def __repr__(self):\n",
    "        return f'Library({self.name}, [id: {id(self)}])'\n",
    "    \n",
    "    def __str__(self):\n",
    "        return self.name\n",
    "    \n",
    "    def add_book(self, book_title):\n",
    "        for library_book in self.book_list:\n",
    "            if library_book.title == book_title:\n",
    "                print(\"Already Have\")\n",
    "                break\n",
    "        else:\n",
    "            # for Else\n",
    "            book = Book(book_title, self)\n",
    "            self.book_list.append(book)\n",
    "            print(f\"Book ({book_title}) Added in Library({self.name})\")\n",
    "            print(f'now {self.name} has : {self.book_list}')\n",
    "    \n",
    "    def remove_book(self, book_title):\n",
    "        \"\"\"\n",
    "        Remove book_title if in book_list\n",
    "        \"\"\"\n",
    "        \n",
    "        for i, library_book in enumerate(self.book_list):\n",
    "            if library_book.title == book_title:\n",
    "                del self.book_list[i]\n",
    "                Book.book_list.remove(library_book)\n",
    "                print(f\"Book ({book_title}) Removed in Library({self.name})\")\n",
    "                print(f'now {self.name} has : {self.book_list}')\n",
    "                break\n",
    "        else:\n",
    "            # for Else\n",
    "            print(\"Can't Find\")\n",
    "            \n",
    "    \n",
    "    @property\n",
    "    def info(self):\n",
    "        \"\"\"\n",
    "        Return Book List\n",
    "        \"\"\"\n",
    "        \n",
    "#         result = \"\"\n",
    "#         result += f'{self.name} Book List\\n'\n",
    "#         for index, book in enumerate(self.book_list):\n",
    "#             result += f'{index}. {book.title}\\n'\n",
    "#         result += f'BOOK COUNT : {len(self.book_list)}'\n",
    "#         #return result\n",
    "        \n",
    "#         return '{info_title}\\n{book_list}\\n{total}'.format(\n",
    "#             info_title = f'{self.name} Book List',\n",
    "#             book_list = '\\n'.join([f'{index}. {book.title}' for index, book in enumerate(self.book_list, start=1)]),\n",
    "#             total = f'BOOK COUNT : {len(self.book_list)}'\n",
    "#         )\n",
    "\n",
    "        from collections import OrderedDict\n",
    "        info_dict = OrderedDict({\n",
    "            'info_title': f'{self.name} Book List',\n",
    "            'book_list': '\\n'.join([f'{index}. {book.title}' for index, book in enumerate(self.book_list, start=1)]),\n",
    "            'total': f'BOOK COUNT : {len(self.book_list)}'\n",
    "        })\n",
    "    \n",
    "        return '\\n'.join([item for item in info_dict.values()])"
   ]
  },
  {
   "cell_type": "code",
   "execution_count": 2,
   "metadata": {},
   "outputs": [],
   "source": [
    "class Book:\n",
    "    book_list = []\n",
    "    \n",
    "    def __init__(self, title, location):\n",
    "        self.title = title\n",
    "        self.location = location\n",
    "        self.book_list.append(self)\n",
    "        \n",
    "    def __repr__(self):\n",
    "        return f'Book({self.title}, [id: {id(self)}])'\n",
    "    \n",
    "    def __str__(self):\n",
    "        return self.title\n",
    "    \n",
    "    @classmethod\n",
    "    def show_total_book_info(cls):\n",
    "        return \"Book List\\n{book_list}\\n{total}\".format(\n",
    "            book_list = '\\n'.join(f'{index}. {book.title} ({book.location})' for index, book in enumerate(cls.book_list, start=1)),\n",
    "            total=f'BOOK COUNT {len(cls.book_list)}'\n",
    "        )\n",
    "        \n",
    "    def is_borrowed(self):\n",
    "        \"\"\"\n",
    "        location\n",
    "        User: True\n",
    "        Library: False\n",
    "        \"\"\"\n",
    "        \n",
    "        if isinstance(self.location, User):\n",
    "            return True\n",
    "        return False"
   ]
  },
  {
   "cell_type": "code",
   "execution_count": 3,
   "metadata": {},
   "outputs": [],
   "source": [
    "class User:\n",
    "    def __init__(self, name, book_list=None):\n",
    "        self.name = name\n",
    "        self.book_list = book_list if book_list else []\n",
    "        \n",
    "    def __repr__(self):\n",
    "        return f'User({self.name}, [id: {id(self)}])'\n",
    "    \n",
    "    def __str__(self):\n",
    "        return self.name\n",
    "        \n",
    "        \n",
    "    def borrow_book(self, library, book_title):\n",
    "        \"\"\"\n",
    "        borrow book_name in Library to book_list\n",
    "        \"\"\"\n",
    "        for book in library.book_list:\n",
    "            if book.title == book_title:\n",
    "                self.book_list.append(book)\n",
    "                library.book_list.remove(book)\n",
    "                book.location = self\n",
    "                print(f'Book ({book_title}) borrow from ({library.name})')\n",
    "                break\n",
    "        else:\n",
    "            print(f\"no book named ({book_title})\")\n",
    "                    \n",
    "    \n",
    "    def return_book(self, library, book_title):\n",
    "        \"\"\"\n",
    "        return book_name in book_list to Library\n",
    "        \"\"\"\n",
    "        for book in self.book_list:\n",
    "            if book.title == book_title:\n",
    "                library.book_list.append(book)\n",
    "                self.book_list.remove(book)\n",
    "                book.location = library\n",
    "                print(f'Book ({book_title}) return from ({library.name})')\n",
    "                break\n",
    "        else:\n",
    "            print(f\"no book named ({book_title})\")"
   ]
  },
  {
   "cell_type": "code",
   "execution_count": 4,
   "metadata": {
    "scrolled": true
   },
   "outputs": [
    {
     "name": "stdout",
     "output_type": "stream",
     "text": [
      "SungSu Library\n",
      "[]\n"
     ]
    }
   ],
   "source": [
    "library1 = Library(\"SungSu Library\", [])\n",
    "print(library1.name)\n",
    "print(library1.book_list)"
   ]
  },
  {
   "cell_type": "code",
   "execution_count": 5,
   "metadata": {},
   "outputs": [],
   "source": [
    "book1 = Book(\"COOKBOOK\", library1)\n",
    "library1.book_list.append(book1)"
   ]
  },
  {
   "cell_type": "code",
   "execution_count": 6,
   "metadata": {},
   "outputs": [
    {
     "name": "stdout",
     "output_type": "stream",
     "text": [
      "[Book(COOKBOOK, [id: 140127325849248])]\n"
     ]
    }
   ],
   "source": [
    "print(library1.book_list)"
   ]
  },
  {
   "cell_type": "code",
   "execution_count": 7,
   "metadata": {},
   "outputs": [
    {
     "data": {
      "text/plain": [
       "Library(SungSu Library, [id: 140127325851264])"
      ]
     },
     "execution_count": 7,
     "metadata": {},
     "output_type": "execute_result"
    }
   ],
   "source": [
    "book1.location = library1\n",
    "book1.location"
   ]
  },
  {
   "cell_type": "code",
   "execution_count": 8,
   "metadata": {},
   "outputs": [],
   "source": [
    "book2 = Book(\"KINGGOD\", library1)\n",
    "book3 = Book(\"WHATIF\", library1)"
   ]
  },
  {
   "cell_type": "code",
   "execution_count": 9,
   "metadata": {},
   "outputs": [],
   "source": [
    "for i in library1.book_list:\n",
    "    if i.title == book2.title:\n",
    "        print(\"Already In\")\n",
    "    if i.title == book3.title:\n",
    "        print(\"Already In\")"
   ]
  },
  {
   "cell_type": "code",
   "execution_count": 10,
   "metadata": {},
   "outputs": [
    {
     "data": {
      "text/plain": [
       "False"
      ]
     },
     "execution_count": 10,
     "metadata": {},
     "output_type": "execute_result"
    }
   ],
   "source": [
    "list(map(lambda x: \"Already In\" if x.title==book2.title else False, library1.book_list))[0]"
   ]
  },
  {
   "cell_type": "code",
   "execution_count": 11,
   "metadata": {},
   "outputs": [
    {
     "data": {
      "text/plain": [
       "False"
      ]
     },
     "execution_count": 11,
     "metadata": {},
     "output_type": "execute_result"
    }
   ],
   "source": [
    "list(map(lambda x: \"Already In\" if x.title==book3.title else False, library1.book_list))[0]"
   ]
  },
  {
   "cell_type": "code",
   "execution_count": 12,
   "metadata": {},
   "outputs": [
    {
     "name": "stdout",
     "output_type": "stream",
     "text": [
      "Already Have\n"
     ]
    },
    {
     "data": {
      "text/plain": [
       "[Book(COOKBOOK, [id: 140127325849248])]"
      ]
     },
     "execution_count": 12,
     "metadata": {},
     "output_type": "execute_result"
    }
   ],
   "source": [
    "library1.add_book(\"COOKBOOK\")\n",
    "library1.book_list"
   ]
  },
  {
   "cell_type": "code",
   "execution_count": 13,
   "metadata": {},
   "outputs": [
    {
     "name": "stdout",
     "output_type": "stream",
     "text": [
      "Book (NOTEPAD) Added in Library(SungSu Library)\n",
      "now SungSu Library has : [Book(COOKBOOK, [id: 140127325849248]), Book(NOTEPAD, [id: 140127325869056])]\n"
     ]
    },
    {
     "data": {
      "text/plain": [
       "[Book(COOKBOOK, [id: 140127325849248]), Book(NOTEPAD, [id: 140127325869056])]"
      ]
     },
     "execution_count": 13,
     "metadata": {},
     "output_type": "execute_result"
    }
   ],
   "source": [
    "library1.add_book(\"NOTEPAD\")\n",
    "library1.book_list"
   ]
  },
  {
   "cell_type": "code",
   "execution_count": 14,
   "metadata": {},
   "outputs": [],
   "source": [
    "def add_book(library, book_title):\n",
    "    book = Book(book_title, library)\n",
    "    \n",
    "    for library_book in library.book_list:\n",
    "        if library_book.title == book_title:\n",
    "            print(\"Already Have\")\n",
    "            break\n",
    "    else:\n",
    "        # for Else\n",
    "        library.book_list.append(book)\n",
    "        print(f\"Book ({book_title}) Added in Library({library.name})\")\n",
    "        print(f'now {library.name} has : {library.book_list}')"
   ]
  },
  {
   "cell_type": "code",
   "execution_count": 15,
   "metadata": {},
   "outputs": [
    {
     "name": "stdout",
     "output_type": "stream",
     "text": [
      "Already Have\n",
      "Book (KINGGOD) Added in Library(SungSu Library)\n",
      "now SungSu Library has : [Book(COOKBOOK, [id: 140127325849248]), Book(NOTEPAD, [id: 140127325869056]), Book(KINGGOD, [id: 140127325871744])]\n"
     ]
    }
   ],
   "source": [
    "add_book(library1, \"NOTEPAD\")\n",
    "add_book(library1, \"KINGGOD\")"
   ]
  },
  {
   "cell_type": "code",
   "execution_count": 16,
   "metadata": {},
   "outputs": [
    {
     "name": "stdout",
     "output_type": "stream",
     "text": [
      "Already Have\n",
      "Book (NOONE) Added in Library(SungSu Library)\n",
      "now SungSu Library has : [Book(COOKBOOK, [id: 140127325849248]), Book(NOTEPAD, [id: 140127325869056]), Book(KINGGOD, [id: 140127325871744]), Book(NOONE, [id: 140127325871800])]\n"
     ]
    }
   ],
   "source": [
    "library1.add_book(\"NOTEPAD\")\n",
    "library1.add_book(\"NOONE\")"
   ]
  },
  {
   "cell_type": "code",
   "execution_count": 17,
   "metadata": {},
   "outputs": [
    {
     "name": "stdout",
     "output_type": "stream",
     "text": [
      "Book (NOTEPAD) Removed in Library(SungSu Library)\n",
      "now SungSu Library has : [Book(COOKBOOK, [id: 140127325849248]), Book(KINGGOD, [id: 140127325871744]), Book(NOONE, [id: 140127325871800])]\n",
      "Can't Find\n"
     ]
    }
   ],
   "source": [
    "library1.remove_book(\"NOTEPAD\")\n",
    "library1.remove_book(\"MERONG\")"
   ]
  },
  {
   "cell_type": "code",
   "execution_count": 18,
   "metadata": {},
   "outputs": [],
   "source": [
    "def info(library):\n",
    "    string = ', '.join(list(map(str, library.book_list)))\n",
    "    return string"
   ]
  },
  {
   "cell_type": "code",
   "execution_count": 19,
   "metadata": {},
   "outputs": [
    {
     "name": "stdout",
     "output_type": "stream",
     "text": [
      "SungSu Library Book List\n",
      "1. COOKBOOK\n",
      "2. KINGGOD\n",
      "3. NOONE\n",
      "BOOK COUNT : 3\n"
     ]
    }
   ],
   "source": [
    "print(library1.info)"
   ]
  },
  {
   "cell_type": "code",
   "execution_count": 20,
   "metadata": {},
   "outputs": [
    {
     "name": "stdout",
     "output_type": "stream",
     "text": [
      "Book (NOONE) borrow from (SungSu Library)\n",
      "no book named (MERONG)\n"
     ]
    }
   ],
   "source": [
    "user1 = User(\"Song\")\n",
    "user1.borrow_book(library1, 'NOONE')\n",
    "user1.borrow_book(library1, 'MERONG')"
   ]
  },
  {
   "cell_type": "code",
   "execution_count": 21,
   "metadata": {},
   "outputs": [
    {
     "name": "stdout",
     "output_type": "stream",
     "text": [
      "SungSu Library Book List\n",
      "1. COOKBOOK\n",
      "2. KINGGOD\n",
      "BOOK COUNT : 2\n"
     ]
    }
   ],
   "source": [
    "print(library1.info)"
   ]
  },
  {
   "cell_type": "code",
   "execution_count": 22,
   "metadata": {},
   "outputs": [
    {
     "name": "stdout",
     "output_type": "stream",
     "text": [
      "Book (NOONE) return from (SungSu Library)\n"
     ]
    }
   ],
   "source": [
    "user1.return_book(library1, 'NOONE')"
   ]
  },
  {
   "cell_type": "code",
   "execution_count": 23,
   "metadata": {},
   "outputs": [
    {
     "data": {
      "text/plain": [
       "[]"
      ]
     },
     "execution_count": 23,
     "metadata": {},
     "output_type": "execute_result"
    }
   ],
   "source": [
    "user1.book_list"
   ]
  },
  {
   "cell_type": "code",
   "execution_count": 24,
   "metadata": {},
   "outputs": [
    {
     "name": "stdout",
     "output_type": "stream",
     "text": [
      "SungSu Library Book List\n",
      "1. COOKBOOK\n",
      "2. KINGGOD\n",
      "3. NOONE\n",
      "BOOK COUNT : 3\n"
     ]
    }
   ],
   "source": [
    "print(library1.info)"
   ]
  },
  {
   "cell_type": "code",
   "execution_count": 26,
   "metadata": {},
   "outputs": [
    {
     "name": "stdout",
     "output_type": "stream",
     "text": [
      "Book (NOONE) borrow from (SungSu Library)\n",
      "Book (COOKBOOK) borrow from (SungSu Library)\n",
      "Book List\n",
      "1. COOKBOOK (Song)\n",
      "2. KINGGOD (SungSu Library)\n",
      "3. WHATIF (SungSu Library)\n",
      "4. NOTEPAD (SungSu Library)\n",
      "5. KINGGOD (SungSu Library)\n",
      "6. NOONE (Song)\n",
      "BOOK COUNT 6\n"
     ]
    }
   ],
   "source": [
    "user1.borrow_book(library1, 'NOONE')\n",
    "user1.borrow_book(library1, 'COOKBOOK')\n",
    "print(Book.show_total_book_info())"
   ]
  },
  {
   "cell_type": "code",
   "execution_count": null,
   "metadata": {},
   "outputs": [],
   "source": []
  },
  {
   "cell_type": "code",
   "execution_count": null,
   "metadata": {},
   "outputs": [],
   "source": []
  }
 ],
 "metadata": {
  "kernelspec": {
   "display_name": "Python 3",
   "language": "python",
   "name": "python3"
  },
  "language_info": {
   "codemirror_mode": {
    "name": "ipython",
    "version": 3
   },
   "file_extension": ".py",
   "mimetype": "text/x-python",
   "name": "python",
   "nbconvert_exporter": "python",
   "pygments_lexer": "ipython3",
   "version": "3.6.6"
  }
 },
 "nbformat": 4,
 "nbformat_minor": 2
}
