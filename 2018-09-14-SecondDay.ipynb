{
 "cells": [
  {
   "cell_type": "code",
   "execution_count": 7,
   "metadata": {},
   "outputs": [
    {
     "name": "stdout",
     "output_type": "stream",
     "text": [
      "Fruit:  Apple , Color:  red\n",
      "Fruit:  baanan , Color:  yellow\n",
      "Fruit:  melon , Color:  green\n"
     ]
    }
   ],
   "source": [
    "fruits = ['Apple', 'baanan', 'melon']\n",
    "colors = ['red', 'yellow', 'green', 'purple', 'orango']\n",
    "\n",
    "for fruit, color in zip(fruits, colors):\n",
    "    print('Fruit: ', fruit, ', Color: ', color)"
   ]
  },
  {
   "cell_type": "code",
   "execution_count": 25,
   "metadata": {},
   "outputs": [
    {
     "name": "stdout",
     "output_type": "stream",
     "text": [
      "Fruit:  Apple , Color:  red\n",
      "Fruit:  baanan , Color:  yellow\n",
      "Fruit:  melon , Color:  green\n",
      "===\n",
      "Fruit:  Apple , Color:  red\n",
      "Fruit:  baanan , Color:  yellow\n",
      "Fruit:  melon , Color:  green\n",
      "===\n",
      "Fruits:  Apple , Color:  red\n",
      "Fruits:  baanan , Color:  yellow\n",
      "Fruits:  melon , Color:  green\n"
     ]
    }
   ],
   "source": [
    "\n",
    "\n",
    "for i, item in enumerate(fruits if len(fruits) < len(colors) else colors):\n",
    "    print('Fruit: ', item, ', Color: ', (fruits if len(fruits) > len(colors) else colors)[i])\n",
    "    \n",
    "print(\"===\")\n",
    "    \n",
    "for i in range(len(fruits)):\n",
    "    print('Fruit: ', fruits[i], ', Color: ', colors[i])\n",
    "    \n",
    "print(\"===\")\n",
    "\n",
    "for item in fruits:\n",
    "    print('Fruits: ', item, ', Color: ', colors[fruits.index(item)])"
   ]
  },
  {
   "cell_type": "code",
   "execution_count": 26,
   "metadata": {},
   "outputs": [
    {
     "name": "stdout",
     "output_type": "stream",
     "text": [
      "Fruit:  Apple , Color:  red\n",
      "Fruit:  baanan , Color:  yellow\n",
      "Fruit:  melon , Color:  green\n",
      "===\n"
     ]
    }
   ],
   "source": [
    "\n",
    "for i, item in enumerate(fruits if len(fruits) < len(colors) else colors):\n",
    "    print('Fruit: ', item, ', Color: ', (fruits if len(fruits) > len(colors) else colors)[i])\n",
    "    \n",
    "print(\"===\")\n",
    "\n",
    "short_list = fruits\n",
    "long_list = colors\n",
    "if len(fruits) > len(colors):\n",
    "    short_list, long_list = colors, fruits"
   ]
  },
  {
   "cell_type": "code",
   "execution_count": 39,
   "metadata": {},
   "outputs": [
    {
     "name": "stdout",
     "output_type": "stream",
     "text": [
      "Fruit:  red , Color:  red\n",
      "Fruit:  yellow , Color:  yellow\n",
      "Fruit:  green , Color:  green\n",
      "Fruit:  purple , Color:  purple\n",
      "Fruit:  orango , Color:  orango\n"
     ]
    }
   ],
   "source": [
    "for i, item in enumerate((fruits, colors)[len(fruits)<len(colors)]):\n",
    "    print('Fruit: ', item, ', Color: ', (fruits if len(fruits) > len(colors) else colors)[i])\n",
    "    "
   ]
  },
  {
   "cell_type": "code",
   "execution_count": 36,
   "metadata": {},
   "outputs": [
    {
     "name": "stdout",
     "output_type": "stream",
     "text": [
      "['Apple', 'baanan', 'melon']\n",
      "['red', 'yellow', 'green', 'purple', 'orango']\n"
     ]
    }
   ],
   "source": [
    "short_list,long_list = (fruits, colors) if len(fruits) < len(colors) else (colors, fruits)\n",
    "print(short_list)\n",
    "print(long_list)"
   ]
  },
  {
   "cell_type": "code",
   "execution_count": 37,
   "metadata": {},
   "outputs": [
    {
     "data": {
      "text/plain": [
       "['Apple', 'baanan', 'melon']"
      ]
     },
     "execution_count": 37,
     "metadata": {},
     "output_type": "execute_result"
    }
   ],
   "source": [
    "min([fruits, colors], key=len)"
   ]
  },
  {
   "cell_type": "code",
   "execution_count": 47,
   "metadata": {},
   "outputs": [
    {
     "name": "stdout",
     "output_type": "stream",
     "text": [
      "[1, 2, 3, 4, 5]\n",
      "[2, 4, 6, 8, 10]\n",
      "[2, 4]\n",
      "[4, 8]\n"
     ]
    }
   ],
   "source": [
    "# LIST COMPREHENSION\n",
    "# [<Expression> for <ITEM> in <ITERABLE>]\n",
    "\n",
    "a = [item for item in range(1, 6)]\n",
    "print(a)\n",
    "a = [item*2 for item in range(1, 6)]\n",
    "print(a)\n",
    "\n",
    "a = [item for item in range(1,6) if item % 2 == 0]\n",
    "print(a)\n",
    "a = [item*2 for item in range(1,6) if item % 2 == 0]\n",
    "print(a)"
   ]
  },
  {
   "cell_type": "code",
   "execution_count": 53,
   "metadata": {},
   "outputs": [
    {
     "name": "stdout",
     "output_type": "stream",
     "text": [
      "[('red', 'Apple'), ('red', 'baanan'), ('red', 'melon'), ('yellow', 'Apple'), ('yellow', 'baanan'), ('yellow', 'melon'), ('green', 'Apple'), ('green', 'baanan'), ('green', 'melon'), ('purple', 'Apple'), ('purple', 'baanan'), ('purple', 'melon'), ('orango', 'Apple'), ('orango', 'baanan'), ('orango', 'melon')]\n"
     ]
    }
   ],
   "source": [
    "results = []\n",
    "for color in colors:\n",
    "    for fruit in fruits:\n",
    "        results.append((color, fruit))\n",
    "        \n",
    "print(results)"
   ]
  },
  {
   "cell_type": "code",
   "execution_count": 52,
   "metadata": {},
   "outputs": [
    {
     "data": {
      "text/plain": [
       "[('red', 'Apple'),\n",
       " ('red', 'baanan'),\n",
       " ('red', 'melon'),\n",
       " ('yellow', 'Apple'),\n",
       " ('yellow', 'baanan'),\n",
       " ('yellow', 'melon'),\n",
       " ('green', 'Apple'),\n",
       " ('green', 'baanan'),\n",
       " ('green', 'melon'),\n",
       " ('purple', 'Apple'),\n",
       " ('purple', 'baanan'),\n",
       " ('purple', 'melon'),\n",
       " ('orango', 'Apple'),\n",
       " ('orango', 'baanan'),\n",
       " ('orango', 'melon')]"
      ]
     },
     "execution_count": 52,
     "metadata": {},
     "output_type": "execute_result"
    }
   ],
   "source": [
    "[(color, fruit) for color in colors for fruit in fruits]"
   ]
  },
  {
   "cell_type": "code",
   "execution_count": 57,
   "metadata": {},
   "outputs": [
    {
     "name": "stdout",
     "output_type": "stream",
     "text": [
      "(0, 0)\n",
      "(0, 1)\n",
      "(0, 2)\n",
      "(0, 3)\n",
      "(2, 0)\n",
      "(2, 1)\n",
      "(2, 2)\n",
      "(2, 3)\n",
      "(4, 0)\n",
      "(4, 1)\n",
      "(4, 2)\n",
      "(4, 3)\n",
      "(6, 0)\n",
      "(6, 1)\n",
      "(6, 2)\n",
      "(6, 3)\n"
     ]
    }
   ],
   "source": [
    "for i in range(0,7):\n",
    "    if i % 2 == 0:\n",
    "    for j in range(0,4):\n",
    "            print((i, j))"
   ]
  },
  {
   "cell_type": "code",
   "execution_count": 1,
   "metadata": {},
   "outputs": [
    {
     "data": {
      "text/plain": [
       "[(0, 1),\n",
       " (0, 3),\n",
       " (1, 1),\n",
       " (1, 3),\n",
       " (2, 1),\n",
       " (2, 3),\n",
       " (3, 1),\n",
       " (3, 3),\n",
       " (4, 1),\n",
       " (4, 3),\n",
       " (5, 1),\n",
       " (5, 3),\n",
       " (6, 1),\n",
       " (6, 3)]"
      ]
     },
     "execution_count": 1,
     "metadata": {},
     "output_type": "execute_result"
    }
   ],
   "source": [
    "[(i,j) for i in range(0,7) for j in range(0,4) if j%2 == 1]"
   ]
  },
  {
   "cell_type": "code",
   "execution_count": 60,
   "metadata": {},
   "outputs": [
    {
     "name": "stdout",
     "output_type": "stream",
     "text": [
      "750000\n"
     ]
    }
   ],
   "source": [
    "hap = 0\n",
    "for i in range(1000, 2001):\n",
    "    if i % 2 == 1:\n",
    "        hap+=i\n",
    "print(hap)"
   ]
  },
  {
   "cell_type": "code",
   "execution_count": 133,
   "metadata": {},
   "outputs": [
    {
     "name": "stdout",
     "output_type": "stream",
     "text": [
      "\n",
      "2Dan\n",
      "2 * 1 = 2\n",
      "2 * 2 = 4\n",
      "2 * 3 = 6\n",
      "2 * 4 = 8\n",
      "2 * 5 = 10\n",
      "2 * 6 = 12\n",
      "2 * 7 = 14\n",
      "2 * 8 = 16\n",
      "2 * 9 = 18\n",
      "\n",
      "3Dan\n",
      "3 * 1 = 3\n",
      "3 * 2 = 6\n",
      "3 * 3 = 9\n",
      "3 * 4 = 12\n",
      "3 * 5 = 15\n",
      "3 * 6 = 18\n",
      "3 * 7 = 21\n",
      "3 * 8 = 24\n",
      "3 * 9 = 27\n",
      "\n",
      "4Dan\n",
      "4 * 1 = 4\n",
      "4 * 2 = 8\n",
      "4 * 3 = 12\n",
      "4 * 4 = 16\n",
      "4 * 5 = 20\n",
      "4 * 6 = 24\n",
      "4 * 7 = 28\n",
      "4 * 8 = 32\n",
      "4 * 9 = 36\n",
      "\n",
      "5Dan\n",
      "5 * 1 = 5\n",
      "5 * 2 = 10\n",
      "5 * 3 = 15\n",
      "5 * 4 = 20\n",
      "5 * 5 = 25\n",
      "5 * 6 = 30\n",
      "5 * 7 = 35\n",
      "5 * 8 = 40\n",
      "5 * 9 = 45\n",
      "\n",
      "6Dan\n",
      "6 * 1 = 6\n",
      "6 * 2 = 12\n",
      "6 * 3 = 18\n",
      "6 * 4 = 24\n",
      "6 * 5 = 30\n",
      "6 * 6 = 36\n",
      "6 * 7 = 42\n",
      "6 * 8 = 48\n",
      "6 * 9 = 54\n",
      "\n",
      "7Dan\n",
      "7 * 1 = 7\n",
      "7 * 2 = 14\n",
      "7 * 3 = 21\n",
      "7 * 4 = 28\n",
      "7 * 5 = 35\n",
      "7 * 6 = 42\n",
      "7 * 7 = 49\n",
      "7 * 8 = 56\n",
      "7 * 9 = 63\n",
      "\n",
      "8Dan\n",
      "8 * 1 = 8\n",
      "8 * 2 = 16\n",
      "8 * 3 = 24\n",
      "8 * 4 = 32\n",
      "8 * 5 = 40\n",
      "8 * 6 = 48\n",
      "8 * 7 = 56\n",
      "8 * 8 = 64\n",
      "8 * 9 = 72\n",
      "\n",
      "9Dan\n",
      "9 * 1 = 9\n",
      "9 * 2 = 18\n",
      "9 * 3 = 27\n",
      "9 * 4 = 36\n",
      "9 * 5 = 45\n",
      "9 * 6 = 54\n",
      "9 * 7 = 63\n",
      "9 * 8 = 72\n",
      "9 * 9 = 81\n"
     ]
    }
   ],
   "source": [
    "gugu = [f'{i} * {j} = {i*j}' if j!=0 else f'\\n{i}Dan' for i in range(2, 10) for j in range(0, 10)]\n",
    "\n",
    "for item in gugu:\n",
    "    print(item)"
   ]
  },
  {
   "cell_type": "code",
   "execution_count": 135,
   "metadata": {},
   "outputs": [
    {
     "data": {
      "text/plain": [
       "['ArithmeticError',\n",
       " 'AssertionError',\n",
       " 'AttributeError',\n",
       " 'BaseException',\n",
       " 'BlockingIOError',\n",
       " 'BrokenPipeError',\n",
       " 'BufferError',\n",
       " 'BytesWarning',\n",
       " 'ChildProcessError',\n",
       " 'ConnectionAbortedError',\n",
       " 'ConnectionError',\n",
       " 'ConnectionRefusedError',\n",
       " 'ConnectionResetError',\n",
       " 'DeprecationWarning',\n",
       " 'EOFError',\n",
       " 'Ellipsis',\n",
       " 'EnvironmentError',\n",
       " 'Exception',\n",
       " 'False',\n",
       " 'FileExistsError',\n",
       " 'FileNotFoundError',\n",
       " 'FloatingPointError',\n",
       " 'FutureWarning',\n",
       " 'GeneratorExit',\n",
       " 'IOError',\n",
       " 'ImportError',\n",
       " 'ImportWarning',\n",
       " 'IndentationError',\n",
       " 'IndexError',\n",
       " 'InterruptedError',\n",
       " 'IsADirectoryError',\n",
       " 'KeyError',\n",
       " 'KeyboardInterrupt',\n",
       " 'LookupError',\n",
       " 'MemoryError',\n",
       " 'ModuleNotFoundError',\n",
       " 'NameError',\n",
       " 'None',\n",
       " 'NotADirectoryError',\n",
       " 'NotImplemented',\n",
       " 'NotImplementedError',\n",
       " 'OSError',\n",
       " 'OverflowError',\n",
       " 'PendingDeprecationWarning',\n",
       " 'PermissionError',\n",
       " 'ProcessLookupError',\n",
       " 'RecursionError',\n",
       " 'ReferenceError',\n",
       " 'ResourceWarning',\n",
       " 'RuntimeError',\n",
       " 'RuntimeWarning',\n",
       " 'StopAsyncIteration',\n",
       " 'StopIteration',\n",
       " 'SyntaxError',\n",
       " 'SyntaxWarning',\n",
       " 'SystemError',\n",
       " 'SystemExit',\n",
       " 'TabError',\n",
       " 'TimeoutError',\n",
       " 'True',\n",
       " 'TypeError',\n",
       " 'UnboundLocalError',\n",
       " 'UnicodeDecodeError',\n",
       " 'UnicodeEncodeError',\n",
       " 'UnicodeError',\n",
       " 'UnicodeTranslateError',\n",
       " 'UnicodeWarning',\n",
       " 'UserWarning',\n",
       " 'ValueError',\n",
       " 'Warning',\n",
       " 'ZeroDivisionError',\n",
       " '__IPYTHON__',\n",
       " '__build_class__',\n",
       " '__debug__',\n",
       " '__doc__',\n",
       " '__import__',\n",
       " '__loader__',\n",
       " '__name__',\n",
       " '__package__',\n",
       " '__spec__',\n",
       " 'abs',\n",
       " 'all',\n",
       " 'any',\n",
       " 'ascii',\n",
       " 'bin',\n",
       " 'bool',\n",
       " 'bytearray',\n",
       " 'bytes',\n",
       " 'callable',\n",
       " 'chr',\n",
       " 'classmethod',\n",
       " 'compile',\n",
       " 'complex',\n",
       " 'copyright',\n",
       " 'credits',\n",
       " 'delattr',\n",
       " 'dict',\n",
       " 'dir',\n",
       " 'display',\n",
       " 'divmod',\n",
       " 'enumerate',\n",
       " 'eval',\n",
       " 'exec',\n",
       " 'filter',\n",
       " 'float',\n",
       " 'format',\n",
       " 'frozenset',\n",
       " 'get_ipython',\n",
       " 'getattr',\n",
       " 'globals',\n",
       " 'hasattr',\n",
       " 'hash',\n",
       " 'help',\n",
       " 'hex',\n",
       " 'id',\n",
       " 'input',\n",
       " 'int',\n",
       " 'isinstance',\n",
       " 'issubclass',\n",
       " 'iter',\n",
       " 'len',\n",
       " 'license',\n",
       " 'list',\n",
       " 'locals',\n",
       " 'map',\n",
       " 'max',\n",
       " 'memoryview',\n",
       " 'min',\n",
       " 'next',\n",
       " 'object',\n",
       " 'oct',\n",
       " 'open',\n",
       " 'ord',\n",
       " 'pow',\n",
       " 'print',\n",
       " 'property',\n",
       " 'range',\n",
       " 'repr',\n",
       " 'reversed',\n",
       " 'round',\n",
       " 'set',\n",
       " 'setattr',\n",
       " 'slice',\n",
       " 'sorted',\n",
       " 'staticmethod',\n",
       " 'str',\n",
       " 'sum',\n",
       " 'super',\n",
       " 'tuple',\n",
       " 'type',\n",
       " 'vars',\n",
       " 'zip']"
      ]
     },
     "execution_count": 135,
     "metadata": {},
     "output_type": "execute_result"
    }
   ],
   "source": [
    "dir(__builtin__)"
   ]
  },
  {
   "cell_type": "code",
   "execution_count": 139,
   "metadata": {},
   "outputs": [
    {
     "name": "stdout",
     "output_type": "stream",
     "text": [
      "show_global_champion : Lux\n",
      "ater change global: Ahri\n",
      "Ahri\n"
     ]
    }
   ],
   "source": [
    "champion = 'Lux'\n",
    "\n",
    "def show_global_champion():\n",
    "    print('show_global_champion : {}'.format(champion))\n",
    "    \n",
    "def change_global_champion():\n",
    "#     print(f'before change global: {champion}')\n",
    "    global champion\n",
    "    champion = 'Ahri'\n",
    "    print(f'ater change global: {champion}')\n",
    "    \n",
    "show_global_champion()\n",
    "change_global_champion()\n",
    "print(champion)"
   ]
  },
  {
   "cell_type": "code",
   "execution_count": 147,
   "metadata": {},
   "outputs": [
    {
     "name": "stdout",
     "output_type": "stream",
     "text": [
      "local2 {'champion': 'Ezreal'}\n",
      "local1 {'local2': <function local1.<locals>.local2 at 0x7f2c842f1048>, 'champion': 'Ezreal'}\n",
      "global LUX\n"
     ]
    }
   ],
   "source": [
    "champion = 'LUX'\n",
    "\n",
    "def local1():\n",
    "    #     global champion\n",
    "    champion = 'Ahri'\n",
    "    \n",
    "    def local2():\n",
    "        nonlocal champion\n",
    "#         global champion\n",
    "        champion = 'Ezreal'\n",
    "        print('local2 {}'.format(locals()))\n",
    "        \n",
    "    local2()\n",
    "    print('local1 {}'.format(locals()))\n",
    "    \n",
    "local1()\n",
    "print('global {}'.format(champion))"
   ]
  },
  {
   "cell_type": "code",
   "execution_count": 153,
   "metadata": {},
   "outputs": [
    {
     "name": "stdout",
     "output_type": "stream",
     "text": [
      "94212812992352\n",
      "94212812993312\n",
      "130\n",
      "94212812992352\n",
      "100\n"
     ]
    }
   ],
   "source": [
    "global_level = 100\n",
    "def level_add(value):\n",
    "    print(id(value))\n",
    "    value += 30\n",
    "    print(id(value))\n",
    "    print(value)\n",
    "    \n",
    "level_add(global_level)\n",
    "print(id(global_level))\n",
    "print(global_level)"
   ]
  },
  {
   "cell_type": "code",
   "execution_count": 151,
   "metadata": {},
   "outputs": [
    {
     "name": "stdout",
     "output_type": "stream",
     "text": [
      "94212812993312\n",
      "130\n",
      "94212812993312\n",
      "130\n"
     ]
    }
   ],
   "source": [
    "global_level = 100\n",
    "def level_add():\n",
    "    global global_level\n",
    "    global_level += 30\n",
    "    print(id(global_level))\n",
    "    print(global_level)\n",
    "    \n",
    "level_add()\n",
    "print(id(global_level))\n",
    "print(global_level)"
   ]
  },
  {
   "cell_type": "code",
   "execution_count": 159,
   "metadata": {},
   "outputs": [
    {
     "name": "stdout",
     "output_type": "stream",
     "text": [
      "[]\n",
      "['a']\n",
      "['a']\n"
     ]
    }
   ],
   "source": [
    "global_list = []\n",
    "\n",
    "def list_add(value):\n",
    "    value.append('a')\n",
    "    print(value)\n",
    "    \n",
    "print(global_list)\n",
    "list_add(global_list)\n",
    "print(global_list)"
   ]
  },
  {
   "cell_type": "code",
   "execution_count": 160,
   "metadata": {},
   "outputs": [
    {
     "data": {
      "text/plain": [
       "25"
      ]
     },
     "execution_count": 160,
     "metadata": {},
     "output_type": "execute_result"
    }
   ],
   "source": [
    "# Definition Function\n",
    "def multi(x):\n",
    "    return x*x\n",
    "\n",
    "multi(5)"
   ]
  },
  {
   "cell_type": "code",
   "execution_count": 162,
   "metadata": {},
   "outputs": [
    {
     "data": {
      "text/plain": [
       "25"
      ]
     },
     "execution_count": 162,
     "metadata": {},
     "output_type": "execute_result"
    }
   ],
   "source": [
    "(lambda x: x*x)(5)"
   ]
  },
  {
   "cell_type": "code",
   "execution_count": 163,
   "metadata": {},
   "outputs": [
    {
     "data": {
      "text/plain": [
       "25"
      ]
     },
     "execution_count": 163,
     "metadata": {},
     "output_type": "execute_result"
    }
   ],
   "source": [
    "f = lambda x: x*x\n",
    "f(5)"
   ]
  },
  {
   "cell_type": "code",
   "execution_count": 164,
   "metadata": {},
   "outputs": [
    {
     "name": "stdout",
     "output_type": "stream",
     "text": [
      "a\n",
      "b\n",
      "c\n",
      "d\n",
      "e\n",
      "f\n",
      "g\n",
      "h\n",
      "i\n",
      "J\n",
      "K\n",
      "L\n",
      "M\n",
      "N\n",
      "O\n",
      "P\n",
      "Q\n",
      "R\n",
      "S\n",
      "T\n",
      "U\n",
      "V\n",
      "W\n",
      "X\n",
      "Y\n",
      "Z\n",
      "a\n",
      "b\n",
      "c\n",
      "d\n",
      "e\n",
      "f\n",
      "g\n",
      "h\n",
      "i\n",
      "J\n",
      "K\n",
      "L\n",
      "M\n",
      "N\n",
      "O\n",
      "P\n",
      "Q\n",
      "R\n",
      "S\n",
      "T\n",
      "U\n",
      "V\n",
      "W\n",
      "X\n",
      "Y\n",
      "Z\n"
     ]
    }
   ],
   "source": [
    "import string\n",
    "for char in string.ascii_lowercase:\n",
    "    if char > 'i':\n",
    "        print(char.upper())\n",
    "    else:\n",
    "        print(char)\n",
    "        \n",
    "for char in string.ascii_lowercase:\n",
    "    print((lambda x: x.upper() if x > 'i' else x)(char))"
   ]
  },
  {
   "cell_type": "code",
   "execution_count": 182,
   "metadata": {},
   "outputs": [
    {
     "name": "stdout",
     "output_type": "stream",
     "text": [
      "9\n",
      "9\n"
     ]
    }
   ],
   "source": [
    "def func_something(num):\n",
    "    return (num*num)\n",
    "\n",
    "# NORMAL\n",
    "def do_function(num, f):\n",
    "    return f(num)\n",
    "\n",
    "print(do_function(3, func_something))\n",
    "\n",
    "    \n",
    "# LAMBDA\n",
    "print((lambda x,y: y(x))(3, func_something))"
   ]
  },
  {
   "cell_type": "code",
   "execution_count": 187,
   "metadata": {},
   "outputs": [
    {
     "data": {
      "text/plain": [
       "'A'"
      ]
     },
     "execution_count": 187,
     "metadata": {},
     "output_type": "execute_result"
    }
   ],
   "source": [
    "def return_value_upper(value):\n",
    "    return value.upper()\n",
    "\n",
    "# def do_function(arg, function=return_value_upper):\n",
    "#     return function(arg)\n",
    "\n",
    "def do_function(arg, function=lambda value:value.upper())\n",
    "\n",
    "do_function('a')"
   ]
  },
  {
   "cell_type": "code",
   "execution_count": null,
   "metadata": {},
   "outputs": [],
   "source": []
  }
 ],
 "metadata": {
  "kernelspec": {
   "display_name": "Python 3",
   "language": "python",
   "name": "python3"
  },
  "language_info": {
   "codemirror_mode": {
    "name": "ipython",
    "version": 3
   },
   "file_extension": ".py",
   "mimetype": "text/x-python",
   "name": "python",
   "nbconvert_exporter": "python",
   "pygments_lexer": "ipython3",
   "version": "3.6.6"
  }
 },
 "nbformat": 4,
 "nbformat_minor": 2
}
