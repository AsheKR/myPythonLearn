{
 "cells": [
  {
   "cell_type": "markdown",
   "metadata": {},
   "source": [
    "## Decorator"
   ]
  },
  {
   "cell_type": "code",
   "execution_count": 8,
   "metadata": {},
   "outputs": [],
   "source": [
    "def square(x):\n",
    "    result = x**2\n",
    "#     print(\"Input\", x)\n",
    "#     print(\"Output\", result)\n",
    "    return result\n",
    "\n",
    "def multi(x, y):\n",
    "    result = x*y\n",
    "#     print(\"Input\", x, y)\n",
    "#     print(\"Output\", result)\n",
    "    return result\n"
   ]
  },
  {
   "cell_type": "code",
   "execution_count": 9,
   "metadata": {},
   "outputs": [],
   "source": [
    "result1 = square(3)"
   ]
  },
  {
   "cell_type": "code",
   "execution_count": 10,
   "metadata": {},
   "outputs": [],
   "source": [
    "result2 = multi(3, 5)"
   ]
  },
  {
   "cell_type": "code",
   "execution_count": 20,
   "metadata": {},
   "outputs": [],
   "source": [
    "# def debug\n",
    "# 1. ONE FUNCTION ARGUMENT (named \"f\")\n",
    "# 2. DEFINITION INNER FUNCTION (has args, kwargs)\n",
    "# 3. in INNER FUNCTION execute \"f\", assign result to \"result\"\n",
    "# 4. INNER FUNCTION return result\n",
    "# 5. OUTER FUNCTION return INNER FUNCTION\n",
    "\n",
    "def debug(f):\n",
    "    def wrapper(*args, **kwargs):\n",
    "        result = f(*args, **kwargs)\n",
    "        print(\"INPUT : \", \", \".join(map(str, args)))\n",
    "        print(\"OUTPUT : \", result)\n",
    "        return result\n",
    "    return wrapper"
   ]
  },
  {
   "cell_type": "code",
   "execution_count": 23,
   "metadata": {},
   "outputs": [
    {
     "name": "stdout",
     "output_type": "stream",
     "text": [
      "INPUT :  5\n",
      "OUTPUT :  25\n",
      "INPUT :  3, 5\n",
      "OUTPUT :  15\n"
     ]
    },
    {
     "data": {
      "text/plain": [
       "15"
      ]
     },
     "execution_count": 23,
     "metadata": {},
     "output_type": "execute_result"
    }
   ],
   "source": [
    "# debug argument transfer to \"square\" or \"multi\"\n",
    "# assign result to \"decorated_square\" or \"decorated_multi\"\n",
    "# exec new Variable\n",
    "\n",
    "decorated_square = debug(square)\n",
    "decorated_square(5)\n",
    "\n",
    "decorated_multi = debug(multi)\n",
    "decorated_multi(3,5)"
   ]
  },
  {
   "cell_type": "code",
   "execution_count": 25,
   "metadata": {},
   "outputs": [],
   "source": [
    "@debug\n",
    "def square(x):\n",
    "    result = x**2\n",
    "#     print(\"Input\", x)\n",
    "#     print(\"Output\", result)\n",
    "    return result\n",
    "\n",
    "@debug\n",
    "def multi(x, y):\n",
    "    result = x*y\n",
    "#     print(\"Input\", x, y)\n",
    "#     print(\"Output\", result)\n",
    "    return result\n"
   ]
  },
  {
   "cell_type": "code",
   "execution_count": 26,
   "metadata": {},
   "outputs": [
    {
     "name": "stdout",
     "output_type": "stream",
     "text": [
      "INPUT :  5\n",
      "OUTPUT :  25\n",
      "INPUT :  3, 5\n",
      "OUTPUT :  15\n"
     ]
    },
    {
     "data": {
      "text/plain": [
       "15"
      ]
     },
     "execution_count": 26,
     "metadata": {},
     "output_type": "execute_result"
    }
   ],
   "source": [
    "square(5)\n",
    "multi(3,5)"
   ]
  },
  {
   "cell_type": "markdown",
   "metadata": {},
   "source": [
    "## Generator"
   ]
  },
  {
   "cell_type": "code",
   "execution_count": 27,
   "metadata": {},
   "outputs": [
    {
     "name": "stdout",
     "output_type": "stream",
     "text": [
      "1\n",
      "2\n",
      "3\n",
      "4\n",
      "5\n",
      "6\n",
      "7\n",
      "8\n",
      "9\n",
      "10\n",
      "1\n",
      "2\n",
      "3\n",
      "4\n",
      "5\n",
      "6\n",
      "7\n",
      "8\n",
      "9\n",
      "10\n"
     ]
    }
   ],
   "source": [
    "for i in [1,2,3,4,5,6,7,8,9,10]:\n",
    "    print(i)\n",
    "    \n",
    "for i in range(1, 11):\n",
    "    print(i)"
   ]
  },
  {
   "cell_type": "code",
   "execution_count": 28,
   "metadata": {},
   "outputs": [],
   "source": [
    "def range_gen(num):\n",
    "    i = 0\n",
    "    while i < num:\n",
    "        print(i)\n",
    "        i += 1"
   ]
  },
  {
   "cell_type": "code",
   "execution_count": 29,
   "metadata": {},
   "outputs": [
    {
     "name": "stdout",
     "output_type": "stream",
     "text": [
      "0\n",
      "1\n",
      "2\n",
      "3\n",
      "4\n",
      "5\n",
      "6\n",
      "7\n",
      "8\n",
      "9\n"
     ]
    }
   ],
   "source": [
    "range_gen(10)"
   ]
  },
  {
   "cell_type": "code",
   "execution_count": 30,
   "metadata": {},
   "outputs": [],
   "source": [
    "def range_gen(num):\n",
    "    i = 0\n",
    "    while i < num:\n",
    "        yield i\n",
    "        i += 1"
   ]
  },
  {
   "cell_type": "code",
   "execution_count": 34,
   "metadata": {},
   "outputs": [],
   "source": [
    "result = range_gen(10)"
   ]
  },
  {
   "cell_type": "code",
   "execution_count": 35,
   "metadata": {},
   "outputs": [
    {
     "data": {
      "text/plain": [
       "generator"
      ]
     },
     "execution_count": 35,
     "metadata": {},
     "output_type": "execute_result"
    }
   ],
   "source": [
    "type(result)"
   ]
  },
  {
   "cell_type": "code",
   "execution_count": 36,
   "metadata": {},
   "outputs": [
    {
     "name": "stdout",
     "output_type": "stream",
     "text": [
      "0\n",
      "1\n",
      "2\n",
      "3\n",
      "4\n",
      "5\n",
      "6\n",
      "7\n",
      "8\n",
      "9\n"
     ]
    }
   ],
   "source": [
    "for i in result:\n",
    "    print(i)"
   ]
  },
  {
   "cell_type": "code",
   "execution_count": 37,
   "metadata": {},
   "outputs": [],
   "source": [
    "for i in result:\n",
    "    print(i)\n",
    "\n",
    "# NOTHING to have"
   ]
  },
  {
   "cell_type": "code",
   "execution_count": 42,
   "metadata": {},
   "outputs": [
    {
     "data": {
      "text/plain": [
       "0"
      ]
     },
     "execution_count": 42,
     "metadata": {},
     "output_type": "execute_result"
    }
   ],
   "source": [
    "result = range_gen(10)\n",
    "\n",
    "result.__next__()"
   ]
  },
  {
   "cell_type": "code",
   "execution_count": 43,
   "metadata": {},
   "outputs": [
    {
     "data": {
      "text/plain": [
       "1"
      ]
     },
     "execution_count": 43,
     "metadata": {},
     "output_type": "execute_result"
    }
   ],
   "source": [
    "result.__next__()"
   ]
  },
  {
   "cell_type": "code",
   "execution_count": 44,
   "metadata": {},
   "outputs": [
    {
     "ename": "StopIteration",
     "evalue": "",
     "output_type": "error",
     "traceback": [
      "\u001b[0;31m---------------------------------------------------------------------------\u001b[0m",
      "\u001b[0;31mStopIteration\u001b[0m                             Traceback (most recent call last)",
      "\u001b[0;32m<ipython-input-44-281810e9ceaa>\u001b[0m in \u001b[0;36m<module>\u001b[0;34m()\u001b[0m\n\u001b[1;32m      7\u001b[0m \u001b[0mresult\u001b[0m\u001b[0;34m.\u001b[0m\u001b[0m__next__\u001b[0m\u001b[0;34m(\u001b[0m\u001b[0;34m)\u001b[0m\u001b[0;34m\u001b[0m\u001b[0m\n\u001b[1;32m      8\u001b[0m \u001b[0mresult\u001b[0m\u001b[0;34m.\u001b[0m\u001b[0m__next__\u001b[0m\u001b[0;34m(\u001b[0m\u001b[0;34m)\u001b[0m\u001b[0;34m\u001b[0m\u001b[0m\n\u001b[0;32m----> 9\u001b[0;31m \u001b[0mresult\u001b[0m\u001b[0;34m.\u001b[0m\u001b[0m__next__\u001b[0m\u001b[0;34m(\u001b[0m\u001b[0;34m)\u001b[0m\u001b[0;34m\u001b[0m\u001b[0m\n\u001b[0m",
      "\u001b[0;31mStopIteration\u001b[0m: "
     ]
    }
   ],
   "source": [
    "result.__next__()\n",
    "result.__next__()\n",
    "result.__next__()\n",
    "result.__next__()\n",
    "result.__next__()\n",
    "result.__next__()\n",
    "result.__next__()\n",
    "result.__next__()\n",
    "result.__next__()"
   ]
  },
  {
   "cell_type": "code",
   "execution_count": 105,
   "metadata": {},
   "outputs": [
    {
     "name": "stdout",
     "output_type": "stream",
     "text": [
      "apple\n",
      "Help on function do_some in module __main__:\n",
      "\n",
      "do_some(str1)\n",
      "    Select Color\n",
      "\n",
      "None\n",
      "apple\n",
      "i don't know\n"
     ]
    }
   ],
   "source": [
    "def do_some(str1):\n",
    "    \"\"\"\n",
    "        Select Color\n",
    "    \"\"\"\n",
    "    if str1 == 'red':\n",
    "        result = 'apple'\n",
    "    elif str1 == 'yellow':\n",
    "        result = 'banana'\n",
    "    elif str1 == 'green':\n",
    "        result = 'melon'\n",
    "    else:\n",
    "        result = \"i don't know\"\n",
    "    return result\n",
    "\n",
    "color_fruit_dict = {\n",
    "    'red':'apple',\n",
    "    'yellow': 'banana',\n",
    "    'green': 'melon'\n",
    "}\n",
    "\n",
    "def do_some2(str1):\n",
    "    return color_fruit_dict.get(str1, \"i don't know\")\n",
    "\n",
    "print(do_some('red'))\n",
    "print(help(do_some))\n",
    "\n",
    "print(do_some('red'))\n",
    "print(do_some('blue'))"
   ]
  },
  {
   "cell_type": "code",
   "execution_count": 108,
   "metadata": {},
   "outputs": [
    {
     "name": "stdout",
     "output_type": "stream",
     "text": [
      "25\n",
      "30\n",
      "25\n",
      "30\n"
     ]
    }
   ],
   "source": [
    "def do_some2(*args):\n",
    "    if len(args) == 1:\n",
    "        return args[0] ** 2\n",
    "    return args[0] * args[1]\n",
    "    \n",
    "def do_some(x, y=None):\n",
    "    if y is None:\n",
    "        return x*x\n",
    "    return x*y\n",
    "\n",
    "print(do_some2(5))\n",
    "print(do_some2(5, 6))\n",
    "print(do_some(5))\n",
    "print(do_some(5, 6))"
   ]
  },
  {
   "cell_type": "code",
   "execution_count": 111,
   "metadata": {},
   "outputs": [
    {
     "name": "stdout",
     "output_type": "stream",
     "text": [
      "(7, 3)\n",
      "(11, 1)\n",
      "(11, 1)\n"
     ]
    }
   ],
   "source": [
    "def do_some3(x, y):\n",
    "    return (x+y, x-y)\n",
    "\n",
    "def do_some4(x, y):\n",
    "    return x+y, x-y if x > y else y - x\n",
    "\n",
    "def do_some5(x,y):\n",
    "    return x+y, x > y and x-y or y-x\n",
    "\n",
    "# x > y and x - y\n",
    "# False or y - x\n",
    "\n",
    "print(do_some3(5, 2))\n",
    "print(do_some4(5, 6))\n",
    "print(do_some5(6, 5))"
   ]
  },
  {
   "cell_type": "code",
   "execution_count": 116,
   "metadata": {},
   "outputs": [
    {
     "name": "stdout",
     "output_type": "stream",
     "text": [
      "False\n"
     ]
    }
   ],
   "source": [
    "print(5 > 6 and 'NOT')\n",
    "# x and y = if x is true x\n",
    "# x and y = if x is false y"
   ]
  },
  {
   "cell_type": "code",
   "execution_count": 50,
   "metadata": {},
   "outputs": [
    {
     "name": "stdout",
     "output_type": "stream",
     "text": [
      "4\n"
     ]
    },
    {
     "data": {
      "text/plain": [
       "4"
      ]
     },
     "execution_count": 50,
     "metadata": {},
     "output_type": "execute_result"
    }
   ],
   "source": [
    "def do_some4(*args):\n",
    "    print(len(args))\n",
    "    return len(args)\n",
    "\n",
    "do_some4(1,2,3,45)"
   ]
  },
  {
   "cell_type": "code",
   "execution_count": 96,
   "metadata": {},
   "outputs": [],
   "source": [
    "mt1 = list(map((lambda x: f'{x[0]} * {x[1]} = {x[0] * x[1]}'), \n",
    "                                [(i, j)for i in range(2, 10) for j in range(1, 10)]))\n"
   ]
  },
  {
   "cell_type": "code",
   "execution_count": 100,
   "metadata": {},
   "outputs": [],
   "source": [
    "mt2 = (lambda x, y: [f'{i} * {j} = {i*j}' \\\n",
    "                    for i in range(x, y+1) for j in range(1, 10)])(2, 9)"
   ]
  },
  {
   "cell_type": "code",
   "execution_count": 117,
   "metadata": {},
   "outputs": [],
   "source": [
    "mt3 = [(lambda x, y: f'{x}x{y}={x*y}')(a,b) for a in range(2, 10) for b in range(1, 10)]"
   ]
  },
  {
   "cell_type": "code",
   "execution_count": 118,
   "metadata": {},
   "outputs": [
    {
     "data": {
      "text/plain": [
       "['2x1=2',\n",
       " '2x2=4',\n",
       " '2x3=6',\n",
       " '2x4=8',\n",
       " '2x5=10',\n",
       " '2x6=12',\n",
       " '2x7=14',\n",
       " '2x8=16',\n",
       " '2x9=18',\n",
       " '3x1=3',\n",
       " '3x2=6',\n",
       " '3x3=9',\n",
       " '3x4=12',\n",
       " '3x5=15',\n",
       " '3x6=18',\n",
       " '3x7=21',\n",
       " '3x8=24',\n",
       " '3x9=27',\n",
       " '4x1=4',\n",
       " '4x2=8',\n",
       " '4x3=12',\n",
       " '4x4=16',\n",
       " '4x5=20',\n",
       " '4x6=24',\n",
       " '4x7=28',\n",
       " '4x8=32',\n",
       " '4x9=36',\n",
       " '5x1=5',\n",
       " '5x2=10',\n",
       " '5x3=15',\n",
       " '5x4=20',\n",
       " '5x5=25',\n",
       " '5x6=30',\n",
       " '5x7=35',\n",
       " '5x8=40',\n",
       " '5x9=45',\n",
       " '6x1=6',\n",
       " '6x2=12',\n",
       " '6x3=18',\n",
       " '6x4=24',\n",
       " '6x5=30',\n",
       " '6x6=36',\n",
       " '6x7=42',\n",
       " '6x8=48',\n",
       " '6x9=54',\n",
       " '7x1=7',\n",
       " '7x2=14',\n",
       " '7x3=21',\n",
       " '7x4=28',\n",
       " '7x5=35',\n",
       " '7x6=42',\n",
       " '7x7=49',\n",
       " '7x8=56',\n",
       " '7x9=63',\n",
       " '8x1=8',\n",
       " '8x2=16',\n",
       " '8x3=24',\n",
       " '8x4=32',\n",
       " '8x5=40',\n",
       " '8x6=48',\n",
       " '8x7=56',\n",
       " '8x8=64',\n",
       " '8x9=72',\n",
       " '9x1=9',\n",
       " '9x2=18',\n",
       " '9x3=27',\n",
       " '9x4=36',\n",
       " '9x5=45',\n",
       " '9x6=54',\n",
       " '9x7=63',\n",
       " '9x8=72',\n",
       " '9x9=81']"
      ]
     },
     "execution_count": 118,
     "metadata": {},
     "output_type": "execute_result"
    }
   ],
   "source": [
    "mt3"
   ]
  },
  {
   "cell_type": "code",
   "execution_count": 128,
   "metadata": {},
   "outputs": [
    {
     "name": "stdout",
     "output_type": "stream",
     "text": [
      "3\n",
      "3\n"
     ]
    }
   ],
   "source": [
    "sample = 'ABCDEFGHIJKLMNOP'\n",
    "\n",
    "def sequential_search1(string, key):\n",
    "     for i, item in enumerate(string):\n",
    "#             print(i, item)\n",
    "            if item == key:\n",
    "                return i\n",
    "\n",
    "def sequential_search2(string, key):\n",
    "    i = 0\n",
    "    while len(string) > i:\n",
    "        if key == string[i]:\n",
    "            return i\n",
    "        i += 1\n",
    "    \n",
    "result = sequential_search1('ABCDE', 'D')\n",
    "print(result)\n",
    "result = sequential_search2('ABCDE', 'D')\n",
    "print(result)\n",
    "# 3"
   ]
  },
  {
   "cell_type": "code",
   "execution_count": 146,
   "metadata": {},
   "outputs": [
    {
     "name": "stdout",
     "output_type": "stream",
     "text": [
      "['0', '1', '2', '3', '4', '5', '6', '7', '8', '9']\n",
      "['0', '1', '2', '3', '4', '5', '5', '6', '7', '8', '9']\n"
     ]
    }
   ],
   "source": [
    "sample1 = list('9168432057')\n",
    "sample2 = list('15498706253')\n",
    "\n",
    "def selection_sort(ls):\n",
    "    for i in range(0, len(ls)):\n",
    "        min_ = i\n",
    "\n",
    "        for j in range(i+1, len(ls)):\n",
    "            if ls[min_] > ls[j]:\n",
    "                min_ = j\n",
    "        ls[i], ls[min_] = ls[min_], ls[i]\n",
    "    \n",
    "    return ls\n",
    "    \n",
    "print(selection_sort(sample1))\n",
    "print(selection_sort(sample2))"
   ]
  },
  {
   "cell_type": "code",
   "execution_count": 148,
   "metadata": {},
   "outputs": [
    {
     "data": {
      "text/plain": [
       "['0', '1', '2', '3', '4', '5', '6', '7', '8', '9']"
      ]
     },
     "execution_count": 148,
     "metadata": {},
     "output_type": "execute_result"
    }
   ],
   "source": [
    "(lambda l:[l.pop(l.index(min(l)))for _ in l[:]])(sample1)"
   ]
  },
  {
   "cell_type": "code",
   "execution_count": 171,
   "metadata": {},
   "outputs": [
    {
     "name": "stdout",
     "output_type": "stream",
     "text": [
      "9\n",
      "1\n",
      "6\n",
      "8\n",
      "4\n",
      "3\n",
      "2\n",
      "0\n",
      "5\n",
      "7\n",
      "['7', '5', '0', '2', '3', '4', '8', '6', '1', '9']\n",
      "[]\n",
      "9\n",
      "1\n",
      "6\n",
      "8\n",
      "4\n",
      "['7', '5', '0', '2', '3']\n",
      "['9', '1', '6', '8', '4']\n"
     ]
    }
   ],
   "source": [
    "sample1 = list('9168432057')\n",
    "sample2 = list('9168432057')\n",
    "\n",
    "def sort1(sam):\n",
    "    poped_fac = []\n",
    "    for i in sam[:]                  # sam[:] mean [9,1,6,8,4,3,2,0,5,7]\n",
    "        print(i)\n",
    "        poped_fac.append(sam.pop())\n",
    "    print(poped_fac)                 # so you can pop all factor\n",
    "    print(sam)\n",
    "        \n",
    "def sort2(sam):\n",
    "    poped_fac = []\n",
    "    for i in sam:                    # sam mean sam's address\n",
    "        print(i)\n",
    "        poped_fac.append(sam.pop())  # pop works from behind\n",
    "    print(poped_fac)\n",
    "    print(sam)\n",
    "        \n",
    "sort1(sample1)\n",
    "sort2(sample2)"
   ]
  },
  {
   "cell_type": "code",
   "execution_count": 173,
   "metadata": {},
   "outputs": [
    {
     "name": "stdout",
     "output_type": "stream",
     "text": [
      "['0', '1', '2', '3', '4', '5', '6', '7', '8', '9']\n"
     ]
    }
   ],
   "source": [
    "sample3 = list('9168432057')\n",
    "\n",
    "def sort3(sam):\n",
    "    poped_fac = []\n",
    "    for _ in sam[:]:\n",
    "        poped_fac.append(sam.pop(sam.index(min(sam))))\n",
    "    print(poped_fac)\n",
    "        \n",
    "sort3(sample3)"
   ]
  },
  {
   "cell_type": "code",
   "execution_count": 174,
   "metadata": {},
   "outputs": [
    {
     "data": {
      "text/plain": [
       "['0', '1', '2', '3', '4', '5', '6', '7', '8', '9']"
      ]
     },
     "execution_count": 174,
     "metadata": {},
     "output_type": "execute_result"
    }
   ],
   "source": [
    "sample4 = list('9168432057')\n",
    "\n",
    "(lambda l:[l.pop(l.index(min(l))) for _ in l[:]])(sample4)"
   ]
  },
  {
   "cell_type": "code",
   "execution_count": 209,
   "metadata": {},
   "outputs": [
    {
     "name": "stdout",
     "output_type": "stream",
     "text": [
      "['9', '1', '6', '8', '4', '3', '2', '0', '5', '7']\n",
      "['0', '1', '2', '3', '4', '5', '6', '7', '8', '9']\n"
     ]
    }
   ],
   "source": [
    "sample5 = list('9168432057')\n",
    "print(sample5)\n",
    "\n",
    "for x in range(len(sample5) - 1):\n",
    "    min_ = x\n",
    "    for y, item in enumerate(sample5[x:]):\n",
    "        if sample5[min_] > sample5[y+x]:\n",
    "            min_ = y+x\n",
    "    \n",
    "    sample5[min_], sample5[x] = sample5[x], sample5[min_]\n",
    "print(sample5)"
   ]
  },
  {
   "cell_type": "code",
   "execution_count": 208,
   "metadata": {
    "scrolled": true
   },
   "outputs": [
    {
     "name": "stdout",
     "output_type": "stream",
     "text": [
      "4.0\n"
     ]
    },
    {
     "ename": "ZeroDivisionError",
     "evalue": "division by zero",
     "output_type": "error",
     "traceback": [
      "\u001b[0;31m---------------------------------------------------------------------------\u001b[0m",
      "\u001b[0;31mZeroDivisionError\u001b[0m                         Traceback (most recent call last)",
      "\u001b[0;32m<ipython-input-208-6877bd004eac>\u001b[0m in \u001b[0;36m<module>\u001b[0;34m()\u001b[0m\n\u001b[1;32m      1\u001b[0m \u001b[0mprint\u001b[0m\u001b[0;34m(\u001b[0m\u001b[0;34m(\u001b[0m\u001b[0;32mlambda\u001b[0m \u001b[0mx\u001b[0m\u001b[0;34m:\u001b[0m\u001b[0mlen\u001b[0m\u001b[0;34m(\u001b[0m\u001b[0mx\u001b[0m\u001b[0;34m)\u001b[0m\u001b[0;34m/\u001b[0m\u001b[0;34m(\u001b[0m\u001b[0mx\u001b[0m\u001b[0;34m!=\u001b[0m\u001b[0;34m'google'\u001b[0m\u001b[0;34m)\u001b[0m\u001b[0;34m)\u001b[0m\u001b[0;34m(\u001b[0m\u001b[0;34m'bing'\u001b[0m\u001b[0;34m)\u001b[0m\u001b[0;34m)\u001b[0m\u001b[0;34m\u001b[0m\u001b[0m\n\u001b[0;32m----> 2\u001b[0;31m \u001b[0;34m(\u001b[0m\u001b[0;32mlambda\u001b[0m \u001b[0mx\u001b[0m\u001b[0;34m:\u001b[0m\u001b[0mlen\u001b[0m\u001b[0;34m(\u001b[0m\u001b[0mx\u001b[0m\u001b[0;34m)\u001b[0m\u001b[0;34m/\u001b[0m\u001b[0;34m(\u001b[0m\u001b[0mx\u001b[0m\u001b[0;34m!=\u001b[0m\u001b[0;34m'google'\u001b[0m\u001b[0;34m)\u001b[0m\u001b[0;34m)\u001b[0m\u001b[0;34m(\u001b[0m\u001b[0;34m'google'\u001b[0m\u001b[0;34m)\u001b[0m\u001b[0;34m\u001b[0m\u001b[0m\n\u001b[0m",
      "\u001b[0;32m<ipython-input-208-6877bd004eac>\u001b[0m in \u001b[0;36m<lambda>\u001b[0;34m(x)\u001b[0m\n\u001b[1;32m      1\u001b[0m \u001b[0mprint\u001b[0m\u001b[0;34m(\u001b[0m\u001b[0;34m(\u001b[0m\u001b[0;32mlambda\u001b[0m \u001b[0mx\u001b[0m\u001b[0;34m:\u001b[0m\u001b[0mlen\u001b[0m\u001b[0;34m(\u001b[0m\u001b[0mx\u001b[0m\u001b[0;34m)\u001b[0m\u001b[0;34m/\u001b[0m\u001b[0;34m(\u001b[0m\u001b[0mx\u001b[0m\u001b[0;34m!=\u001b[0m\u001b[0;34m'google'\u001b[0m\u001b[0;34m)\u001b[0m\u001b[0;34m)\u001b[0m\u001b[0;34m(\u001b[0m\u001b[0;34m'bing'\u001b[0m\u001b[0;34m)\u001b[0m\u001b[0;34m)\u001b[0m\u001b[0;34m\u001b[0m\u001b[0m\n\u001b[0;32m----> 2\u001b[0;31m \u001b[0;34m(\u001b[0m\u001b[0;32mlambda\u001b[0m \u001b[0mx\u001b[0m\u001b[0;34m:\u001b[0m\u001b[0mlen\u001b[0m\u001b[0;34m(\u001b[0m\u001b[0mx\u001b[0m\u001b[0;34m)\u001b[0m\u001b[0;34m/\u001b[0m\u001b[0;34m(\u001b[0m\u001b[0mx\u001b[0m\u001b[0;34m!=\u001b[0m\u001b[0;34m'google'\u001b[0m\u001b[0;34m)\u001b[0m\u001b[0;34m)\u001b[0m\u001b[0;34m(\u001b[0m\u001b[0;34m'google'\u001b[0m\u001b[0;34m)\u001b[0m\u001b[0;34m\u001b[0m\u001b[0m\n\u001b[0m",
      "\u001b[0;31mZeroDivisionError\u001b[0m: division by zero"
     ]
    }
   ],
   "source": [
    "print((lambda x:len(x)/(x!='google'))('bing'))\n",
    "\n",
    "(lambda x:len(x)/(x!='google'))('google')"
   ]
  },
  {
   "cell_type": "code",
   "execution_count": null,
   "metadata": {},
   "outputs": [],
   "source": []
  }
 ],
 "metadata": {
  "kernelspec": {
   "display_name": "Python 3",
   "language": "python",
   "name": "python3"
  },
  "language_info": {
   "codemirror_mode": {
    "name": "ipython",
    "version": 3
   },
   "file_extension": ".py",
   "mimetype": "text/x-python",
   "name": "python",
   "nbconvert_exporter": "python",
   "pygments_lexer": "ipython3",
   "version": "3.6.6"
  }
 },
 "nbformat": 4,
 "nbformat_minor": 2
}
