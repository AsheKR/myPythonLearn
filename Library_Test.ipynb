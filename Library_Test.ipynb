{
 "cells": [
  {
   "cell_type": "code",
   "execution_count": 481,
   "metadata": {},
   "outputs": [],
   "source": [
    "#Library\n",
    "\n",
    "class Library:\n",
    "    def __init__(self, name):\n",
    "        self.__name = name\n",
    "        self.__book = []\n",
    "    \n",
    "    # getter / setter\n",
    "    def get_name(self):\n",
    "        return self.__name\n",
    "    \n",
    "    # Book display\n",
    "    def all_book_info(self):\n",
    "        string = \", \".join(map(str, self.__book))\n",
    "        return string\n",
    "    \n",
    "    @property\n",
    "    def info(self):\n",
    "        string = \", \".join(map(str, list(filter(lambda x: x.is_borrowed=='Library', self.__book))))\n",
    "        return string\n",
    "    \n",
    "    # find Book\n",
    "    def find_book(self, name):\n",
    "        index = self.all_book_info().split(', ').index(name)\n",
    "        return self.__book[index]\n",
    "    \n",
    "    # Book add / remove\n",
    "    def add_book(self, name):\n",
    "        self.__book.append(Book(name))\n",
    "        self.__book[-1].is_borrowed = 'Library'\n",
    "        \n",
    "    def remove_book(self, name):\n",
    "        for i, item in enumerate(self.__book):\n",
    "            if item.__repr__() == name:\n",
    "                print(item)\n",
    "                del self.__book[i]"
   ]
  },
  {
   "cell_type": "code",
   "execution_count": 482,
   "metadata": {},
   "outputs": [],
   "source": [
    "# Book\n",
    "\n",
    "class Book:\n",
    "    def __init__(self, title):\n",
    "        self.__title = title\n",
    "        \n",
    "    def __repr__(self):\n",
    "        return self.__title\n",
    "    \n",
    "    @property\n",
    "    def is_borrowed(self):\n",
    "        return self.__location\n",
    "    \n",
    "    @is_borrowed.setter\n",
    "    def is_borrowed(self, location):\n",
    "        self.__location = location"
   ]
  },
  {
   "cell_type": "code",
   "execution_count": 483,
   "metadata": {},
   "outputs": [],
   "source": [
    "# User\n",
    "\n",
    "class User:\n",
    "    def __init__(self, name):\n",
    "        self.__name = name\n",
    "        self.__book_list = []\n",
    "        \n",
    "    # getter / setter\n",
    "    def get_name(self):\n",
    "        return self.__name\n",
    "    \n",
    "    def get_book_list(self):\n",
    "        return self.__book_list\n",
    "        \n",
    "    def borrow_book(self, library, book_name):\n",
    "        finded_book = library.find_book(book_name)\n",
    "        self.__book_list.append(finded_book)\n",
    "        finded_book.is_borrowed = 'User'\n",
    "        \n",
    "    def return_book(self, library, book_name):\n",
    "        finded_book = library.find_book(book_name)\n",
    "        del self.__book_list[self.__book_list.index(finded_book)]\n",
    "        finded_book.is_borrowed = 'Library'"
   ]
  },
  {
   "cell_type": "code",
   "execution_count": 515,
   "metadata": {},
   "outputs": [
    {
     "name": "stdout",
     "output_type": "stream",
     "text": [
      "Library Name :  Aesthetics\n"
     ]
    }
   ],
   "source": [
    "lb_aes = Library('Aesthetics')\n",
    "\n",
    "print('Library Name : ', lb_aes.get_name())"
   ]
  },
  {
   "cell_type": "code",
   "execution_count": 516,
   "metadata": {},
   "outputs": [],
   "source": [
    "lb_aes.add_book('Beauti')\n",
    "lb_aes.add_book('Handy')\n",
    "lb_aes.add_book('Hair')\n",
    "lb_aes.add_book('Adward')\n",
    "lb_aes.add_book('Sword')\n",
    "lb_aes.add_book('Defence')"
   ]
  },
  {
   "cell_type": "code",
   "execution_count": 517,
   "metadata": {},
   "outputs": [
    {
     "name": "stdout",
     "output_type": "stream",
     "text": [
      "Beauti, Handy, Hair, Adward, Sword, Defence\n"
     ]
    }
   ],
   "source": [
    "print(lb_aes.info)"
   ]
  },
  {
   "cell_type": "code",
   "execution_count": 518,
   "metadata": {},
   "outputs": [],
   "source": [
    "song = User('song Gil Young')"
   ]
  },
  {
   "cell_type": "code",
   "execution_count": 519,
   "metadata": {},
   "outputs": [],
   "source": [
    "song.borrow_book(lb_aes, 'Beauti')\n",
    "song.borrow_book(lb_aes, 'Adward')\n",
    "song.borrow_book(lb_aes, 'Defence')"
   ]
  },
  {
   "cell_type": "code",
   "execution_count": 520,
   "metadata": {},
   "outputs": [
    {
     "name": "stdout",
     "output_type": "stream",
     "text": [
      "Handy, Hair, Sword\n"
     ]
    }
   ],
   "source": [
    "print(lb_aes.info)"
   ]
  },
  {
   "cell_type": "code",
   "execution_count": 521,
   "metadata": {},
   "outputs": [],
   "source": [
    "song.return_book(lb_aes, 'Adward')"
   ]
  },
  {
   "cell_type": "code",
   "execution_count": 522,
   "metadata": {},
   "outputs": [
    {
     "name": "stdout",
     "output_type": "stream",
     "text": [
      "Handy, Hair, Adward, Sword\n"
     ]
    }
   ],
   "source": [
    "print(lb_aes.info)"
   ]
  },
  {
   "cell_type": "code",
   "execution_count": 523,
   "metadata": {},
   "outputs": [
    {
     "name": "stdout",
     "output_type": "stream",
     "text": [
      "Sword\n"
     ]
    }
   ],
   "source": [
    "lb_aes.remove_book('Sword')"
   ]
  },
  {
   "cell_type": "code",
   "execution_count": 524,
   "metadata": {},
   "outputs": [
    {
     "name": "stdout",
     "output_type": "stream",
     "text": [
      "Handy, Hair, Adward\n"
     ]
    }
   ],
   "source": [
    "print(lb_aes.info)"
   ]
  },
  {
   "cell_type": "code",
   "execution_count": 442,
   "metadata": {},
   "outputs": [],
   "source": [
    "def start_lib():\n",
    "    main_menu = {'1':library_menu, '2':user_menu}\n",
    "    while True:\n",
    "        choice = input('1. Library\\n'\n",
    "                '2. User\\n'\n",
    "                '3. EXIT\\n\\t:')\n",
    "        main_menu[choice]()"
   ]
  },
  {
   "cell_type": "code",
   "execution_count": 443,
   "metadata": {},
   "outputs": [],
   "source": [
    "def library_menu():\n",
    "   choice = input('1. Add Library\\n'\n",
    "           '2. Book info (Not include \"Borrowed Book\")\\n'\n",
    "           '3. Book info (include \"Borrowed Book\")\\n'\n",
    "           '4. Add Book\\n'\n",
    "           '5. Delete Book\\n'\n",
    "           '0. Prev\\n\\t:')\n",
    "   print(choice)\n"
   ]
  },
  {
   "cell_type": "code",
   "execution_count": 444,
   "metadata": {},
   "outputs": [],
   "source": [
    "def user_menu():\n",
    "    choice = input('1. User Add\\n'\n",
    "            '2. Borrow Book\\n'\n",
    "            '3. Return Book\\n'\n",
    "            '0. Prev\\n\\t:')\n",
    "    print(choice)\n"
   ]
  },
  {
   "cell_type": "code",
   "execution_count": 466,
   "metadata": {},
   "outputs": [],
   "source": [
    "class input_menu:\n",
    "    def __init__(self, choice_str):\n",
    "        self.choice_str = choice_str\n",
    "        \n",
    "    def choice_menu(self):\n",
    "        choice = input(self.choice_str)\n",
    "        self.menu_dict.get(choice, \"Select Again\")()"
   ]
  },
  {
   "cell_type": "code",
   "execution_count": 467,
   "metadata": {},
   "outputs": [],
   "source": [
    "class start_menu(input_menu):\n",
    "    def __init__(self, choice_str):\n",
    "        super().__init__(choice_str)\n",
    "        self.menu_dict = {'1':library_menu, '2':user_menu}"
   ]
  },
  {
   "cell_type": "code",
   "execution_count": 469,
   "metadata": {},
   "outputs": [
    {
     "name": "stdout",
     "output_type": "stream",
     "text": [
      "1. Library\n",
      "2. User\n",
      "3. EXIT\n",
      "\t:1\n"
     ]
    },
    {
     "ename": "KeyboardInterrupt",
     "evalue": "",
     "output_type": "error",
     "traceback": [
      "\u001b[0;31m---------------------------------------------------------------------------\u001b[0m",
      "\u001b[0;31mKeyboardInterrupt\u001b[0m                         Traceback (most recent call last)",
      "\u001b[0;32m~/.pyenv/versions/3.6.6/envs/fc-python/lib/python3.6/site-packages/ipykernel/kernelbase.py\u001b[0m in \u001b[0;36m_input_request\u001b[0;34m(self, prompt, ident, parent, password)\u001b[0m\n\u001b[1;32m    728\u001b[0m             \u001b[0;32mtry\u001b[0m\u001b[0;34m:\u001b[0m\u001b[0;34m\u001b[0m\u001b[0m\n\u001b[0;32m--> 729\u001b[0;31m                 \u001b[0mident\u001b[0m\u001b[0;34m,\u001b[0m \u001b[0mreply\u001b[0m \u001b[0;34m=\u001b[0m \u001b[0mself\u001b[0m\u001b[0;34m.\u001b[0m\u001b[0msession\u001b[0m\u001b[0;34m.\u001b[0m\u001b[0mrecv\u001b[0m\u001b[0;34m(\u001b[0m\u001b[0mself\u001b[0m\u001b[0;34m.\u001b[0m\u001b[0mstdin_socket\u001b[0m\u001b[0;34m,\u001b[0m \u001b[0;36m0\u001b[0m\u001b[0;34m)\u001b[0m\u001b[0;34m\u001b[0m\u001b[0m\n\u001b[0m\u001b[1;32m    730\u001b[0m             \u001b[0;32mexcept\u001b[0m \u001b[0mException\u001b[0m\u001b[0;34m:\u001b[0m\u001b[0;34m\u001b[0m\u001b[0m\n",
      "\u001b[0;32m~/.pyenv/versions/3.6.6/envs/fc-python/lib/python3.6/site-packages/jupyter_client/session.py\u001b[0m in \u001b[0;36mrecv\u001b[0;34m(self, socket, mode, content, copy)\u001b[0m\n\u001b[1;32m    802\u001b[0m         \u001b[0;32mtry\u001b[0m\u001b[0;34m:\u001b[0m\u001b[0;34m\u001b[0m\u001b[0m\n\u001b[0;32m--> 803\u001b[0;31m             \u001b[0mmsg_list\u001b[0m \u001b[0;34m=\u001b[0m \u001b[0msocket\u001b[0m\u001b[0;34m.\u001b[0m\u001b[0mrecv_multipart\u001b[0m\u001b[0;34m(\u001b[0m\u001b[0mmode\u001b[0m\u001b[0;34m,\u001b[0m \u001b[0mcopy\u001b[0m\u001b[0;34m=\u001b[0m\u001b[0mcopy\u001b[0m\u001b[0;34m)\u001b[0m\u001b[0;34m\u001b[0m\u001b[0m\n\u001b[0m\u001b[1;32m    804\u001b[0m         \u001b[0;32mexcept\u001b[0m \u001b[0mzmq\u001b[0m\u001b[0;34m.\u001b[0m\u001b[0mZMQError\u001b[0m \u001b[0;32mas\u001b[0m \u001b[0me\u001b[0m\u001b[0;34m:\u001b[0m\u001b[0;34m\u001b[0m\u001b[0m\n",
      "\u001b[0;32m~/.pyenv/versions/3.6.6/envs/fc-python/lib/python3.6/site-packages/zmq/sugar/socket.py\u001b[0m in \u001b[0;36mrecv_multipart\u001b[0;34m(self, flags, copy, track)\u001b[0m\n\u001b[1;32m    466\u001b[0m         \"\"\"\n\u001b[0;32m--> 467\u001b[0;31m         \u001b[0mparts\u001b[0m \u001b[0;34m=\u001b[0m \u001b[0;34m[\u001b[0m\u001b[0mself\u001b[0m\u001b[0;34m.\u001b[0m\u001b[0mrecv\u001b[0m\u001b[0;34m(\u001b[0m\u001b[0mflags\u001b[0m\u001b[0;34m,\u001b[0m \u001b[0mcopy\u001b[0m\u001b[0;34m=\u001b[0m\u001b[0mcopy\u001b[0m\u001b[0;34m,\u001b[0m \u001b[0mtrack\u001b[0m\u001b[0;34m=\u001b[0m\u001b[0mtrack\u001b[0m\u001b[0;34m)\u001b[0m\u001b[0;34m]\u001b[0m\u001b[0;34m\u001b[0m\u001b[0m\n\u001b[0m\u001b[1;32m    468\u001b[0m         \u001b[0;31m# have first part already, only loop while more to receive\u001b[0m\u001b[0;34m\u001b[0m\u001b[0;34m\u001b[0m\u001b[0m\n",
      "\u001b[0;32mzmq/backend/cython/socket.pyx\u001b[0m in \u001b[0;36mzmq.backend.cython.socket.Socket.recv\u001b[0;34m()\u001b[0m\n",
      "\u001b[0;32mzmq/backend/cython/socket.pyx\u001b[0m in \u001b[0;36mzmq.backend.cython.socket.Socket.recv\u001b[0;34m()\u001b[0m\n",
      "\u001b[0;32mzmq/backend/cython/socket.pyx\u001b[0m in \u001b[0;36mzmq.backend.cython.socket._recv_copy\u001b[0;34m()\u001b[0m\n",
      "\u001b[0;32m~/.pyenv/versions/3.6.6/envs/fc-python/lib/python3.6/site-packages/zmq/backend/cython/checkrc.pxd\u001b[0m in \u001b[0;36mzmq.backend.cython.checkrc._check_rc\u001b[0;34m()\u001b[0m\n",
      "\u001b[0;31mKeyboardInterrupt\u001b[0m: ",
      "\nDuring handling of the above exception, another exception occurred:\n",
      "\u001b[0;31mKeyboardInterrupt\u001b[0m                         Traceback (most recent call last)",
      "\u001b[0;32m<ipython-input-469-c891ca91bedf>\u001b[0m in \u001b[0;36m<module>\u001b[0;34m()\u001b[0m\n\u001b[1;32m      1\u001b[0m \u001b[0mstart_lib_str\u001b[0m \u001b[0;34m=\u001b[0m \u001b[0;34m'1. Library\\n'\u001b[0m                 \u001b[0;34m'2. User\\n'\u001b[0m                 \u001b[0;34m'3. EXIT\\n\\t:'\u001b[0m\u001b[0;34m\u001b[0m\u001b[0m\n\u001b[1;32m      2\u001b[0m \u001b[0mf\u001b[0m \u001b[0;34m=\u001b[0m \u001b[0mstart_menu\u001b[0m\u001b[0;34m(\u001b[0m\u001b[0mstart_lib_str\u001b[0m\u001b[0;34m)\u001b[0m\u001b[0;34m\u001b[0m\u001b[0m\n\u001b[0;32m----> 3\u001b[0;31m \u001b[0mf\u001b[0m\u001b[0;34m.\u001b[0m\u001b[0mchoice_menu\u001b[0m\u001b[0;34m(\u001b[0m\u001b[0;34m)\u001b[0m\u001b[0;34m\u001b[0m\u001b[0m\n\u001b[0m",
      "\u001b[0;32m<ipython-input-466-eb292a4b81ac>\u001b[0m in \u001b[0;36mchoice_menu\u001b[0;34m(self)\u001b[0m\n\u001b[1;32m      5\u001b[0m     \u001b[0;32mdef\u001b[0m \u001b[0mchoice_menu\u001b[0m\u001b[0;34m(\u001b[0m\u001b[0mself\u001b[0m\u001b[0;34m)\u001b[0m\u001b[0;34m:\u001b[0m\u001b[0;34m\u001b[0m\u001b[0m\n\u001b[1;32m      6\u001b[0m         \u001b[0mchoice\u001b[0m \u001b[0;34m=\u001b[0m \u001b[0minput\u001b[0m\u001b[0;34m(\u001b[0m\u001b[0mself\u001b[0m\u001b[0;34m.\u001b[0m\u001b[0mchoice_str\u001b[0m\u001b[0;34m)\u001b[0m\u001b[0;34m\u001b[0m\u001b[0m\n\u001b[0;32m----> 7\u001b[0;31m         \u001b[0mself\u001b[0m\u001b[0;34m.\u001b[0m\u001b[0mmenu_dict\u001b[0m\u001b[0;34m.\u001b[0m\u001b[0mget\u001b[0m\u001b[0;34m(\u001b[0m\u001b[0mchoice\u001b[0m\u001b[0;34m,\u001b[0m \u001b[0;34m\"Select Again\"\u001b[0m\u001b[0;34m)\u001b[0m\u001b[0;34m(\u001b[0m\u001b[0;34m)\u001b[0m\u001b[0;34m\u001b[0m\u001b[0m\n\u001b[0m",
      "\u001b[0;32m<ipython-input-443-af14918ee6ae>\u001b[0m in \u001b[0;36mlibrary_menu\u001b[0;34m()\u001b[0m\n\u001b[1;32m      1\u001b[0m \u001b[0;32mdef\u001b[0m \u001b[0mlibrary_menu\u001b[0m\u001b[0;34m(\u001b[0m\u001b[0;34m)\u001b[0m\u001b[0;34m:\u001b[0m\u001b[0;34m\u001b[0m\u001b[0m\n\u001b[0;32m----> 2\u001b[0;31m    choice = input('1. Book info (Not include \"Borrowed Book\")\\n'\n\u001b[0m\u001b[1;32m      3\u001b[0m            \u001b[0;34m'2. Book info (include \"Borrowed Book\")\\n'\u001b[0m\u001b[0;34m\u001b[0m\u001b[0m\n\u001b[1;32m      4\u001b[0m            \u001b[0;34m'3. Add Book\\n'\u001b[0m\u001b[0;34m\u001b[0m\u001b[0m\n\u001b[1;32m      5\u001b[0m            \u001b[0;34m'4. Delete Book\\n'\u001b[0m\u001b[0;34m\u001b[0m\u001b[0m\n",
      "\u001b[0;32m~/.pyenv/versions/3.6.6/envs/fc-python/lib/python3.6/site-packages/ipykernel/kernelbase.py\u001b[0m in \u001b[0;36mraw_input\u001b[0;34m(self, prompt)\u001b[0m\n\u001b[1;32m    702\u001b[0m             \u001b[0mself\u001b[0m\u001b[0;34m.\u001b[0m\u001b[0m_parent_ident\u001b[0m\u001b[0;34m,\u001b[0m\u001b[0;34m\u001b[0m\u001b[0m\n\u001b[1;32m    703\u001b[0m             \u001b[0mself\u001b[0m\u001b[0;34m.\u001b[0m\u001b[0m_parent_header\u001b[0m\u001b[0;34m,\u001b[0m\u001b[0;34m\u001b[0m\u001b[0m\n\u001b[0;32m--> 704\u001b[0;31m             \u001b[0mpassword\u001b[0m\u001b[0;34m=\u001b[0m\u001b[0;32mFalse\u001b[0m\u001b[0;34m,\u001b[0m\u001b[0;34m\u001b[0m\u001b[0m\n\u001b[0m\u001b[1;32m    705\u001b[0m         )\n\u001b[1;32m    706\u001b[0m \u001b[0;34m\u001b[0m\u001b[0m\n",
      "\u001b[0;32m~/.pyenv/versions/3.6.6/envs/fc-python/lib/python3.6/site-packages/ipykernel/kernelbase.py\u001b[0m in \u001b[0;36m_input_request\u001b[0;34m(self, prompt, ident, parent, password)\u001b[0m\n\u001b[1;32m    732\u001b[0m             \u001b[0;32mexcept\u001b[0m \u001b[0mKeyboardInterrupt\u001b[0m\u001b[0;34m:\u001b[0m\u001b[0;34m\u001b[0m\u001b[0m\n\u001b[1;32m    733\u001b[0m                 \u001b[0;31m# re-raise KeyboardInterrupt, to truncate traceback\u001b[0m\u001b[0;34m\u001b[0m\u001b[0;34m\u001b[0m\u001b[0m\n\u001b[0;32m--> 734\u001b[0;31m                 \u001b[0;32mraise\u001b[0m \u001b[0mKeyboardInterrupt\u001b[0m\u001b[0;34m\u001b[0m\u001b[0m\n\u001b[0m\u001b[1;32m    735\u001b[0m             \u001b[0;32melse\u001b[0m\u001b[0;34m:\u001b[0m\u001b[0;34m\u001b[0m\u001b[0m\n\u001b[1;32m    736\u001b[0m                 \u001b[0;32mbreak\u001b[0m\u001b[0;34m\u001b[0m\u001b[0m\n",
      "\u001b[0;31mKeyboardInterrupt\u001b[0m: "
     ]
    }
   ],
   "source": [
    "start_lib_str = '1. Library\\n' \\\n",
    "                '2. User\\n' \\\n",
    "                '3. EXIT\\n\\t:'\n",
    "f = start_menu(start_lib_str)\n",
    "f.choice_menu()"
   ]
  },
  {
   "cell_type": "code",
   "execution_count": null,
   "metadata": {},
   "outputs": [],
   "source": [
    "start_lib_str = '1. Library\\n' \\\n",
    "                '2. User\\n' \\\n",
    "                '3. EXIT\\n\\t:'\n",
    "start_lib_dict = {'1':library_menu, '2':user_menu}\n",
    "start_lib = input_menu(start_lib_str, start_lib_dict)\n",
    "\n",
    "library_menu_str = '1. Add Library\\n' \\\n",
    "           '2. Book info (Not include \"Borrowed Book\")\\n' \\\n",
    "           '3. Book info (include \"Borrowed Book\")\\n' \\\n",
    "           '4. Add Book\\n' \\\n",
    "           '5. Delete Book\\n' \\\n",
    "           '0. Prev\\n\\t:'\n",
    "library_menu = input_menu(library_menu_str, library_menu_dict)"
   ]
  },
  {
   "cell_type": "code",
   "execution_count": null,
   "metadata": {},
   "outputs": [],
   "source": []
  }
 ],
 "metadata": {
  "kernelspec": {
   "display_name": "Python 3",
   "language": "python",
   "name": "python3"
  },
  "language_info": {
   "codemirror_mode": {
    "name": "ipython",
    "version": 3
   },
   "file_extension": ".py",
   "mimetype": "text/x-python",
   "name": "python",
   "nbconvert_exporter": "python",
   "pygments_lexer": "ipython3",
   "version": "3.6.6"
  }
 },
 "nbformat": 4,
 "nbformat_minor": 2
}
