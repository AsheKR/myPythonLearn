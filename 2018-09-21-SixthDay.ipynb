{
 "cells": [
  {
   "cell_type": "markdown",
   "metadata": {},
   "source": [
    "## Regexp"
   ]
  },
  {
   "cell_type": "code",
   "execution_count": 1,
   "metadata": {},
   "outputs": [],
   "source": [
    "story = '''Born to the prestigious Crownguards, the paragon family of Demacian service, Luxanna was destined for greatness. She grew up as the family's only daughter, and she immediately took to the advanced education and lavish parties required of families as high profile as the Crownguards. As Lux matured, it became clear that she was extraordinarily gifted. She could play tricks that made people believe they had seen things that did not actually exist. She could also hide in plain sight. Somehow, she was able to reverse engineer arcane magical spells after seeing them cast only once. She was hailed as a prodigy, drawing the affections of the Demacian government, military, and citizens alike.\n",
    "\n",
    "As one of the youngest women to be tested by the College of Magic, she was discovered to possess a unique command over the powers of light. The young Lux viewed this as a great gift, something for her to embrace and use in the name of good. Realizing her unique skills, the Demacian military recruited and trained her in covert operations. She quickly became renowned for her daring achievements; the most dangerous of which found her deep in the chambers of the Noxian High Command. She extracted valuable inside information about the Noxus-Ionian conflict, earning her great favor with Demacians and Ionians alike. However, reconnaissance and surveillance was not for her. A light of her people, Lux's true calling was the League of Legends, where she could follow in her brother's footsteps and unleash her gifts as an inspiration for all of Demacia.'''"
   ]
  },
  {
   "cell_type": "code",
   "execution_count": 4,
   "metadata": {},
   "outputs": [
    {
     "data": {
      "text/plain": [
       "['Lux', 'Lux', 'Lux', 'Lux']"
      ]
     },
     "execution_count": 4,
     "metadata": {},
     "output_type": "execute_result"
    }
   ],
   "source": [
    "import re\n",
    "\n",
    "re.findall('Lux', story)"
   ]
  },
  {
   "cell_type": "code",
   "execution_count": 5,
   "metadata": {},
   "outputs": [
    {
     "data": {
      "text/plain": [
       "['Lux',\n",
       " 'she',\n",
       " 'Lux',\n",
       " 'she',\n",
       " 'she',\n",
       " 'she',\n",
       " 'Lux',\n",
       " 'her',\n",
       " 'her',\n",
       " 'her',\n",
       " 'her',\n",
       " 'her',\n",
       " 'her',\n",
       " 'her',\n",
       " 'her',\n",
       " 'Lux',\n",
       " 'her',\n",
       " 'she',\n",
       " 'her',\n",
       " 'her',\n",
       " 'her']"
      ]
     },
     "execution_count": 5,
     "metadata": {},
     "output_type": "execute_result"
    }
   ],
   "source": [
    "re.findall('Lux|her|she', story)"
   ]
  },
  {
   "cell_type": "code",
   "execution_count": 6,
   "metadata": {},
   "outputs": [
    {
     "data": {
      "text/plain": [
       "['Lux',\n",
       " 'She',\n",
       " 'she',\n",
       " 'Lux',\n",
       " 'she',\n",
       " 'She',\n",
       " 'She',\n",
       " 'she',\n",
       " 'She',\n",
       " 'she',\n",
       " 'Lux',\n",
       " 'her',\n",
       " 'her',\n",
       " 'her',\n",
       " 'She',\n",
       " 'her',\n",
       " 'her',\n",
       " 'She',\n",
       " 'her',\n",
       " 'her',\n",
       " 'her',\n",
       " 'Lux',\n",
       " 'her',\n",
       " 'she',\n",
       " 'her',\n",
       " 'her',\n",
       " 'her']"
      ]
     },
     "execution_count": 6,
     "metadata": {},
     "output_type": "execute_result"
    }
   ],
   "source": [
    "re.findall('[Ll]ux|[Hh]er|[Ss]he', story)"
   ]
  },
  {
   "cell_type": "code",
   "execution_count": 7,
   "metadata": {},
   "outputs": [
    {
     "data": {
      "text/plain": [
       "['Born']"
      ]
     },
     "execution_count": 7,
     "metadata": {},
     "output_type": "execute_result"
    }
   ],
   "source": [
    "re.findall('^Born', story)"
   ]
  },
  {
   "cell_type": "code",
   "execution_count": 9,
   "metadata": {},
   "outputs": [
    {
     "data": {
      "text/plain": [
       "['Demacia.']"
      ]
     },
     "execution_count": 9,
     "metadata": {},
     "output_type": "execute_result"
    }
   ],
   "source": [
    "re.findall('Demacia.$', story)"
   ]
  },
  {
   "cell_type": "code",
   "execution_count": 10,
   "metadata": {},
   "outputs": [
    {
     "data": {
      "text/plain": [
       "['was', 'was', 'was', 'was', 'was', 'was', 'was']"
      ]
     },
     "execution_count": 10,
     "metadata": {},
     "output_type": "execute_result"
    }
   ],
   "source": [
    "re.findall('was', story)"
   ]
  },
  {
   "cell_type": "code",
   "execution_count": 11,
   "metadata": {},
   "outputs": [
    {
     "data": {
      "text/plain": [
       "[' was', ' was', ' was']"
      ]
     },
     "execution_count": 11,
     "metadata": {},
     "output_type": "execute_result"
    }
   ],
   "source": [
    "re.findall('(?<=she) was', story)"
   ]
  },
  {
   "cell_type": "code",
   "execution_count": 15,
   "metadata": {},
   "outputs": [
    {
     "data": {
      "text/plain": [
       "['Luxanna was',\n",
       " 'she was',\n",
       " 'she was',\n",
       " 'She was',\n",
       " 'she was',\n",
       " 'surveillance was',\n",
       " 'calling was']"
      ]
     },
     "execution_count": 15,
     "metadata": {},
     "output_type": "execute_result"
    }
   ],
   "source": [
    "re.findall('\\w+(?<!=she) was', story)"
   ]
  },
  {
   "cell_type": "code",
   "execution_count": 13,
   "metadata": {},
   "outputs": [
    {
     "data": {
      "text/plain": [
       "[]"
      ]
     },
     "execution_count": 13,
     "metadata": {},
     "output_type": "execute_result"
    }
   ],
   "source": [
    "re.findall('\\bwas\\b', story)"
   ]
  },
  {
   "cell_type": "code",
   "execution_count": 14,
   "metadata": {},
   "outputs": [
    {
     "data": {
      "text/plain": [
       "['was', 'was', 'was', 'was', 'was', 'was', 'was']"
      ]
     },
     "execution_count": 14,
     "metadata": {},
     "output_type": "execute_result"
    }
   ],
   "source": [
    "re.findall(r'\\bwas\\b', story)"
   ]
  },
  {
   "cell_type": "code",
   "execution_count": 19,
   "metadata": {},
   "outputs": [
    {
     "data": {
      "text/plain": [
       "['was', 'was', 'was', 'was', 'was', 'was', 'was']"
      ]
     },
     "execution_count": 19,
     "metadata": {},
     "output_type": "execute_result"
    }
   ],
   "source": [
    "re.findall(r'\\w+\\b\\s*(was)', story)"
   ]
  },
  {
   "cell_type": "code",
   "execution_count": 20,
   "metadata": {},
   "outputs": [
    {
     "data": {
      "text/plain": [
       "['Luxanna was',\n",
       " 'she was',\n",
       " 'she was',\n",
       " 'She was',\n",
       " 'she was',\n",
       " 'surveillance was',\n",
       " 'calling was']"
      ]
     },
     "execution_count": 20,
     "metadata": {},
     "output_type": "execute_result"
    }
   ],
   "source": [
    "re.findall(r'\\w+\\b\\s*was', story)"
   ]
  },
  {
   "cell_type": "code",
   "execution_count": 27,
   "metadata": {},
   "outputs": [],
   "source": [
    "match_list = re.finditer(r'\\w+\\b\\s*was', story)"
   ]
  },
  {
   "cell_type": "code",
   "execution_count": 28,
   "metadata": {},
   "outputs": [
    {
     "name": "stdout",
     "output_type": "stream",
     "text": [
      "<_sre.SRE_Match object; span=(77, 88), match='Luxanna was'>\n",
      "Luxanna was\n",
      "<_sre.SRE_Match object; span=(320, 327), match='she was'>\n",
      "she was\n",
      "<_sre.SRE_Match object; span=(494, 501), match='she was'>\n",
      "she was\n",
      "<_sre.SRE_Match object; span=(583, 590), match='She was'>\n",
      "She was\n",
      "<_sre.SRE_Match object; span=(761, 768), match='she was'>\n",
      "she was\n",
      "<_sre.SRE_Match object; span=(1339, 1355), match='surveillance was'>\n",
      "surveillance was\n",
      "<_sre.SRE_Match object; span=(1403, 1414), match='calling was'>\n",
      "calling was\n"
     ]
    }
   ],
   "source": [
    "for i in match_list:\n",
    "    print(i)\n",
    "    print(i.group(0))"
   ]
  },
  {
   "cell_type": "code",
   "execution_count": 37,
   "metadata": {},
   "outputs": [],
   "source": [
    "match_list = re.finditer(r'\\w+\\b\\s*was\\b\\s*\\w+', story)"
   ]
  },
  {
   "cell_type": "code",
   "execution_count": 38,
   "metadata": {},
   "outputs": [
    {
     "name": "stdout",
     "output_type": "stream",
     "text": [
      "<_sre.SRE_Match object; span=(77, 97), match='Luxanna was destined'>\n",
      "Luxanna was destined\n",
      "<_sre.SRE_Match object; span=(320, 343), match='she was extraordinarily'>\n",
      "she was extraordinarily\n",
      "<_sre.SRE_Match object; span=(494, 506), match='she was able'>\n",
      "she was able\n",
      "<_sre.SRE_Match object; span=(583, 597), match='She was hailed'>\n",
      "She was hailed\n",
      "<_sre.SRE_Match object; span=(761, 779), match='she was discovered'>\n",
      "she was discovered\n",
      "<_sre.SRE_Match object; span=(1339, 1359), match='surveillance was not'>\n",
      "surveillance was not\n",
      "<_sre.SRE_Match object; span=(1403, 1418), match='calling was the'>\n",
      "calling was the\n"
     ]
    }
   ],
   "source": [
    "for i in match_list:\n",
    "    print(i)\n",
    "    print(i.group(0))"
   ]
  },
  {
   "cell_type": "code",
   "execution_count": 44,
   "metadata": {},
   "outputs": [],
   "source": [
    "match_list = re.finditer(r'(\\w+)\\b\\s*was\\b\\s*(\\w+)', story)"
   ]
  },
  {
   "cell_type": "code",
   "execution_count": 45,
   "metadata": {},
   "outputs": [
    {
     "name": "stdout",
     "output_type": "stream",
     "text": [
      "<_sre.SRE_Match object; span=(77, 97), match='Luxanna was destined'>\n",
      "Luxanna was destined\n",
      "Luxanna destined\n",
      "<_sre.SRE_Match object; span=(320, 343), match='she was extraordinarily'>\n",
      "she was extraordinarily\n",
      "she extraordinarily\n",
      "<_sre.SRE_Match object; span=(494, 506), match='she was able'>\n",
      "she was able\n",
      "she able\n",
      "<_sre.SRE_Match object; span=(583, 597), match='She was hailed'>\n",
      "She was hailed\n",
      "She hailed\n",
      "<_sre.SRE_Match object; span=(761, 779), match='she was discovered'>\n",
      "she was discovered\n",
      "she discovered\n",
      "<_sre.SRE_Match object; span=(1339, 1359), match='surveillance was not'>\n",
      "surveillance was not\n",
      "surveillance not\n",
      "<_sre.SRE_Match object; span=(1403, 1418), match='calling was the'>\n",
      "calling was the\n",
      "calling the\n"
     ]
    }
   ],
   "source": [
    "for i in match_list:\n",
    "    print(i)\n",
    "    print(i.group(0))\n",
    "    print(i.group(1), i.group(2))"
   ]
  },
  {
   "cell_type": "code",
   "execution_count": 46,
   "metadata": {},
   "outputs": [],
   "source": [
    "match_list = re.finditer(r'(?P<before_was>\\w+)\\b\\s*was\\b\\s*(?P<after_was>\\w+)', story)"
   ]
  },
  {
   "cell_type": "code",
   "execution_count": 47,
   "metadata": {},
   "outputs": [
    {
     "name": "stdout",
     "output_type": "stream",
     "text": [
      "<_sre.SRE_Match object; span=(77, 97), match='Luxanna was destined'>\n",
      "Luxanna was destined\n",
      "Luxanna destined\n",
      "<_sre.SRE_Match object; span=(320, 343), match='she was extraordinarily'>\n",
      "she was extraordinarily\n",
      "she extraordinarily\n",
      "<_sre.SRE_Match object; span=(494, 506), match='she was able'>\n",
      "she was able\n",
      "she able\n",
      "<_sre.SRE_Match object; span=(583, 597), match='She was hailed'>\n",
      "She was hailed\n",
      "She hailed\n",
      "<_sre.SRE_Match object; span=(761, 779), match='she was discovered'>\n",
      "she was discovered\n",
      "she discovered\n",
      "<_sre.SRE_Match object; span=(1339, 1359), match='surveillance was not'>\n",
      "surveillance was not\n",
      "surveillance not\n",
      "<_sre.SRE_Match object; span=(1403, 1418), match='calling was the'>\n",
      "calling was the\n",
      "calling the\n"
     ]
    }
   ],
   "source": [
    "for i in match_list:\n",
    "    print(i)\n",
    "    print(i.group(0))\n",
    "    print(i.group('before_was'), i.group('after_was'))"
   ]
  },
  {
   "cell_type": "code",
   "execution_count": 48,
   "metadata": {},
   "outputs": [],
   "source": [
    "pattern = re.compile(r'''\n",
    "    (?P<before_was>\\w+)   # before was\n",
    "    \\b\\s*was\\b\\s*         # \n",
    "    (?P<after_was>\\w+)\n",
    "''', re.VERBOSE)\n",
    "# re.VERBOSE delete first Argument comments"
   ]
  },
  {
   "cell_type": "code",
   "execution_count": 49,
   "metadata": {},
   "outputs": [
    {
     "name": "stdout",
     "output_type": "stream",
     "text": [
      "Luxanna, destined\n",
      "she, extraordinarily\n",
      "she, able\n",
      "She, hailed\n",
      "she, discovered\n",
      "surveillance, not\n",
      "calling, the\n"
     ]
    }
   ],
   "source": [
    "match_list = re.finditer(pattern, story)\n",
    "for m in match_list:\n",
    "    print('{}, {}'.format(m.group('before_was'), m.group('after_was')))"
   ]
  },
  {
   "cell_type": "code",
   "execution_count": 50,
   "metadata": {},
   "outputs": [],
   "source": [
    "html = '<html><body><h1>HTML</h1></body></html>'"
   ]
  },
  {
   "cell_type": "code",
   "execution_count": 57,
   "metadata": {},
   "outputs": [
    {
     "name": "stdout",
     "output_type": "stream",
     "text": [
      "<html><body><h1>HTML</h1></body></html>\n"
     ]
    }
   ],
   "source": [
    "m = re.match(r'<.*>', html)\n",
    "print(m.group())"
   ]
  },
  {
   "cell_type": "code",
   "execution_count": 60,
   "metadata": {},
   "outputs": [
    {
     "name": "stdout",
     "output_type": "stream",
     "text": [
      "<html>\n"
     ]
    }
   ],
   "source": [
    "m = re.match(r'<.*?>', html)\n",
    "print(m.group())"
   ]
  },
  {
   "cell_type": "code",
   "execution_count": 150,
   "metadata": {},
   "outputs": [
    {
     "name": "stdout",
     "output_type": "stream",
     "text": [
      "['also', 'able']\n"
     ]
    }
   ],
   "source": [
    "m = re.findall(r'\\ba\\w{3}\\b', story)\n",
    "print(m)"
   ]
  },
  {
   "cell_type": "code",
   "execution_count": 152,
   "metadata": {},
   "outputs": [
    {
     "name": "stdout",
     "output_type": "stream",
     "text": [
      "['for', 'daughter', 'clear', 'engineer', 'after', 'over', 'for', 'her', 'her', 'her', 'for', 'her', 'her', 'her', 'favor', 'However', 'for', 'her', 'her', 'her', 'brother', 'her', 'for']\n"
     ]
    }
   ],
   "source": [
    "m = re.findall(r'\\w*r\\b', story)\n",
    "print(m)"
   ]
  },
  {
   "cell_type": "code",
   "execution_count": 155,
   "metadata": {},
   "outputs": [
    {
     "name": "stdout",
     "output_type": "stream",
     "text": [
      "['advanced', 'became', 'made', 'embrace', 'became', 'deep']\n"
     ]
    }
   ],
   "source": [
    "m = re.findall(r'\\w*[abcde]{3}\\w*', story)\n",
    "print(m)"
   ]
  },
  {
   "cell_type": "code",
   "execution_count": 160,
   "metadata": {},
   "outputs": [],
   "source": [
    "m = re.sub(r'(?P<before>\\w)\\W*,\\W*(?P<after>\\w)', lambda match: '{}, ({})'.format(match.group(1).upper(), match.group(2)), story)"
   ]
  },
  {
   "cell_type": "code",
   "execution_count": 161,
   "metadata": {},
   "outputs": [
    {
     "name": "stdout",
     "output_type": "stream",
     "text": [
      "Born to the prestigious CrownguardS, (t)he paragon family of Demacian servicE, (L)uxanna was destined for greatness. She grew up as the family's only daughteR, (a)nd she immediately took to the advanced education and lavish parties required of families as high profile as the Crownguards. As Lux matureD, (i)t became clear that she was extraordinarily gifted. She could play tricks that made people believe they had seen things that did not actually exist. She could also hide in plain sight. SomehoW, (s)he was able to reverse engineer arcane magical spells after seeing them cast only once. She was hailed as a prodigY, (d)rawing the affections of the Demacian governmenT, (m)ilitarY, (a)nd citizens alike.\n",
      "\n",
      "As one of the youngest women to be tested by the College of MagiC, (s)he was discovered to possess a unique command over the powers of light. The young Lux viewed this as a great gifT, (s)omething for her to embrace and use in the name of good. Realizing her unique skillS, (t)he Demacian military recruited and trained her in covert operations. She quickly became renowned for her daring achievements; the most dangerous of which found her deep in the chambers of the Noxian High Command. She extracted valuable inside information about the Noxus-Ionian conflicT, (e)arning her great favor with Demacians and Ionians alike. HoweveR, (r)econnaissance and surveillance was not for her. A light of her peoplE, (L)ux's true calling was the League of LegendS, (w)here she could follow in her brother's footsteps and unleash her gifts as an inspiration for all of Demacia.\n"
     ]
    }
   ],
   "source": [
    "print(m)"
   ]
  },
  {
   "cell_type": "markdown",
   "metadata": {},
   "source": [
    "## Exception"
   ]
  },
  {
   "cell_type": "code",
   "execution_count": 163,
   "metadata": {},
   "outputs": [
    {
     "ename": "IndexError",
     "evalue": "list index out of range",
     "output_type": "error",
     "traceback": [
      "\u001b[0;31m---------------------------------------------------------------------------\u001b[0m",
      "\u001b[0;31mIndexError\u001b[0m                                Traceback (most recent call last)",
      "\u001b[0;32m<ipython-input-163-6f948b8a82ca>\u001b[0m in \u001b[0;36m<module>\u001b[0;34m()\u001b[0m\n\u001b[1;32m      1\u001b[0m \u001b[0mlist1\u001b[0m \u001b[0;34m=\u001b[0m \u001b[0mlist\u001b[0m\u001b[0;34m(\u001b[0m\u001b[0;34m\"12345\"\u001b[0m\u001b[0;34m)\u001b[0m\u001b[0;34m\u001b[0m\u001b[0m\n\u001b[0;32m----> 2\u001b[0;31m \u001b[0mlist1\u001b[0m\u001b[0;34m[\u001b[0m\u001b[0;36m10\u001b[0m\u001b[0;34m]\u001b[0m\u001b[0;34m\u001b[0m\u001b[0m\n\u001b[0m",
      "\u001b[0;31mIndexError\u001b[0m: list index out of range"
     ]
    }
   ],
   "source": [
    "list1 = list(\"12345\")\n",
    "list1[10]"
   ]
  },
  {
   "cell_type": "code",
   "execution_count": 169,
   "metadata": {},
   "outputs": [
    {
     "name": "stdout",
     "output_type": "stream",
     "text": [
      "list index out of range\n"
     ]
    }
   ],
   "source": [
    "dict1 = {'1':'2'}\n",
    "try:\n",
    "    list1[10]\n",
    "    dict1['3'] \n",
    "except IndexError as e:\n",
    "#     print(\"OUT OF RANGE\")\n",
    "    print(e)\n",
    "except KeyError as e:\n",
    "#     print(\"KEY ERROR\")\n",
    "    print(e)"
   ]
  },
  {
   "cell_type": "code",
   "execution_count": 170,
   "metadata": {},
   "outputs": [],
   "source": [
    "try:\n",
    "    pass\n",
    "except:\n",
    "    pass\n",
    "else:\n",
    "    pass\n",
    "finally:\n",
    "    pass"
   ]
  },
  {
   "cell_type": "code",
   "execution_count": 184,
   "metadata": {},
   "outputs": [
    {
     "name": "stdout",
     "output_type": "stream",
     "text": [
      "1\n"
     ]
    },
    {
     "ename": "NotIntegerException",
     "evalue": "NEED INT TYPE (TYPE: <class 'str'>, VALUE : 1)",
     "output_type": "error",
     "traceback": [
      "\u001b[0;31m---------------------------------------------------------------------------\u001b[0m",
      "\u001b[0;31mNotIntegerException\u001b[0m                       Traceback (most recent call last)",
      "\u001b[0;32m<ipython-input-184-ffba2c9db852>\u001b[0m in \u001b[0;36m<module>\u001b[0;34m()\u001b[0m\n\u001b[1;32m     15\u001b[0m \u001b[0;34m\u001b[0m\u001b[0m\n\u001b[1;32m     16\u001b[0m \u001b[0mprint\u001b[0m\u001b[0;34m(\u001b[0m\u001b[0msquare\u001b[0m\u001b[0;34m(\u001b[0m\u001b[0;36m1\u001b[0m\u001b[0;34m)\u001b[0m\u001b[0;34m)\u001b[0m\u001b[0;34m\u001b[0m\u001b[0m\n\u001b[0;32m---> 17\u001b[0;31m \u001b[0msquare\u001b[0m\u001b[0;34m(\u001b[0m\u001b[0;34m'1'\u001b[0m\u001b[0;34m)\u001b[0m\u001b[0;34m\u001b[0m\u001b[0m\n\u001b[0m",
      "\u001b[0;32m<ipython-input-184-ffba2c9db852>\u001b[0m in \u001b[0;36msquare\u001b[0;34m(x)\u001b[0m\n\u001b[1;32m     11\u001b[0m \u001b[0;32mdef\u001b[0m \u001b[0msquare\u001b[0m\u001b[0;34m(\u001b[0m\u001b[0mx\u001b[0m\u001b[0;34m)\u001b[0m\u001b[0;34m:\u001b[0m\u001b[0;34m\u001b[0m\u001b[0m\n\u001b[1;32m     12\u001b[0m     \u001b[0;32mif\u001b[0m \u001b[0;32mnot\u001b[0m \u001b[0misinstance\u001b[0m\u001b[0;34m(\u001b[0m\u001b[0mx\u001b[0m\u001b[0;34m,\u001b[0m \u001b[0mint\u001b[0m\u001b[0;34m)\u001b[0m\u001b[0;34m:\u001b[0m\u001b[0;34m\u001b[0m\u001b[0m\n\u001b[0;32m---> 13\u001b[0;31m         \u001b[0;32mraise\u001b[0m \u001b[0mNotIntegerException\u001b[0m\u001b[0;34m(\u001b[0m\u001b[0mx\u001b[0m\u001b[0;34m)\u001b[0m\u001b[0;34m\u001b[0m\u001b[0m\n\u001b[0m\u001b[1;32m     14\u001b[0m     \u001b[0;32mreturn\u001b[0m \u001b[0mx\u001b[0m\u001b[0;34m*\u001b[0m\u001b[0mx\u001b[0m\u001b[0;34m\u001b[0m\u001b[0m\n\u001b[1;32m     15\u001b[0m \u001b[0;34m\u001b[0m\u001b[0m\n",
      "\u001b[0;31mNotIntegerException\u001b[0m: NEED INT TYPE (TYPE: <class 'str'>, VALUE : 1)"
     ]
    }
   ],
   "source": [
    "class NotIntegerException(Exception):\n",
    "    def __init__(self, arg):\n",
    "        self.arg = arg\n",
    "        \n",
    "    def __str__(self):\n",
    "        return \"NEED INT TYPE (TYPE: {}, VALUE : {})\".format(\n",
    "            type(self.arg), \n",
    "            self.arg\n",
    "        )\n",
    "    \n",
    "def square(x):\n",
    "    if not isinstance(x, int):\n",
    "        raise NotIntegerException(x)\n",
    "    return x*x\n",
    "        \n",
    "print(square(1))\n",
    "square('1')"
   ]
  },
  {
   "cell_type": "code",
   "execution_count": 185,
   "metadata": {},
   "outputs": [
    {
     "name": "stdout",
     "output_type": "stream",
     "text": [
      "NEED INT TYPE (TYPE: <class 'str'>, VALUE : 1)\n"
     ]
    }
   ],
   "source": [
    "class NotIntegerException(Exception):\n",
    "    def __init__(self, arg):\n",
    "        self.arg = arg\n",
    "        \n",
    "    def __str__(self):\n",
    "        return \"NEED INT TYPE (TYPE: {}, VALUE : {})\".format(\n",
    "            type(self.arg), \n",
    "            self.arg\n",
    "        )\n",
    "    \n",
    "def square(x):\n",
    "    if not isinstance(x, int):\n",
    "        raise NotIntegerException(x)\n",
    "    return x*x\n",
    "        \n",
    "try:\n",
    "    square('1')\n",
    "except NotIntegerException as e:\n",
    "    print(e)"
   ]
  },
  {
   "cell_type": "markdown",
   "metadata": {},
   "source": [
    "## File"
   ]
  },
  {
   "cell_type": "code",
   "execution_count": 186,
   "metadata": {},
   "outputs": [
    {
     "data": {
      "text/plain": [
       "12"
      ]
     },
     "execution_count": 186,
     "metadata": {},
     "output_type": "execute_result"
    }
   ],
   "source": [
    "iu = \"IU IS NOT IU\"\n",
    "len(iu)"
   ]
  },
  {
   "cell_type": "code",
   "execution_count": 187,
   "metadata": {},
   "outputs": [],
   "source": [
    "f = open('iu.txt', 'wt')\n",
    "f.write(iu) # it return write length: 12\n",
    "f.close()"
   ]
  },
  {
   "cell_type": "code",
   "execution_count": null,
   "metadata": {},
   "outputs": [],
   "source": []
  }
 ],
 "metadata": {
  "kernelspec": {
   "display_name": "Python 3",
   "language": "python",
   "name": "python3"
  },
  "language_info": {
   "codemirror_mode": {
    "name": "ipython",
    "version": 3
   },
   "file_extension": ".py",
   "mimetype": "text/x-python",
   "name": "python",
   "nbconvert_exporter": "python",
   "pygments_lexer": "ipython3",
   "version": "3.6.6"
  }
 },
 "nbformat": 4,
 "nbformat_minor": 2
}
