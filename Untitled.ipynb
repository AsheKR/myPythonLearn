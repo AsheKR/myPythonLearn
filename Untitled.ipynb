{
 "cells": [
  {
   "cell_type": "markdown",
   "metadata": {},
   "source": [
    "# Class"
   ]
  },
  {
   "cell_type": "code",
   "execution_count": 1,
   "metadata": {},
   "outputs": [],
   "source": [
    "class Shop:\n",
    "    pass"
   ]
  },
  {
   "cell_type": "code",
   "execution_count": 2,
   "metadata": {},
   "outputs": [],
   "source": [
    "shop1 = Shop()"
   ]
  },
  {
   "cell_type": "code",
   "execution_count": 3,
   "metadata": {},
   "outputs": [
    {
     "name": "stdout",
     "output_type": "stream",
     "text": [
      "<class '__main__.Shop'>\n"
     ]
    }
   ],
   "source": [
    "print(type(shop1))"
   ]
  },
  {
   "cell_type": "code",
   "execution_count": 24,
   "metadata": {},
   "outputs": [
    {
     "ename": "TypeError",
     "evalue": "__init__() missing 1 required positional argument: 'name'",
     "output_type": "error",
     "traceback": [
      "\u001b[0;31m---------------------------------------------------------------------------\u001b[0m",
      "\u001b[0;31mTypeError\u001b[0m                                 Traceback (most recent call last)",
      "\u001b[0;32m<ipython-input-24-2b1b1072ff86>\u001b[0m in \u001b[0;36m<module>\u001b[0;34m()\u001b[0m\n\u001b[1;32m     10\u001b[0m \u001b[0;31m# It return Instance\u001b[0m\u001b[0;34m\u001b[0m\u001b[0;34m\u001b[0m\u001b[0m\n\u001b[1;32m     11\u001b[0m \u001b[0;31m# Instance called Specific class Object\u001b[0m\u001b[0;34m\u001b[0m\u001b[0;34m\u001b[0m\u001b[0m\n\u001b[0;32m---> 12\u001b[0;31m \u001b[0mshop2\u001b[0m \u001b[0;34m=\u001b[0m \u001b[0mShop\u001b[0m\u001b[0;34m(\u001b[0m\u001b[0;34m)\u001b[0m\u001b[0;34m\u001b[0m\u001b[0m\n\u001b[0m\u001b[1;32m     13\u001b[0m \u001b[0;31m# ERROR, Constructor required positinal argument 'name'\u001b[0m\u001b[0;34m\u001b[0m\u001b[0;34m\u001b[0m\u001b[0m\n",
      "\u001b[0;31mTypeError\u001b[0m: __init__() missing 1 required positional argument: 'name'"
     ]
    }
   ],
   "source": [
    "class Shop:\n",
    "    # Class Attribute\n",
    "    description = 'Python Shop Class'\n",
    "    # Class Constructor(init Magic Method)\n",
    "    def __init__(self, name):\n",
    "        # self refer to specific Instance\n",
    "        self.name = name\n",
    "        \n",
    "# Call Class Constructor\n",
    "# It return Instance\n",
    "# Instance called Specific class Object\n",
    "shop2 = Shop()\n",
    "# ERROR, Constructor required positinal argument 'name'"
   ]
  },
  {
   "cell_type": "code",
   "execution_count": 21,
   "metadata": {},
   "outputs": [
    {
     "name": "stdout",
     "output_type": "stream",
     "text": [
      "Python Shop Class\n",
      "Python Shop Class\n",
      "id:  139802872400464\n",
      "id:  139802872400464\n"
     ]
    }
   ],
   "source": [
    "shop_cls_att = Shop(\"Subway\")\n",
    "\n",
    "# Access Class.Attribute\n",
    "print(Shop.description)\n",
    "# Access Instance.Attribute\n",
    "print(shop4.description)\n",
    "print('id: ', id(Shop.description))\n",
    "print('id: ', id(shop_cls_att.description))"
   ]
  },
  {
   "cell_type": "code",
   "execution_count": 26,
   "metadata": {},
   "outputs": [
    {
     "name": "stdout",
     "output_type": "stream",
     "text": [
      "ABCD\n",
      "Python Shop Class\n",
      "Python Shop Class\n"
     ]
    }
   ],
   "source": [
    "# Can't Change Class Attribute, But It works Instance Attribute\n",
    "shop_cls_att.description = 'ABCD'\n",
    "print(shop_cls_att.description)\n",
    "print(shop_cls_att.__class__.description)\n",
    "print(Shop.description)"
   ]
  },
  {
   "cell_type": "code",
   "execution_count": 7,
   "metadata": {},
   "outputs": [],
   "source": [
    "shop3 = Shop(\"Subway\")"
   ]
  },
  {
   "cell_type": "code",
   "execution_count": 8,
   "metadata": {},
   "outputs": [
    {
     "data": {
      "text/plain": [
       "<__main__.Shop at 0x7f26649279b0>"
      ]
     },
     "execution_count": 8,
     "metadata": {},
     "output_type": "execute_result"
    }
   ],
   "source": [
    "# All Class inherit object Class\n",
    "# ex ) class Shop(object)\n",
    "shop3"
   ]
  },
  {
   "cell_type": "code",
   "execution_count": 9,
   "metadata": {},
   "outputs": [],
   "source": [
    "class Shop:\n",
    "    def __init__(self, name):\n",
    "        self.name = name\n",
    "    \n",
    "    def __repr__(self):\n",
    "        return 'Shop('+self.name+')'"
   ]
  },
  {
   "cell_type": "code",
   "execution_count": 15,
   "metadata": {},
   "outputs": [],
   "source": [
    "shop4 = Shop('SubWay')"
   ]
  },
  {
   "cell_type": "code",
   "execution_count": 11,
   "metadata": {},
   "outputs": [
    {
     "data": {
      "text/plain": [
       "Shop(SubWay)"
      ]
     },
     "execution_count": 11,
     "metadata": {},
     "output_type": "execute_result"
    }
   ],
   "source": [
    "shop4"
   ]
  },
  {
   "cell_type": "code",
   "execution_count": 27,
   "metadata": {},
   "outputs": [],
   "source": [
    "class Shop:\n",
    "    def __init__(self, name):\n",
    "        self.name = name\n",
    "    \n",
    "    def __repr__(self):\n",
    "        return 'Shop('+self.name+')'\n",
    "    \n",
    "    # Class Method\n",
    "    # First Argument is cls(means Class)\n",
    "    # Not given instance(self)\n",
    "    @classmethod\n",
    "    def class_method_example(cls):\n",
    "        print(\"Class Method\")"
   ]
  },
  {
   "cell_type": "code",
   "execution_count": 28,
   "metadata": {},
   "outputs": [],
   "source": [
    "# When use Class Method\n",
    "\n",
    "class Shop:\n",
    "    count = 0\n",
    "    shop_list = []\n",
    "    def __init__(self, name):\n",
    "        self.name = name\n",
    "        #Shop.count += 1\n",
    "        self.__class__.count += 1\n",
    "        Shop.shop_list.append(self)\n",
    "        #Shop.__class__.shop_list.append(self)\n",
    "    \n",
    "    def __repr__(self):\n",
    "        return 'Shop('+self.name+')'\n",
    "    \n",
    "    @classmethod\n",
    "    def get_shop_count(cls):\n",
    "        return cls.count\n",
    "    \n",
    "    @classmethod\n",
    "    def get_shop_list(cls):\n",
    "        return cls.shop_list"
   ]
  },
  {
   "cell_type": "code",
   "execution_count": 29,
   "metadata": {},
   "outputs": [],
   "source": [
    "subway = Shop(\"Subway\")\n",
    "lotteria = Shop(\"Lotteria\")"
   ]
  },
  {
   "cell_type": "code",
   "execution_count": 31,
   "metadata": {},
   "outputs": [
    {
     "data": {
      "text/plain": [
       "2"
      ]
     },
     "execution_count": 31,
     "metadata": {},
     "output_type": "execute_result"
    }
   ],
   "source": [
    "Shop.get_shop_count()"
   ]
  },
  {
   "cell_type": "code",
   "execution_count": 40,
   "metadata": {},
   "outputs": [],
   "source": [
    "class Shop:\n",
    "    def __init__(self, name, shop_type, address):\n",
    "        self.name = name\n",
    "        self.shop_type = shop_type\n",
    "        self.address = address\n",
    "        \n",
    "    def show_info(self):\n",
    "        string = f\"Shop ({self.name})\\n\\tType:{self.shop_type}\\n\\tAddress:{self.address}\"\n",
    "        print(string)\n",
    "        \n",
    "    def change_type(self, shop_type):\n",
    "        self.shop_type = shop_type"
   ]
  },
  {
   "cell_type": "code",
   "execution_count": 41,
   "metadata": {},
   "outputs": [],
   "source": [
    "shop1 = Shop('Name', \"Type\", 'Address')"
   ]
  },
  {
   "cell_type": "code",
   "execution_count": 42,
   "metadata": {},
   "outputs": [
    {
     "name": "stdout",
     "output_type": "stream",
     "text": [
      "Shop (Name)\n",
      "\tType:Type\n",
      "\tAddress:Address\n"
     ]
    }
   ],
   "source": [
    "shop1.show_info()"
   ]
  },
  {
   "cell_type": "code",
   "execution_count": 44,
   "metadata": {},
   "outputs": [
    {
     "name": "stdout",
     "output_type": "stream",
     "text": [
      "Shop (Name)\n",
      "\tType:FastFood\n",
      "\tAddress:Address\n"
     ]
    }
   ],
   "source": [
    "shop1.change_type(\"FastFood\")\n",
    "shop1.show_info()"
   ]
  },
  {
   "cell_type": "code",
   "execution_count": 69,
   "metadata": {},
   "outputs": [],
   "source": [
    "# Attribute Access Modifier\n",
    "# private Attribute name started \"__\"\\\n",
    "# private use \"name mangling\"\n",
    "\n",
    "class Shop:\n",
    "    def __init__(self, name, shop_type, address):\n",
    "        self.name = name\n",
    "        self.__shop_type = shop_type\n",
    "        self.address = address\n",
    "        \n",
    "    def show_info(self):\n",
    "        string = f\"Shop ({self.name})\\n\\tType:{self.__shop_type}\\n\\tAddress:{self.address}\"\n",
    "        print(string)\n",
    "        \n",
    "    def change_type(self, shop_type):\n",
    "        self.__shop_type = shop_type"
   ]
  },
  {
   "cell_type": "code",
   "execution_count": 70,
   "metadata": {},
   "outputs": [],
   "source": [
    "subway = Shop(\"Subway\", \"Sandwich\", \"Sung su\")"
   ]
  },
  {
   "cell_type": "code",
   "execution_count": 71,
   "metadata": {},
   "outputs": [
    {
     "ename": "AttributeError",
     "evalue": "'Shop' object has no attribute '__shop_type'",
     "output_type": "error",
     "traceback": [
      "\u001b[0;31m---------------------------------------------------------------------------\u001b[0m",
      "\u001b[0;31mAttributeError\u001b[0m                            Traceback (most recent call last)",
      "\u001b[0;32m<ipython-input-71-69c5e18608c7>\u001b[0m in \u001b[0;36m<module>\u001b[0;34m()\u001b[0m\n\u001b[0;32m----> 1\u001b[0;31m \u001b[0msubway\u001b[0m\u001b[0;34m.\u001b[0m\u001b[0m__shop_type\u001b[0m\u001b[0;34m\u001b[0m\u001b[0m\n\u001b[0m",
      "\u001b[0;31mAttributeError\u001b[0m: 'Shop' object has no attribute '__shop_type'"
     ]
    }
   ],
   "source": [
    "subway.__shop_type"
   ]
  },
  {
   "cell_type": "code",
   "execution_count": 72,
   "metadata": {},
   "outputs": [
    {
     "name": "stdout",
     "output_type": "stream",
     "text": [
      "Shop (Subway)\n",
      "\tType:Text\n",
      "\tAddress:Sung su\n"
     ]
    }
   ],
   "source": [
    "subway.change_type(\"Text\")\n",
    "subway.show_info()"
   ]
  },
  {
   "cell_type": "code",
   "execution_count": 73,
   "metadata": {},
   "outputs": [],
   "source": [
    "subway.__shop_type = \"ABCD\""
   ]
  },
  {
   "cell_type": "code",
   "execution_count": 74,
   "metadata": {},
   "outputs": [
    {
     "name": "stdout",
     "output_type": "stream",
     "text": [
      "['_Shop__shop_type', '__class__', '__delattr__', '__dict__', '__dir__', '__doc__', '__eq__', '__format__', '__ge__', '__getattribute__', '__gt__', '__hash__', '__init__', '__init_subclass__', '__le__', '__lt__', '__module__', '__ne__', '__new__', '__reduce__', '__reduce_ex__', '__repr__', '__setattr__', '__shop_type', '__sizeof__', '__str__', '__subclasshook__', '__weakref__', 'address', 'change_type', 'name', 'show_info']\n"
     ]
    }
   ],
   "source": [
    "print(dir(subway))"
   ]
  },
  {
   "cell_type": "code",
   "execution_count": 75,
   "metadata": {
    "scrolled": true
   },
   "outputs": [
    {
     "data": {
      "text/plain": [
       "'ABCD'"
      ]
     },
     "execution_count": 75,
     "metadata": {},
     "output_type": "execute_result"
    }
   ],
   "source": [
    "subway.__shop_type"
   ]
  },
  {
   "cell_type": "code",
   "execution_count": 76,
   "metadata": {},
   "outputs": [
    {
     "name": "stdout",
     "output_type": "stream",
     "text": [
      "Shop (Subway)\n",
      "\tType:Text\n",
      "\tAddress:Sung su\n"
     ]
    }
   ],
   "source": [
    "subway.show_info()"
   ]
  },
  {
   "cell_type": "code",
   "execution_count": 77,
   "metadata": {},
   "outputs": [
    {
     "data": {
      "text/plain": [
       "'Text'"
      ]
     },
     "execution_count": 77,
     "metadata": {},
     "output_type": "execute_result"
    }
   ],
   "source": [
    "# name_mangling\n",
    "# Python's special characteristic\n",
    "# _{Class Name}__{Class Attribute}\n",
    "subway._Shop__shop_type"
   ]
  },
  {
   "cell_type": "code",
   "execution_count": 97,
   "metadata": {},
   "outputs": [],
   "source": [
    "# Setter. Getter\n",
    "\n",
    "# Attribute Access Modifier\n",
    "# private Attribute name started \"__\"\\\n",
    "# private use \"name mangling\"\n",
    "\n",
    "class Shop:\n",
    "    SHOP_TYPE_LIST = ['Sandwich', 'fastFood']\n",
    "    \n",
    "    def __init__(self, name, shop_type, address):\n",
    "        self.name = name\n",
    "        self.__shop_type = shop_type\n",
    "        self.address = address\n",
    "        \n",
    "    def show_info(self):\n",
    "        string = f\"Shop ({self.name})\\n\\tType:{self.__shop_type}\\n\\tAddress:{self.address}\"\n",
    "        print(string)\n",
    "        \n",
    "    def change_type(self, shop_type):\n",
    "        self.__shop_type = shop_type\n",
    "        \n",
    "    def get_shop_type(self):\n",
    "        return self.__shop_type\n",
    "    \n",
    "    def set_shop_type(self, new_shop_type):\n",
    "        if new_shop_type in self.SHOP_TYPE_LIST:\n",
    "            self.__shop_type = new_shop_type\n",
    "        else:\n",
    "            print(\"Shop Type Only {}\".format(', '.join(self.SHOP_TYPE_LIST)))"
   ]
  },
  {
   "cell_type": "code",
   "execution_count": 98,
   "metadata": {},
   "outputs": [
    {
     "data": {
      "text/plain": [
       "'Sandwich'"
      ]
     },
     "execution_count": 98,
     "metadata": {},
     "output_type": "execute_result"
    }
   ],
   "source": [
    "subway = Shop(\"Subway\", \"Sandwich\", \"Sung su\")\n",
    "subway.get_shop_type()"
   ]
  },
  {
   "cell_type": "code",
   "execution_count": 99,
   "metadata": {},
   "outputs": [
    {
     "name": "stdout",
     "output_type": "stream",
     "text": [
      "Shop Type Only Sandwich, fastFood\n"
     ]
    }
   ],
   "source": [
    "subway.set_shop_type('nee')"
   ]
  },
  {
   "cell_type": "code",
   "execution_count": 100,
   "metadata": {},
   "outputs": [
    {
     "name": "stdout",
     "output_type": "stream",
     "text": [
      "Shop (Subway)\n",
      "\tType:Sandwich\n",
      "\tAddress:Sung su\n"
     ]
    }
   ],
   "source": [
    "subway.show_info()"
   ]
  },
  {
   "cell_type": "code",
   "execution_count": 121,
   "metadata": {},
   "outputs": [],
   "source": [
    "# Setter. Getter\n",
    "\n",
    "# Attribute Access Modifier\n",
    "# private Attribute name started \"__\"\\\n",
    "# private use \"name mangling\"\n",
    "\n",
    "class Shop:\n",
    "    SHOP_TYPE_LIST = ['Sandwich', 'fastFood']\n",
    "    \n",
    "    def __init__(self, name, shop_type, address):\n",
    "        self.name = name\n",
    "        self.__shop_type = shop_type\n",
    "        self.address = address\n",
    "        \n",
    "    def show_info(self):\n",
    "        string = f\"Shop ({self.name})\\n\\tType:{self.__shop_type}\\n\\tAddress:{self.address}\"\n",
    "        print(string)\n",
    "        \n",
    "    def change_type(self, shop_type):\n",
    "        self.__shop_type = shop_type\n",
    "        \n",
    "    def get_shop_type(self):\n",
    "        return self.__shop_type\n",
    "    \n",
    "    def set_shop_type(self, new_shop_type):\n",
    "        if new_shop_type in self.SHOP_TYPE_LIST:\n",
    "            self.__shop_type = new_shop_type\n",
    "        else:\n",
    "            print(\"Shop Type Only {}\".format(', '.join(self.SHOP_TYPE_LIST)))\n",
    "    \n",
    "    # PROPERTY MEAN SETTER, GETTER METHOD\n",
    "    # Allow access to specific functions by attribute.\n",
    "    @property\n",
    "    def shop_type(self):\n",
    "        return self.__shop_type\n",
    "    \n",
    "    # [getter property method name].setter\n",
    "    @shop_type.setter\n",
    "    def shop_type(self, new_shop_type):\n",
    "        if new_shop_type in self.SHOP_TYPE_LIST:\n",
    "            self.__shop_type = new_shop_type\n",
    "        else:\n",
    "            print(\"Shop Type Only {}\".format(', '.join(self.SHOP_TYPE_LIST)))"
   ]
  },
  {
   "cell_type": "code",
   "execution_count": 122,
   "metadata": {},
   "outputs": [
    {
     "ename": "TypeError",
     "evalue": "'str' object is not callable",
     "output_type": "error",
     "traceback": [
      "\u001b[0;31m---------------------------------------------------------------------------\u001b[0m",
      "\u001b[0;31mTypeError\u001b[0m                                 Traceback (most recent call last)",
      "\u001b[0;32m<ipython-input-122-5d44a2dfba9d>\u001b[0m in \u001b[0;36m<module>\u001b[0;34m()\u001b[0m\n\u001b[1;32m      1\u001b[0m \u001b[0msubway\u001b[0m \u001b[0;34m=\u001b[0m \u001b[0mShop\u001b[0m\u001b[0;34m(\u001b[0m\u001b[0;34m\"Subway\"\u001b[0m\u001b[0;34m,\u001b[0m \u001b[0;34m\"Sandwich\"\u001b[0m\u001b[0;34m,\u001b[0m \u001b[0;34m\"Sung su\"\u001b[0m\u001b[0;34m)\u001b[0m\u001b[0;34m\u001b[0m\u001b[0m\n\u001b[0;32m----> 2\u001b[0;31m \u001b[0msubway\u001b[0m\u001b[0;34m.\u001b[0m\u001b[0mshop_type\u001b[0m\u001b[0;34m(\u001b[0m\u001b[0;34m)\u001b[0m\u001b[0;34m\u001b[0m\u001b[0m\n\u001b[0m",
      "\u001b[0;31mTypeError\u001b[0m: 'str' object is not callable"
     ]
    }
   ],
   "source": [
    "subway = Shop(\"Subway\", \"Sandwich\", \"Sung su\")\n",
    "subway.shop_type()"
   ]
  },
  {
   "cell_type": "code",
   "execution_count": 123,
   "metadata": {},
   "outputs": [
    {
     "data": {
      "text/plain": [
       "'Sandwich'"
      ]
     },
     "execution_count": 123,
     "metadata": {},
     "output_type": "execute_result"
    }
   ],
   "source": [
    "subway.shop_type"
   ]
  },
  {
   "cell_type": "code",
   "execution_count": 125,
   "metadata": {},
   "outputs": [
    {
     "name": "stdout",
     "output_type": "stream",
     "text": [
      "Shop Type Only Sandwich, fastFood\n"
     ]
    }
   ],
   "source": [
    "subway.shop_type = 'Function'"
   ]
  },
  {
   "cell_type": "code",
   "execution_count": null,
   "metadata": {},
   "outputs": [],
   "source": [
    "class Resturant(Shop):\n",
    "    pa"
   ]
  }
 ],
 "metadata": {
  "kernelspec": {
   "display_name": "Python 3",
   "language": "python",
   "name": "python3"
  },
  "language_info": {
   "codemirror_mode": {
    "name": "ipython",
    "version": 3
   },
   "file_extension": ".py",
   "mimetype": "text/x-python",
   "name": "python",
   "nbconvert_exporter": "python",
   "pygments_lexer": "ipython3",
   "version": "3.6.6"
  }
 },
 "nbformat": 4,
 "nbformat_minor": 2
}
