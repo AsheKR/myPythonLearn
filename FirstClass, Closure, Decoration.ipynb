{
 "cells": [
  {
   "cell_type": "code",
   "execution_count": 9,
   "metadata": {},
   "outputs": [
    {
     "name": "stdout",
     "output_type": "stream",
     "text": [
      "25\n",
      "<function square at 0x7f62c068c598>\n",
      "<function square at 0x7f62c068c598>\n"
     ]
    }
   ],
   "source": [
    "#first Class function\n",
    "def square(x):\n",
    "    return x*x\n",
    "\n",
    "print(square(5))\n",
    "\n",
    "f = square\n",
    "\n",
    "print(square)\n",
    "print(f)"
   ]
  },
  {
   "cell_type": "code",
   "execution_count": 11,
   "metadata": {},
   "outputs": [
    {
     "name": "stdout",
     "output_type": "stream",
     "text": [
      "25\n"
     ]
    }
   ],
   "source": [
    "def square(x):\n",
    "    return x*x\n",
    "\n",
    "f = square\n",
    "print(f(5))"
   ]
  },
  {
   "cell_type": "code",
   "execution_count": 13,
   "metadata": {},
   "outputs": [
    {
     "name": "stdout",
     "output_type": "stream",
     "text": [
      "[1, 4, 9, 16, 25]\n"
     ]
    }
   ],
   "source": [
    "def square(x):\n",
    "    return x*x\n",
    "\n",
    "def my_map(func, arg_list):\n",
    "    result = []\n",
    "    for i in arg_list:\n",
    "        result.append(func(i))\n",
    "    return result\n",
    "\n",
    "num_list = [1,2,3,4,5]\n",
    "\n",
    "squares = my_map(square, num_list)\n",
    "\n",
    "print(squares)"
   ]
  },
  {
   "cell_type": "code",
   "execution_count": 16,
   "metadata": {},
   "outputs": [
    {
     "name": "stdout",
     "output_type": "stream",
     "text": [
      "[1, 4, 9, 16, 25]\n"
     ]
    }
   ],
   "source": [
    "def square(x):\n",
    "    return x*x\n",
    "\n",
    "num_list = [1,2,3,4,5]\n",
    "\n",
    "def simple_square(arg_list):\n",
    "    result = []\n",
    "    for i in arg_list:\n",
    "        result.append(i*i)\n",
    "    return result\n",
    "\n",
    "simple_squares = simple_square(num_list)\n",
    "\n",
    "print(simple_squares)"
   ]
  },
  {
   "cell_type": "code",
   "execution_count": 21,
   "metadata": {},
   "outputs": [
    {
     "name": "stdout",
     "output_type": "stream",
     "text": [
      "[1, 4, 9, 16, 25]\n",
      "[1, 8, 27, 64, 125]\n",
      "[1, 16, 81, 256, 625]\n"
     ]
    }
   ],
   "source": [
    "def square(x):\n",
    "    return x*x\n",
    "\n",
    "def cube(x):\n",
    "    return x*x*x\n",
    "\n",
    "def quad(x):\n",
    "    return x*x*x*x\n",
    "\n",
    "def my_map(func, arg_list):\n",
    "    result = []\n",
    "    for i in arg_list:\n",
    "        result.append(func(i))\n",
    "    return result\n",
    "\n",
    "num_list = [1,2,3,4,5]\n",
    "\n",
    "squares = my_map(square, num_list)\n",
    "cubes = my_map(cube, num_list)\n",
    "quads = my_map(quad, num_list)\n",
    "\n",
    "print(squares)\n",
    "print(cubes)\n",
    "print(quads)"
   ]
  },
  {
   "cell_type": "code",
   "execution_count": 28,
   "metadata": {},
   "outputs": [
    {
     "name": "stdout",
     "output_type": "stream",
     "text": [
      "<function logger.<locals>.logger_message at 0x7f62c068c400>\n",
      "Log :  HI\n",
      "NameError: Logger is not Exist\n"
     ]
    },
    {
     "data": {
      "text/plain": [
       "<function __main__.logger.<locals>.logger_message()>"
      ]
     },
     "execution_count": 28,
     "metadata": {},
     "output_type": "execute_result"
    }
   ],
   "source": [
    "def logger(msg):\n",
    "    def logger_message():\n",
    "        print('Log : ', msg)\n",
    "        \n",
    "    return logger_message\n",
    "\n",
    "log_hi = logger('HI')\n",
    "print(log_hi)\n",
    "log_hi()\n",
    "\n",
    "del logger\n",
    "\n",
    "try:\n",
    "    print(logger)\n",
    "except NameError:\n",
    "    print(\"NameError: Logger is not Exist\")\n",
    "    \n",
    "log_hi"
   ]
  },
  {
   "cell_type": "code",
   "execution_count": 36,
   "metadata": {},
   "outputs": [
    {
     "name": "stdout",
     "output_type": "stream",
     "text": [
      "<h1>Simple Heading Title<h1>\n",
      "------------------------------\n",
      "<function html_tag.<locals>.wrap_text at 0x7f62c05e7d08>\n",
      "<h1>First Heading Title<h1>\n",
      "<h1>Second Heading Title<h1>\n",
      "<p>This is Pharagraph<p>\n"
     ]
    }
   ],
   "source": [
    "def simple_html_tag(tag, msg):\n",
    "    print('<{0}>{1}<{0}>'.format(tag, msg))\n",
    "    \n",
    "simple_html_tag('h1', 'Simple Heading Title')\n",
    "\n",
    "print('-'*30)\n",
    "\n",
    "def html_tag(tag):\n",
    "    def wrap_text(msg):\n",
    "        print('<{0}>{1}<{0}>'.format(tag, msg))\n",
    "    return wrap_text\n",
    "\n",
    "print_h1 = html_tag('h1')\n",
    "print(print_h1)\n",
    "print_h1('First Heading Title')\n",
    "print_h1('Second Heading Title')\n",
    "\n",
    "print_p = html_tag('p')\n",
    "print_p('This is Pharagraph')"
   ]
  },
  {
   "cell_type": "code",
   "execution_count": 4,
   "metadata": {},
   "outputs": [
    {
     "name": "stdout",
     "output_type": "stream",
     "text": [
      "53\n",
      "56\n",
      "59\n",
      "53\n"
     ]
    }
   ],
   "source": [
    "# Closure\n",
    "\n",
    "level = 0\n",
    "def outer():\n",
    "    level = 50\n",
    "    def inner():\n",
    "        nonlocal level\n",
    "        level += 3\n",
    "        print(level)\n",
    "    return inner\n",
    "\n",
    "f = outer()\n",
    "f()\n",
    "f()\n",
    "f()\n",
    "\n",
    "f2 = outer()\n",
    "f2()"
   ]
  },
  {
   "cell_type": "code",
   "execution_count": 38,
   "metadata": {},
   "outputs": [
    {
     "name": "stdout",
     "output_type": "stream",
     "text": [
      "HI\n"
     ]
    }
   ],
   "source": [
    "def outer_func():\n",
    "    message = 'HI'\n",
    "    \n",
    "    def inner_func():\n",
    "        print(message)\n",
    "        \n",
    "    return inner_func()\n",
    "\n",
    "outer_func()"
   ]
  },
  {
   "cell_type": "code",
   "execution_count": 40,
   "metadata": {},
   "outputs": [
    {
     "data": {
      "text/plain": [
       "<function __main__.outer_func.<locals>.inner_func()>"
      ]
     },
     "execution_count": 40,
     "metadata": {},
     "output_type": "execute_result"
    }
   ],
   "source": [
    "def outer_func():\n",
    "    message = 'HI'\n",
    "    def inner_func():\n",
    "        print(message)\n",
    "    return inner_func\n",
    "\n",
    "outer_func()"
   ]
  },
  {
   "cell_type": "code",
   "execution_count": 52,
   "metadata": {},
   "outputs": [
    {
     "name": "stdout",
     "output_type": "stream",
     "text": [
      "<function outer_func.<locals>.inner_func at 0x7f62c05ca840>\n",
      "\n",
      "['__annotations__', '__call__', '__class__', '__closure__', '__code__', '__defaults__', '__delattr__', '__dict__', '__dir__', '__doc__', '__eq__', '__format__', '__ge__', '__get__', '__getattribute__', '__globals__', '__gt__', '__hash__', '__init__', '__init_subclass__', '__kwdefaults__', '__le__', '__lt__', '__module__', '__name__', '__ne__', '__new__', '__qualname__', '__reduce__', '__reduce_ex__', '__repr__', '__setattr__', '__sizeof__', '__str__', '__subclasshook__']\n",
      "\n",
      "<class 'tuple'>\n",
      "\n",
      "(<cell at 0x7f62c05c8588: str object at 0x7f62c05a43b0>,)\n",
      "\n",
      "<cell at 0x7f62c05c8588: str object at 0x7f62c05a43b0>\n",
      "\n",
      "['__class__', '__delattr__', '__dir__', '__doc__', '__eq__', '__format__', '__ge__', '__getattribute__', '__gt__', '__hash__', '__init__', '__init_subclass__', '__le__', '__lt__', '__ne__', '__new__', '__reduce__', '__reduce_ex__', '__repr__', '__setattr__', '__sizeof__', '__str__', '__subclasshook__', 'cell_contents']\n",
      "\n",
      "HI\n"
     ]
    }
   ],
   "source": [
    "def outer_func():\n",
    "    message = 'HI'\n",
    "    \n",
    "    def inner_func():\n",
    "        print(message)\n",
    "    \n",
    "    return inner_func\n",
    "\n",
    "my_func = outer_func()\n",
    "print(my_func)\n",
    "print()\n",
    "print(dir(my_func))\n",
    "print()\n",
    "print(type(my_func.__closure__))\n",
    "print()\n",
    "print(my_func.__closure__)\n",
    "print()\n",
    "print(my_func.__closure__[0])\n",
    "print()\n",
    "print(dir(my_func.__closure__[0]))\n",
    "print()\n",
    "print(my_func.__closure__[0].cell_contents)"
   ]
  },
  {
   "cell_type": "code",
   "execution_count": 54,
   "metadata": {},
   "outputs": [
    {
     "name": "stdout",
     "output_type": "stream",
     "text": [
      "<h1>Some Text<h1>\n",
      "<p>Some Text<p>\n"
     ]
    }
   ],
   "source": [
    "def outer_func(tag):\n",
    "    text = 'Some Text'\n",
    "    tag = tag\n",
    "    \n",
    "    def inner_func():\n",
    "        print('<{0}>{1}<{0}>'.format(tag, text))\n",
    "        \n",
    "    return inner_func\n",
    "\n",
    "h1_func = outer_func('h1')\n",
    "p_func = outer_func('p')\n",
    "\n",
    "h1_func()\n",
    "p_func()"
   ]
  },
  {
   "cell_type": "code",
   "execution_count": 55,
   "metadata": {},
   "outputs": [
    {
     "name": "stdout",
     "output_type": "stream",
     "text": [
      "<h1>H1 TAG<h1>\n",
      "<p>P TAG<p>\n"
     ]
    }
   ],
   "source": [
    "def outer_func(tag):\n",
    "    tag = tag\n",
    "    \n",
    "    def inner_func(msg):\n",
    "        print('<{0}>{1}<{0}>'.format(tag, msg))\n",
    "        \n",
    "    return inner_func\n",
    "\n",
    "h1_func = outer_func('h1')\n",
    "p_func = outer_func('p')\n",
    "\n",
    "h1_func('H1 TAG')\n",
    "p_func('P TAG')"
   ]
  },
  {
   "cell_type": "code",
   "execution_count": 58,
   "metadata": {},
   "outputs": [
    {
     "name": "stdout",
     "output_type": "stream",
     "text": [
      "DISPLAY FUNCTION\n"
     ]
    }
   ],
   "source": [
    "def decorator_function(original_function):\n",
    "    def wrapper_function():\n",
    "        return original_function()\n",
    "    return wrapper_function\n",
    "\n",
    "def display():\n",
    "    print(\"DISPLAY FUNCTION\")\n",
    "    \n",
    "decorated_display = decorator_function(display)\n",
    "\n",
    "decorated_display()"
   ]
  },
  {
   "cell_type": "code",
   "execution_count": 67,
   "metadata": {},
   "outputs": [
    {
     "name": "stdout",
     "output_type": "stream",
     "text": [
      "display_1 before function call\n",
      "display_1 Function Called\n",
      "\n",
      "display_2 before function call\n",
      "display_2 Function Called\n"
     ]
    }
   ],
   "source": [
    "def decorator_function(original_function):\n",
    "    def wrapper_function(*args, **kwargs):\n",
    "        print('{} before function call'.format(original_function.__name__))\n",
    "        return original_function(*args, **kwargs)\n",
    "    return wrapper_function\n",
    "\n",
    "@decorator_function\n",
    "def display_1():\n",
    "    print('display_1 Function Called')\n",
    "    \n",
    "@decorator_function\n",
    "def display_2():\n",
    "    print('display_2 Function Called')\n",
    "    \n",
    "# display_1 = decorator_function(display_1)\n",
    "# display_2 = decorator_function(display_2)\n",
    "\n",
    "display_1()\n",
    "print()\n",
    "display_2()"
   ]
  },
  {
   "cell_type": "code",
   "execution_count": 68,
   "metadata": {},
   "outputs": [
    {
     "name": "stdout",
     "output_type": "stream",
     "text": [
      "display_info before function call\n",
      "DISPLAY_INFO(John,25)\n"
     ]
    }
   ],
   "source": [
    "@decorator_function\n",
    "def display_info(name, age):\n",
    "    print(\"DISPLAY_INFO({},{})\".format(name, age))\n",
    "    \n",
    "display_info('John', 25)"
   ]
  },
  {
   "cell_type": "code",
   "execution_count": 72,
   "metadata": {},
   "outputs": [
    {
     "name": "stdout",
     "output_type": "stream",
     "text": [
      "display befor Function Call\n",
      "DISPLAY\n",
      "\n",
      "display_info befor Function Call\n",
      "DISPLAY INFO: John, 25\n"
     ]
    }
   ],
   "source": [
    "class DecoratorClass:\n",
    "    def __init__(self, original_function):\n",
    "        self.original_function = original_function\n",
    "        \n",
    "    def __call__(self, *args, **kwargs):\n",
    "        print(\"{} befor Function Call\".format(self.original_function.__name__))\n",
    "        return self.original_function(*args, **kwargs)\n",
    "    \n",
    "@DecoratorClass\n",
    "def display():\n",
    "    print(\"DISPLAY\")\n",
    "\n",
    "@DecoratorClass\n",
    "def display_info(name, age):\n",
    "    print(\"DISPLAY INFO: {}, {}\".format(name, age))\n",
    "\n",
    "display()\n",
    "print()\n",
    "display_info('John', 25)"
   ]
  },
  {
   "cell_type": "markdown",
   "metadata": {},
   "source": [
    "## Decorator\n",
    "\n",
    "[DECORATOR](http://schoolofweb.net/blog/posts/%ED%8C%8C%EC%9D%B4%EC%8D%AC-%EB%8D%B0%EC%BD%94%EB%A0%88%EC%9D%B4%ED%84%B0-decorator/)"
   ]
  },
  {
   "cell_type": "code",
   "execution_count": null,
   "metadata": {},
   "outputs": [],
   "source": []
  }
 ],
 "metadata": {
  "kernelspec": {
   "display_name": "Python 3",
   "language": "python",
   "name": "python3"
  },
  "language_info": {
   "codemirror_mode": {
    "name": "ipython",
    "version": 3
   },
   "file_extension": ".py",
   "mimetype": "text/x-python",
   "name": "python",
   "nbconvert_exporter": "python",
   "pygments_lexer": "ipython3",
   "version": "3.6.6"
  }
 },
 "nbformat": 4,
 "nbformat_minor": 2
}
