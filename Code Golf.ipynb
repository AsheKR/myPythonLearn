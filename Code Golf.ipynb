{
 "cells": [
  {
   "cell_type": "code",
   "execution_count": 1,
   "metadata": {},
   "outputs": [
    {
     "name": "stdout",
     "output_type": "stream",
     "text": [
      "6 4\n"
     ]
    }
   ],
   "source": [
    "# IF\n",
    "a = 4\n",
    "b = 6\n",
    "\n",
    "long = a if a>b else b\n",
    "\n",
    "short = (a,b)[a>b]\n",
    "\n",
    "print(long, short)"
   ]
  },
  {
   "cell_type": "code",
   "execution_count": 3,
   "metadata": {},
   "outputs": [
    {
     "name": "stdout",
     "output_type": "stream",
     "text": [
      "TRUE\n",
      "TRUE\n",
      "TRUE\n"
     ]
    }
   ],
   "source": [
    "# IF\n",
    "\n",
    "i = 4\n",
    "j = 4\n",
    "\n",
    "TRUE = 'TRUE'\n",
    "\n",
    "if i==4 and j==4:\n",
    "    print(TRUE)\n",
    "    \n",
    "if i==j==4:\n",
    "    print(TRUE)\n",
    "\n",
    "if (i,j)==(4,4):\n",
    "    print(TRUE)"
   ]
  },
  {
   "cell_type": "code",
   "execution_count": 21,
   "metadata": {},
   "outputs": [
    {
     "name": "stdout",
     "output_type": "stream",
     "text": [
      "[0, 1, 2, 3]\n",
      "[0, 1, 2, 3]\n",
      "[0, 1, 2, 3]\n",
      "['a', 'b', 'c', 'd']\n",
      "['a', 'b', 'c', 'd']\n",
      "['a', 'b', 'c', 'd']\n",
      "['a', 'b', 'c', 'd']\n",
      "<class 'list'>\n"
     ]
    }
   ],
   "source": [
    "# LIST ASSIGN\n",
    "i = (1,2,3,4)\n",
    "i = [i for i in range(4)]\n",
    "\n",
    "print(i)\n",
    "\n",
    "x=list(i)\n",
    "print(x)\n",
    "*y,=i\n",
    "print(y)\n",
    "\n",
    "# USEFUL TO MAKE A LIST OF CHARS\n",
    "s=['a','b','c','d']\n",
    "print(s)\n",
    "s=[*'abcd']\n",
    "print(s)\n",
    "s=list('abcd')\n",
    "print(s)\n",
    "*s,='abcd'\n",
    "print(s)"
   ]
  },
  {
   "cell_type": "code",
   "execution_count": 13,
   "metadata": {},
   "outputs": [],
   "source": [
    "fruits = ['Apple', 'baanan', 'melon']\n",
    "colors = ['red', 'yellow', 'green', 'purple', 'orango']"
   ]
  },
  {
   "cell_type": "code",
   "execution_count": 14,
   "metadata": {},
   "outputs": [
    {
     "name": "stdout",
     "output_type": "stream",
     "text": [
      "[('red', 'Apple'), ('red', 'baanan'), ('red', 'melon'), ('yellow', 'Apple'), ('yellow', 'baanan'), ('yellow', 'melon'), ('green', 'Apple'), ('green', 'baanan'), ('green', 'melon'), ('purple', 'Apple'), ('purple', 'baanan'), ('purple', 'melon'), ('orango', 'Apple'), ('orango', 'baanan'), ('orango', 'melon')]\n",
      "[('red', 'Apple'), ('red', 'baanan'), ('red', 'melon'), ('yellow', 'Apple'), ('yellow', 'baanan'), ('yellow', 'melon'), ('green', 'Apple'), ('green', 'baanan'), ('green', 'melon'), ('purple', 'Apple'), ('purple', 'baanan'), ('purple', 'melon'), ('orango', 'Apple'), ('orango', 'baanan'), ('orango', 'melon')]\n"
     ]
    }
   ],
   "source": [
    "# LIST\n",
    "results = []\n",
    "for color in colors:\n",
    "    for fruit in fruits:\n",
    "        results.append((color, fruit))\n",
    "        \n",
    "print(results)\n",
    "\n",
    "results = [(color, fruit) for color in colors for fruit in fruits]\n",
    "print(results)"
   ]
  },
  {
   "cell_type": "code",
   "execution_count": 29,
   "metadata": {},
   "outputs": [
    {
     "name": "stdout",
     "output_type": "stream",
     "text": [
      "0 0\n",
      "0 1\n",
      "1 0\n",
      "1 1\n",
      "2 0\n",
      "2 1\n",
      "3 0\n",
      "3 1\n",
      "4 0\n",
      "4 1\n",
      "---\n",
      "0 0\n",
      "0 1\n",
      "1 0\n",
      "1 1\n",
      "2 0\n",
      "2 1\n",
      "3 0\n",
      "3 1\n",
      "4 0\n",
      "4 1\n"
     ]
    }
   ],
   "source": [
    "# 2 loop FOR\n",
    "m = 5\n",
    "n = 2\n",
    "\n",
    "for i in range(m):\n",
    "    for j in range(n):\n",
    "        print(i, j)\n",
    "\n",
    "print(\"---\")\n",
    "\n",
    "for k in range (m*n):\n",
    "    print(int(k/n),k%n)"
   ]
  },
  {
   "cell_type": "code",
   "execution_count": 36,
   "metadata": {},
   "outputs": [
    {
     "data": {
      "text/plain": [
       "[4, 3, 2, 1]"
      ]
     },
     "execution_count": 36,
     "metadata": {},
     "output_type": "execute_result"
    }
   ],
   "source": [
    "# REVERSE LIST\n",
    "[1,2,3,4][::-1]"
   ]
  },
  {
   "cell_type": "code",
   "execution_count": 39,
   "metadata": {},
   "outputs": [],
   "source": [
    "# CHARACTER LIST\n",
    "a = [chr(i+97) for i in range(26)]\n",
    "a = map(chr, range(97, 123))"
   ]
  },
  {
   "cell_type": "code",
   "execution_count": 40,
   "metadata": {},
   "outputs": [
    {
     "data": {
      "text/plain": [
       "'runThisPtherOtherCode()'"
      ]
     },
     "execution_count": 40,
     "metadata": {},
     "output_type": "execute_result"
    }
   ],
   "source": [
    "# PYTHON SWITCH\n",
    "a = 3\n",
    "\n",
    "{1:'runThisCode()', 2:\"runThisOtherCode()\", 3:\"runThisPtherOtherCode()\"}[a]"
   ]
  },
  {
   "cell_type": "code",
   "execution_count": 54,
   "metadata": {},
   "outputs": [
    {
     "name": "stdout",
     "output_type": "stream",
     "text": [
      "(3, 5, 32, 3, 4)\n",
      "{'name': 1, 'age': 3}\n",
      "(1, 3, 5)\n",
      "{'name': 5, 'kww': 1}\n"
     ]
    }
   ],
   "source": [
    "#ARGS, DICT ARGS\n",
    "def print_args(*args):\n",
    "    print(args)\n",
    "    \n",
    "def print_kwargs(**kwargs):\n",
    "    print(kwargs)\n",
    "    \n",
    "print_args(3,5,32,3,4)\n",
    "print_kwargs(name=1, age=3)\n",
    "# print_args(name=1)\n",
    "# print_kwargs(3)\n",
    "\n",
    "def print_all_args(*args, **kwargs):\n",
    "    print(args)\n",
    "    print(kwargs)\n",
    "    \n",
    "print_all_args(1,3,5,name=5,kww=1)"
   ]
  },
  {
   "cell_type": "code",
   "execution_count": 55,
   "metadata": {},
   "outputs": [
    {
     "name": "stdout",
     "output_type": "stream",
     "text": [
      "Help on function docString_example in module __main__:\n",
      "\n",
      "docString_example()\n",
      "    Return DocString\n",
      "\n"
     ]
    }
   ],
   "source": [
    "#DOCSTRING\n",
    "def docString_example():\n",
    "    '''\n",
    "        Return DocString\n",
    "    '''\n",
    "    print(\"AA\")\n",
    "    \n",
    "help(docString_example)"
   ]
  },
  {
   "cell_type": "code",
   "execution_count": 57,
   "metadata": {},
   "outputs": [
    {
     "name": "stdout",
     "output_type": "stream",
     "text": [
      "Call Function\n"
     ]
    }
   ],
   "source": [
    "def print_call_function():\n",
    "    print(\"Call Function\")\n",
    "    \n",
    "def run_function(f):\n",
    "    f()\n",
    "    \n",
    "run_function(print_call_function)"
   ]
  },
  {
   "cell_type": "code",
   "execution_count": 59,
   "metadata": {},
   "outputs": [
    {
     "name": "stdout",
     "output_type": "stream",
     "text": [
      "show_global_champion : Lux\n",
      "print champion: Lux\n"
     ]
    }
   ],
   "source": [
    "champion = 'Lux'\n",
    "\n",
    "def show_global_champion():\n",
    "    print('show_global_champion : {}'.format(champion))\n",
    "    \n",
    "show_global_champion()\n",
    "print('print champion: {}'.format(champion))"
   ]
  },
  {
   "cell_type": "code",
   "execution_count": 62,
   "metadata": {},
   "outputs": [
    {
     "name": "stdout",
     "output_type": "stream",
     "text": [
      "show_global_champion : Lux\n"
     ]
    },
    {
     "ename": "UnboundLocalError",
     "evalue": "local variable 'champion' referenced before assignment",
     "output_type": "error",
     "traceback": [
      "\u001b[0;31m---------------------------------------------------------------------------\u001b[0m",
      "\u001b[0;31mUnboundLocalError\u001b[0m                         Traceback (most recent call last)",
      "\u001b[0;32m<ipython-input-62-5d7214b3d074>\u001b[0m in \u001b[0;36m<module>\u001b[0;34m()\u001b[0m\n\u001b[1;32m     10\u001b[0m \u001b[0;34m\u001b[0m\u001b[0m\n\u001b[1;32m     11\u001b[0m \u001b[0mshow_global_champion\u001b[0m\u001b[0;34m(\u001b[0m\u001b[0;34m)\u001b[0m\u001b[0;34m\u001b[0m\u001b[0m\n\u001b[0;32m---> 12\u001b[0;31m \u001b[0mchange_global_champion\u001b[0m\u001b[0;34m(\u001b[0m\u001b[0;34m)\u001b[0m\u001b[0;34m\u001b[0m\u001b[0m\n\u001b[0m",
      "\u001b[0;32m<ipython-input-62-5d7214b3d074>\u001b[0m in \u001b[0;36mchange_global_champion\u001b[0;34m()\u001b[0m\n\u001b[1;32m      5\u001b[0m \u001b[0;34m\u001b[0m\u001b[0m\n\u001b[1;32m      6\u001b[0m \u001b[0;32mdef\u001b[0m \u001b[0mchange_global_champion\u001b[0m\u001b[0;34m(\u001b[0m\u001b[0;34m)\u001b[0m\u001b[0;34m:\u001b[0m\u001b[0;34m\u001b[0m\u001b[0m\n\u001b[0;32m----> 7\u001b[0;31m     \u001b[0mprint\u001b[0m\u001b[0;34m(\u001b[0m\u001b[0;34mf'before change global: {champion}'\u001b[0m\u001b[0;34m)\u001b[0m\u001b[0;34m\u001b[0m\u001b[0m\n\u001b[0m\u001b[1;32m      8\u001b[0m     \u001b[0mchampion\u001b[0m \u001b[0;34m=\u001b[0m \u001b[0;34m'Ahri'\u001b[0m\u001b[0;34m\u001b[0m\u001b[0m\n\u001b[1;32m      9\u001b[0m     \u001b[0mprint\u001b[0m\u001b[0;34m(\u001b[0m\u001b[0;34mf'ater change global: {champion}'\u001b[0m\u001b[0;34m)\u001b[0m\u001b[0;34m\u001b[0m\u001b[0m\n",
      "\u001b[0;31mUnboundLocalError\u001b[0m: local variable 'champion' referenced before assignment"
     ]
    }
   ],
   "source": [
    "champion = 'Lux'\n",
    "\n",
    "def show_global_champion():\n",
    "    print('show_global_champion : {}'.format(champion))\n",
    "    \n",
    "def change_global_champion():\n",
    "    print(f'before change global: {champion}')\n",
    "    champion = 'Ahri'\n",
    "    print(f'ater change global: {champion}')\n",
    "    \n",
    "show_global_champion()\n",
    "change_global_champion()"
   ]
  },
  {
   "cell_type": "code",
   "execution_count": 63,
   "metadata": {},
   "outputs": [
    {
     "data": {
      "text/plain": [
       "<module 'builtins' (built-in)>"
      ]
     },
     "execution_count": 63,
     "metadata": {},
     "output_type": "execute_result"
    }
   ],
   "source": [
    "__builtin__"
   ]
  },
  {
   "cell_type": "code",
   "execution_count": 64,
   "metadata": {},
   "outputs": [
    {
     "data": {
      "text/plain": [
       "{'__name__': '__main__',\n",
       " '__doc__': 'Automatically created module for IPython interactive environment',\n",
       " '__package__': None,\n",
       " '__loader__': None,\n",
       " '__spec__': None,\n",
       " '__builtin__': <module 'builtins' (built-in)>,\n",
       " '__builtins__': <module 'builtins' (built-in)>,\n",
       " '_ih': ['',\n",
       "  '# HHOHOHOTHOTHTOHTOH\\na = 4\\nb = 6\\n\\nlong = a if a>b else b\\n\\nshort = (a,b)[a>b]\\n\\nprint(long, short)',\n",
       "  '# IF\\n\\ni = 4\\nj = 4\\n\\nif i==4 and j==4:\\n    print(TRUE)\\n    \\nif i==j==4:\\n    print(TRUE)\\n\\nif (i,j)==(4,4):\\n    print(TRUE)',\n",
       "  \"# IF\\n\\ni = 4\\nj = 4\\n\\nTRUE = 'TRUE'\\n\\nif i==4 and j==4:\\n    print(TRUE)\\n    \\nif i==j==4:\\n    print(TRUE)\\n\\nif (i,j)==(4,4):\\n    print(TRUE)\",\n",
       "  '# LIST\\ni = (1,2,3,4)\\ni = range(4)\\ni = (x**2 for x in range(5))\\nprint(i)',\n",
       "  '# LIST\\ni = (1,2,3,4)\\ni = range(4)\\ni = (x**2 for x in range(5))\\nprint(i)',\n",
       "  '# LIST\\ni = (1,2,3,4)\\ni = range(4)\\ni = [x**2 for x in range(5)]\\nprint(i)',\n",
       "  '# LIST\\ni = (1,2,3,4)\\ni = range(4)\\n\\nprint(i)\\n\\nx=list(i)\\nprint(x)',\n",
       "  '# LIST\\ni = (1,2,3,4)\\ni = [range(4)]\\n\\nprint(i)\\n\\nx=list(i)\\nprint(x)',\n",
       "  '# LIST\\ni = (1,2,3,4)\\ni = [for i in range(4)]\\n\\nprint(i)\\n\\nx=list(i)\\nprint(x)',\n",
       "  '# LIST\\ni = (1,2,3,4)\\ni = [i for i in range(4)]\\n\\nprint(i)\\n\\nx=list(i)\\nprint(x)',\n",
       "  '# LIST\\nresults = []\\nfor color in colors:\\n    for fruit in fruits:\\n        results.append((color, fruit))\\n        \\nprint(results)\\n\\nresults = [(color, fruit) for color in colors for fruit in fruits]\\nprint(results)',\n",
       "  '# LIST\\ni = (1,2,3,4)\\ni = [i for i in range(4)]\\n\\nprint(i)\\n\\nx=list(i)\\nprint(x)',\n",
       "  \"fruits = ['Apple', 'baanan', 'melon']\\ncolors = ['red', 'yellow', 'green', 'purple', 'orango']\",\n",
       "  '# LIST\\nresults = []\\nfor color in colors:\\n    for fruit in fruits:\\n        results.append((color, fruit))\\n        \\nprint(results)\\n\\nresults = [(color, fruit) for color in colors for fruit in fruits]\\nprint(results)',\n",
       "  '# LIST ASSIGN\\ni = (1,2,3,4)\\ni = [i for i in range(4)]\\n\\nprint(i)\\n\\nx=list(i)\\nprint(x)\\n*x,=i\\nprint(x)',\n",
       "  '# LIST ASSIGN\\ni = (1,2,3,4)\\ni = [i for i in range(4)]\\n\\nprint(i)\\n\\nx=list(i)\\nprint(x)\\n*y,=i\\nprint(y)',\n",
       "  \"# LIST ASSIGN\\ni = (1,2,3,4)\\ni = [i for i in range(4)]\\n\\nprint(i)\\n\\nx=list(i)\\nprint(x)\\n*y,=i\\nprint(y)\\n\\n# USEFUL TO MAKE A LIST OF CHARS\\ns=['a','b','c','d']\\nprint(s)\\ns=list('abcde')\\nprint(s)\\n*s,='abcde'\\nprint(s)\",\n",
       "  \"# LIST ASSIGN\\ni = (1,2,3,4)\\ni = [i for i in range(4)]\\n\\nprint(i)\\n\\nx=list(i)\\nprint(x)\\n*y,=i\\nprint(y)\\n\\n# USEFUL TO MAKE A LIST OF CHARS\\ns=['a','b','c','d']\\nprint(s)\\ns=list('abcd')\\nprint(s)\\n*s,='abcd'\\nprint(s)\",\n",
       "  \"# LIST ASSIGN\\ni = (1,2,3,4)\\ni = [i for i in range(4)]\\n\\nprint(i)\\n\\nx=list(i)\\nprint(x)\\n*y,=i\\nprint(y)\\n\\n# USEFUL TO MAKE A LIST OF CHARS\\ns=['a','b','c','d']\\nprint(s)\\ns=[*'abcde']\\nprint(s)\\ns=list('abcd')\\nprint(s)\\n*s,='abcd'\\nprint(s)\",\n",
       "  \"# LIST ASSIGN\\ni = (1,2,3,4)\\ni = [i for i in range(4)]\\n\\nprint(i)\\n\\nx=list(i)\\nprint(x)\\n*y,=i\\nprint(y)\\n\\n# USEFUL TO MAKE A LIST OF CHARS\\ns=['a','b','c','d']\\nprint(s)\\ns=[*'abcd']\\nprint(s)\\ns=list('abcd')\\nprint(s)\\n*s,='abcd'\\nprint(s)\",\n",
       "  \"# LIST ASSIGN\\ni = (1,2,3,4)\\ni = [i for i in range(4)]\\n\\nprint(i)\\n\\nx=list(i)\\nprint(x)\\n*y,=i\\nprint(y)\\n\\n# USEFUL TO MAKE A LIST OF CHARS\\ns=['a','b','c','d']\\nprint(s)\\ns=[*'abcd']\\nprint(s)\\ns=list('abcd')\\nprint(s)\\n*s,='abcd'\\nprint(s)\\nprint(type(s))\",\n",
       "  '# FOR\\nm = 5\\nn = 2\\nfor i in range(m):\\n    for j in range(n):\\n        print(m, n)',\n",
       "  '# FOR\\nm = 5\\nn = 2\\nfor i in range(m):\\n    for j in range(n):\\n        print(i, j)',\n",
       "  '# FOR\\nm = 5\\nn = 2\\nfor i in range(m):\\n    for j in range(n):\\n        print(i, j)\\n    print(\"---\")',\n",
       "  '# FOR\\nm = 5\\nn = 2\\nfor i in range(m):\\n    for j in range(n):\\n        print(i, j)\\n    \\nfor k in range (m*n):\\n    print(k/n,k%n)',\n",
       "  '# FOR\\nm = 5\\nn = 2\\nfor i in range(m):\\n    for j in range(n):\\n        print(i, j)\\n    \\nfor k in range (m*n):\\n    print(int(k/n),k%n)',\n",
       "  '# FOR\\nm = 5\\nn = 2\\nfor i in range(m):\\n    for j in range(n):\\n        print(i, j)\\n\\nprint(\"---\")\\n\\nfor k in range (m*n):\\n    print(int(k/n),k%n)',\n",
       "  '# 2 loop FOR\\nm = 5\\nn = 2\\n\\nfor i in range(m):\\n    for j in range(n):\\n        print(i, j)\\n\\nprint(\"---\")\\n\\nfor k in range (m*n):\\n    print(int(k/n),k%n)\\n    \\n# 3 loop FOR\\nm = 4\\nn = 3\\no = 2\\n\\nfor i in range(m*n*o):\\n    print(i/n/o, i%(n*o)/o, i%o)',\n",
       "  '# 2 loop FOR\\nm = 5\\nn = 2\\n\\nfor i in range(m):\\n    for j in range(n):\\n        print(i, j)\\n\\nprint(\"---\")\\n\\nfor k in range (m*n):\\n    print(int(k/n),k%n)',\n",
       "  '# WHILE\\n\\nn = 4\\n\\nwhile n-1: # same as white n!=1\\n    print(n)\\n\\nn=4\\n\\nwhile~-n:\\n    print(n)',\n",
       "  '*a,=[1,2,3,4]\\nprint(a)',\n",
       "  '*a=[1,2,3,4]\\nprint(a)',\n",
       "  '*a,=[1,2,3,4]\\nprint(a)',\n",
       "  'for i in[1]*8:\\n    print(i)',\n",
       "  '# REVERSE LIST\\n[1,2,3,4].[::-1]',\n",
       "  '# REVERSE LIST\\n[1,2,3,4][::-1]',\n",
       "  '# CHARACTER LIST\\n[chr(i+97) for i in R(26)]',\n",
       "  '# CHARACTER LIST\\n[chr(i+97) for i in range(26)]',\n",
       "  '# CHARACTER LIST\\na = [chr(i+97) for i in range(26)]\\na = map(chr, range(97, 123))',\n",
       "  '# PYTHON SWITCH\\na = 3\\n\\n{1:\\'runThisCode()\\', 2:\"runThisOtherCode()\", 3:\"runThisPtherOtherCode()\"}[a]',\n",
       "  'def print_args(*args):\\n    print(args)\\n    \\ndef print_kwargs(**kwargs):\\n    print(kwargs)\\n    \\nprint_args(1)',\n",
       "  'def print_args(*args):\\n    print(args)\\n    \\ndef print_kwargs(**kwargs):\\n    print(kwargs)\\n    \\nprint_args(3,5)',\n",
       "  'def print_args(*args):\\n    print(args)\\n    \\ndef print_kwargs(**kwargs):\\n    print(kwargs)\\n    \\nprint_args(3,5,3)',\n",
       "  'def print_args(*args):\\n    print(args)\\n    \\ndef print_kwargs(**kwargs):\\n    print(kwargs)\\n    \\nprint_args(3,5,32,3,4)',\n",
       "  'def print_args(*args):\\n    print(args)\\n    \\ndef print_kwargs(**kwargs):\\n    print(kwargs)\\n    \\nprint_args(3,5,32,3,4)\\nprint_kwargs(2,4)',\n",
       "  \"def print_args(*args):\\n    print(args)\\n    \\ndef print_kwargs(**kwargs):\\n    print(kwargs)\\n    \\nprint_args(3,5,32,3,4)\\nprint_kwargs('a')\",\n",
       "  \"def print_args(*args):\\n    print(args)\\n    \\ndef print_kwargs(**kwargs):\\n    print(kwargs)\\n    \\nprint_args(3,5,32,3,4)\\nprint_kwargs('a','b')\",\n",
       "  'def print_args(*args):\\n    print(args)\\n    \\ndef print_kwargs(**kwargs):\\n    print(kwargs)\\n    \\nprint_args(3,5,32,3,4)\\nprint_kwargs()',\n",
       "  'def print_args(*args):\\n    print(args)\\n    \\ndef print_kwargs(**kwargs):\\n    print(kwargs)\\n    \\nprint_args(3,5,32,3,4)\\nprint_kwargs([1,2])',\n",
       "  'def print_args(*args):\\n    print(args)\\n    \\ndef print_kwargs(**kwargs):\\n    print(kwargs)\\n    \\nprint_args(3,5,32,3,4)\\nprint_kwargs(name=1, age=3)',\n",
       "  'def print_args(*args):\\n    print(args)\\n    \\ndef print_kwargs(**kwargs):\\n    print(kwargs)\\n    \\nprint_args(3,5,32,3,4)\\nprint_kwargs(name=1, age=3)\\nprint_args(name=1)',\n",
       "  'def print_args(*args):\\n    print(args)\\n    \\ndef print_kwargs(**kwargs):\\n    print(kwargs)\\n    \\nprint_args(3,5,32,3,4)\\nprint_kwargs(name=1, age=3)\\nprint_args(name=1)\\nprint_kwargs(3)',\n",
       "  'def print_args(*args):\\n    print(args)\\n    \\ndef print_kwargs(**kwargs):\\n    print(kwargs)\\n    \\nprint_args(3,5,32,3,4)\\nprint_kwargs(name=1, age=3)\\n# print_args(name=1)\\nprint_kwargs(3)',\n",
       "  'def print_args(*args):\\n    print(args)\\n    \\ndef print_kwargs(**kwargs):\\n    print(kwargs)\\n    \\nprint_args(3,5,32,3,4)\\nprint_kwargs(name=1, age=3)\\n# print_args(name=1)\\n# print_kwargs(3)\\n\\ndef print_all_args(*args, **kwargs):\\n    print(args)\\n    print(kwargs)\\n    \\nprint_all_args(1,3,5,name=5,kww=1)',\n",
       "  'def docString_example():\\n    \\'\\'\\'\\n        Return DocString\\n    \\'\\'\\'\\n    print(\"AA\")\\n    \\nhelp(docString_example)',\n",
       "  'def print_call_function():\\n    print(\"Call Function\")\\n    \\ndef f(fc):\\n    fc()\\n    \\nf(print_call_function)',\n",
       "  'def print_call_function():\\n    print(\"Call Function\")\\n    \\ndef run_function(f):\\n    f()\\n    \\nrun_function(print_call_function)',\n",
       "  \"champion = 'Lux'\\n\\ndef show_global_champion():\\n    print('show_global_champion : {}'.format(champion))\\n    \\nshow_global_champion()\\nprint('print champion: {}').format(champion)\",\n",
       "  \"champion = 'Lux'\\n\\ndef show_global_champion():\\n    print('show_global_champion : {}'.format(champion))\\n    \\nshow_global_champion()\\nprint('print champion: {}'.format(champion))\",\n",
       "  \"champion = 'Lux'\\n\\ndef show_global_champion():\\n    print('show_global_champion : {}'.format(champion))\\n    \\ndef change_global_champion():\\n    print(f'before change global: {champion}')\\n    print(f'ater change global: {champion})\\n    \\nshow_global_champion()\\nprint('print champion: {}'.format(champion))\",\n",
       "  \"champion = 'Lux'\\n\\ndef show_global_champion():\\n    print('show_global_champion : {}'.format(champion))\\n    \\ndef change_global_champion():\\n    print(f'before change global: {champion}')\\n    champion = 'Ahri'\\n    print(f'ater change global: {champion}')\\n    \\nshow_global_champion()\\nprint('print champion: {}'.format(champion))\",\n",
       "  \"champion = 'Lux'\\n\\ndef show_global_champion():\\n    print('show_global_champion : {}'.format(champion))\\n    \\ndef change_global_champion():\\n    print(f'before change global: {champion}')\\n    champion = 'Ahri'\\n    print(f'ater change global: {champion}')\\n    \\nshow_global_champion()\\nchange_global_champion()\",\n",
       "  '__builtin__',\n",
       "  'locals()'],\n",
       " '_oh': {36: [4, 3, 2, 1],\n",
       "  38: ['a',\n",
       "   'b',\n",
       "   'c',\n",
       "   'd',\n",
       "   'e',\n",
       "   'f',\n",
       "   'g',\n",
       "   'h',\n",
       "   'i',\n",
       "   'j',\n",
       "   'k',\n",
       "   'l',\n",
       "   'm',\n",
       "   'n',\n",
       "   'o',\n",
       "   'p',\n",
       "   'q',\n",
       "   'r',\n",
       "   's',\n",
       "   't',\n",
       "   'u',\n",
       "   'v',\n",
       "   'w',\n",
       "   'x',\n",
       "   'y',\n",
       "   'z'],\n",
       "  40: 'runThisPtherOtherCode()',\n",
       "  63: <module 'builtins' (built-in)>},\n",
       " '_dh': ['/home/m41d/Desktop/projects/python'],\n",
       " 'In': ['',\n",
       "  '# HHOHOHOTHOTHTOHTOH\\na = 4\\nb = 6\\n\\nlong = a if a>b else b\\n\\nshort = (a,b)[a>b]\\n\\nprint(long, short)',\n",
       "  '# IF\\n\\ni = 4\\nj = 4\\n\\nif i==4 and j==4:\\n    print(TRUE)\\n    \\nif i==j==4:\\n    print(TRUE)\\n\\nif (i,j)==(4,4):\\n    print(TRUE)',\n",
       "  \"# IF\\n\\ni = 4\\nj = 4\\n\\nTRUE = 'TRUE'\\n\\nif i==4 and j==4:\\n    print(TRUE)\\n    \\nif i==j==4:\\n    print(TRUE)\\n\\nif (i,j)==(4,4):\\n    print(TRUE)\",\n",
       "  '# LIST\\ni = (1,2,3,4)\\ni = range(4)\\ni = (x**2 for x in range(5))\\nprint(i)',\n",
       "  '# LIST\\ni = (1,2,3,4)\\ni = range(4)\\ni = (x**2 for x in range(5))\\nprint(i)',\n",
       "  '# LIST\\ni = (1,2,3,4)\\ni = range(4)\\ni = [x**2 for x in range(5)]\\nprint(i)',\n",
       "  '# LIST\\ni = (1,2,3,4)\\ni = range(4)\\n\\nprint(i)\\n\\nx=list(i)\\nprint(x)',\n",
       "  '# LIST\\ni = (1,2,3,4)\\ni = [range(4)]\\n\\nprint(i)\\n\\nx=list(i)\\nprint(x)',\n",
       "  '# LIST\\ni = (1,2,3,4)\\ni = [for i in range(4)]\\n\\nprint(i)\\n\\nx=list(i)\\nprint(x)',\n",
       "  '# LIST\\ni = (1,2,3,4)\\ni = [i for i in range(4)]\\n\\nprint(i)\\n\\nx=list(i)\\nprint(x)',\n",
       "  '# LIST\\nresults = []\\nfor color in colors:\\n    for fruit in fruits:\\n        results.append((color, fruit))\\n        \\nprint(results)\\n\\nresults = [(color, fruit) for color in colors for fruit in fruits]\\nprint(results)',\n",
       "  '# LIST\\ni = (1,2,3,4)\\ni = [i for i in range(4)]\\n\\nprint(i)\\n\\nx=list(i)\\nprint(x)',\n",
       "  \"fruits = ['Apple', 'baanan', 'melon']\\ncolors = ['red', 'yellow', 'green', 'purple', 'orango']\",\n",
       "  '# LIST\\nresults = []\\nfor color in colors:\\n    for fruit in fruits:\\n        results.append((color, fruit))\\n        \\nprint(results)\\n\\nresults = [(color, fruit) for color in colors for fruit in fruits]\\nprint(results)',\n",
       "  '# LIST ASSIGN\\ni = (1,2,3,4)\\ni = [i for i in range(4)]\\n\\nprint(i)\\n\\nx=list(i)\\nprint(x)\\n*x,=i\\nprint(x)',\n",
       "  '# LIST ASSIGN\\ni = (1,2,3,4)\\ni = [i for i in range(4)]\\n\\nprint(i)\\n\\nx=list(i)\\nprint(x)\\n*y,=i\\nprint(y)',\n",
       "  \"# LIST ASSIGN\\ni = (1,2,3,4)\\ni = [i for i in range(4)]\\n\\nprint(i)\\n\\nx=list(i)\\nprint(x)\\n*y,=i\\nprint(y)\\n\\n# USEFUL TO MAKE A LIST OF CHARS\\ns=['a','b','c','d']\\nprint(s)\\ns=list('abcde')\\nprint(s)\\n*s,='abcde'\\nprint(s)\",\n",
       "  \"# LIST ASSIGN\\ni = (1,2,3,4)\\ni = [i for i in range(4)]\\n\\nprint(i)\\n\\nx=list(i)\\nprint(x)\\n*y,=i\\nprint(y)\\n\\n# USEFUL TO MAKE A LIST OF CHARS\\ns=['a','b','c','d']\\nprint(s)\\ns=list('abcd')\\nprint(s)\\n*s,='abcd'\\nprint(s)\",\n",
       "  \"# LIST ASSIGN\\ni = (1,2,3,4)\\ni = [i for i in range(4)]\\n\\nprint(i)\\n\\nx=list(i)\\nprint(x)\\n*y,=i\\nprint(y)\\n\\n# USEFUL TO MAKE A LIST OF CHARS\\ns=['a','b','c','d']\\nprint(s)\\ns=[*'abcde']\\nprint(s)\\ns=list('abcd')\\nprint(s)\\n*s,='abcd'\\nprint(s)\",\n",
       "  \"# LIST ASSIGN\\ni = (1,2,3,4)\\ni = [i for i in range(4)]\\n\\nprint(i)\\n\\nx=list(i)\\nprint(x)\\n*y,=i\\nprint(y)\\n\\n# USEFUL TO MAKE A LIST OF CHARS\\ns=['a','b','c','d']\\nprint(s)\\ns=[*'abcd']\\nprint(s)\\ns=list('abcd')\\nprint(s)\\n*s,='abcd'\\nprint(s)\",\n",
       "  \"# LIST ASSIGN\\ni = (1,2,3,4)\\ni = [i for i in range(4)]\\n\\nprint(i)\\n\\nx=list(i)\\nprint(x)\\n*y,=i\\nprint(y)\\n\\n# USEFUL TO MAKE A LIST OF CHARS\\ns=['a','b','c','d']\\nprint(s)\\ns=[*'abcd']\\nprint(s)\\ns=list('abcd')\\nprint(s)\\n*s,='abcd'\\nprint(s)\\nprint(type(s))\",\n",
       "  '# FOR\\nm = 5\\nn = 2\\nfor i in range(m):\\n    for j in range(n):\\n        print(m, n)',\n",
       "  '# FOR\\nm = 5\\nn = 2\\nfor i in range(m):\\n    for j in range(n):\\n        print(i, j)',\n",
       "  '# FOR\\nm = 5\\nn = 2\\nfor i in range(m):\\n    for j in range(n):\\n        print(i, j)\\n    print(\"---\")',\n",
       "  '# FOR\\nm = 5\\nn = 2\\nfor i in range(m):\\n    for j in range(n):\\n        print(i, j)\\n    \\nfor k in range (m*n):\\n    print(k/n,k%n)',\n",
       "  '# FOR\\nm = 5\\nn = 2\\nfor i in range(m):\\n    for j in range(n):\\n        print(i, j)\\n    \\nfor k in range (m*n):\\n    print(int(k/n),k%n)',\n",
       "  '# FOR\\nm = 5\\nn = 2\\nfor i in range(m):\\n    for j in range(n):\\n        print(i, j)\\n\\nprint(\"---\")\\n\\nfor k in range (m*n):\\n    print(int(k/n),k%n)',\n",
       "  '# 2 loop FOR\\nm = 5\\nn = 2\\n\\nfor i in range(m):\\n    for j in range(n):\\n        print(i, j)\\n\\nprint(\"---\")\\n\\nfor k in range (m*n):\\n    print(int(k/n),k%n)\\n    \\n# 3 loop FOR\\nm = 4\\nn = 3\\no = 2\\n\\nfor i in range(m*n*o):\\n    print(i/n/o, i%(n*o)/o, i%o)',\n",
       "  '# 2 loop FOR\\nm = 5\\nn = 2\\n\\nfor i in range(m):\\n    for j in range(n):\\n        print(i, j)\\n\\nprint(\"---\")\\n\\nfor k in range (m*n):\\n    print(int(k/n),k%n)',\n",
       "  '# WHILE\\n\\nn = 4\\n\\nwhile n-1: # same as white n!=1\\n    print(n)\\n\\nn=4\\n\\nwhile~-n:\\n    print(n)',\n",
       "  '*a,=[1,2,3,4]\\nprint(a)',\n",
       "  '*a=[1,2,3,4]\\nprint(a)',\n",
       "  '*a,=[1,2,3,4]\\nprint(a)',\n",
       "  'for i in[1]*8:\\n    print(i)',\n",
       "  '# REVERSE LIST\\n[1,2,3,4].[::-1]',\n",
       "  '# REVERSE LIST\\n[1,2,3,4][::-1]',\n",
       "  '# CHARACTER LIST\\n[chr(i+97) for i in R(26)]',\n",
       "  '# CHARACTER LIST\\n[chr(i+97) for i in range(26)]',\n",
       "  '# CHARACTER LIST\\na = [chr(i+97) for i in range(26)]\\na = map(chr, range(97, 123))',\n",
       "  '# PYTHON SWITCH\\na = 3\\n\\n{1:\\'runThisCode()\\', 2:\"runThisOtherCode()\", 3:\"runThisPtherOtherCode()\"}[a]',\n",
       "  'def print_args(*args):\\n    print(args)\\n    \\ndef print_kwargs(**kwargs):\\n    print(kwargs)\\n    \\nprint_args(1)',\n",
       "  'def print_args(*args):\\n    print(args)\\n    \\ndef print_kwargs(**kwargs):\\n    print(kwargs)\\n    \\nprint_args(3,5)',\n",
       "  'def print_args(*args):\\n    print(args)\\n    \\ndef print_kwargs(**kwargs):\\n    print(kwargs)\\n    \\nprint_args(3,5,3)',\n",
       "  'def print_args(*args):\\n    print(args)\\n    \\ndef print_kwargs(**kwargs):\\n    print(kwargs)\\n    \\nprint_args(3,5,32,3,4)',\n",
       "  'def print_args(*args):\\n    print(args)\\n    \\ndef print_kwargs(**kwargs):\\n    print(kwargs)\\n    \\nprint_args(3,5,32,3,4)\\nprint_kwargs(2,4)',\n",
       "  \"def print_args(*args):\\n    print(args)\\n    \\ndef print_kwargs(**kwargs):\\n    print(kwargs)\\n    \\nprint_args(3,5,32,3,4)\\nprint_kwargs('a')\",\n",
       "  \"def print_args(*args):\\n    print(args)\\n    \\ndef print_kwargs(**kwargs):\\n    print(kwargs)\\n    \\nprint_args(3,5,32,3,4)\\nprint_kwargs('a','b')\",\n",
       "  'def print_args(*args):\\n    print(args)\\n    \\ndef print_kwargs(**kwargs):\\n    print(kwargs)\\n    \\nprint_args(3,5,32,3,4)\\nprint_kwargs()',\n",
       "  'def print_args(*args):\\n    print(args)\\n    \\ndef print_kwargs(**kwargs):\\n    print(kwargs)\\n    \\nprint_args(3,5,32,3,4)\\nprint_kwargs([1,2])',\n",
       "  'def print_args(*args):\\n    print(args)\\n    \\ndef print_kwargs(**kwargs):\\n    print(kwargs)\\n    \\nprint_args(3,5,32,3,4)\\nprint_kwargs(name=1, age=3)',\n",
       "  'def print_args(*args):\\n    print(args)\\n    \\ndef print_kwargs(**kwargs):\\n    print(kwargs)\\n    \\nprint_args(3,5,32,3,4)\\nprint_kwargs(name=1, age=3)\\nprint_args(name=1)',\n",
       "  'def print_args(*args):\\n    print(args)\\n    \\ndef print_kwargs(**kwargs):\\n    print(kwargs)\\n    \\nprint_args(3,5,32,3,4)\\nprint_kwargs(name=1, age=3)\\nprint_args(name=1)\\nprint_kwargs(3)',\n",
       "  'def print_args(*args):\\n    print(args)\\n    \\ndef print_kwargs(**kwargs):\\n    print(kwargs)\\n    \\nprint_args(3,5,32,3,4)\\nprint_kwargs(name=1, age=3)\\n# print_args(name=1)\\nprint_kwargs(3)',\n",
       "  'def print_args(*args):\\n    print(args)\\n    \\ndef print_kwargs(**kwargs):\\n    print(kwargs)\\n    \\nprint_args(3,5,32,3,4)\\nprint_kwargs(name=1, age=3)\\n# print_args(name=1)\\n# print_kwargs(3)\\n\\ndef print_all_args(*args, **kwargs):\\n    print(args)\\n    print(kwargs)\\n    \\nprint_all_args(1,3,5,name=5,kww=1)',\n",
       "  'def docString_example():\\n    \\'\\'\\'\\n        Return DocString\\n    \\'\\'\\'\\n    print(\"AA\")\\n    \\nhelp(docString_example)',\n",
       "  'def print_call_function():\\n    print(\"Call Function\")\\n    \\ndef f(fc):\\n    fc()\\n    \\nf(print_call_function)',\n",
       "  'def print_call_function():\\n    print(\"Call Function\")\\n    \\ndef run_function(f):\\n    f()\\n    \\nrun_function(print_call_function)',\n",
       "  \"champion = 'Lux'\\n\\ndef show_global_champion():\\n    print('show_global_champion : {}'.format(champion))\\n    \\nshow_global_champion()\\nprint('print champion: {}').format(champion)\",\n",
       "  \"champion = 'Lux'\\n\\ndef show_global_champion():\\n    print('show_global_champion : {}'.format(champion))\\n    \\nshow_global_champion()\\nprint('print champion: {}'.format(champion))\",\n",
       "  \"champion = 'Lux'\\n\\ndef show_global_champion():\\n    print('show_global_champion : {}'.format(champion))\\n    \\ndef change_global_champion():\\n    print(f'before change global: {champion}')\\n    print(f'ater change global: {champion})\\n    \\nshow_global_champion()\\nprint('print champion: {}'.format(champion))\",\n",
       "  \"champion = 'Lux'\\n\\ndef show_global_champion():\\n    print('show_global_champion : {}'.format(champion))\\n    \\ndef change_global_champion():\\n    print(f'before change global: {champion}')\\n    champion = 'Ahri'\\n    print(f'ater change global: {champion}')\\n    \\nshow_global_champion()\\nprint('print champion: {}'.format(champion))\",\n",
       "  \"champion = 'Lux'\\n\\ndef show_global_champion():\\n    print('show_global_champion : {}'.format(champion))\\n    \\ndef change_global_champion():\\n    print(f'before change global: {champion}')\\n    champion = 'Ahri'\\n    print(f'ater change global: {champion}')\\n    \\nshow_global_champion()\\nchange_global_champion()\",\n",
       "  '__builtin__',\n",
       "  'locals()'],\n",
       " 'Out': {36: [4, 3, 2, 1],\n",
       "  38: ['a',\n",
       "   'b',\n",
       "   'c',\n",
       "   'd',\n",
       "   'e',\n",
       "   'f',\n",
       "   'g',\n",
       "   'h',\n",
       "   'i',\n",
       "   'j',\n",
       "   'k',\n",
       "   'l',\n",
       "   'm',\n",
       "   'n',\n",
       "   'o',\n",
       "   'p',\n",
       "   'q',\n",
       "   'r',\n",
       "   's',\n",
       "   't',\n",
       "   'u',\n",
       "   'v',\n",
       "   'w',\n",
       "   'x',\n",
       "   'y',\n",
       "   'z'],\n",
       "  40: 'runThisPtherOtherCode()',\n",
       "  63: <module 'builtins' (built-in)>},\n",
       " 'get_ipython': <bound method InteractiveShell.get_ipython of <ipykernel.zmqshell.ZMQInteractiveShell object at 0x7f9a98e470b8>>,\n",
       " 'exit': <IPython.core.autocall.ZMQExitAutocall at 0x7f9a8c32c400>,\n",
       " 'quit': <IPython.core.autocall.ZMQExitAutocall at 0x7f9a8c32c400>,\n",
       " '_': <module 'builtins' (built-in)>,\n",
       " '__': 'runThisPtherOtherCode()',\n",
       " '___': ['a',\n",
       "  'b',\n",
       "  'c',\n",
       "  'd',\n",
       "  'e',\n",
       "  'f',\n",
       "  'g',\n",
       "  'h',\n",
       "  'i',\n",
       "  'j',\n",
       "  'k',\n",
       "  'l',\n",
       "  'm',\n",
       "  'n',\n",
       "  'o',\n",
       "  'p',\n",
       "  'q',\n",
       "  'r',\n",
       "  's',\n",
       "  't',\n",
       "  'u',\n",
       "  'v',\n",
       "  'w',\n",
       "  'x',\n",
       "  'y',\n",
       "  'z'],\n",
       " '_i': '__builtin__',\n",
       " '_ii': \"champion = 'Lux'\\n\\ndef show_global_champion():\\n    print('show_global_champion : {}'.format(champion))\\n    \\ndef change_global_champion():\\n    print(f'before change global: {champion}')\\n    champion = 'Ahri'\\n    print(f'ater change global: {champion}')\\n    \\nshow_global_champion()\\nchange_global_champion()\",\n",
       " '_iii': \"champion = 'Lux'\\n\\ndef show_global_champion():\\n    print('show_global_champion : {}'.format(champion))\\n    \\ndef change_global_champion():\\n    print(f'before change global: {champion}')\\n    champion = 'Ahri'\\n    print(f'ater change global: {champion}')\\n    \\nshow_global_champion()\\nprint('print champion: {}'.format(champion))\",\n",
       " '_i1': '# HHOHOHOTHOTHTOHTOH\\na = 4\\nb = 6\\n\\nlong = a if a>b else b\\n\\nshort = (a,b)[a>b]\\n\\nprint(long, short)',\n",
       " 'a': 3,\n",
       " 'b': 6,\n",
       " 'long': 6,\n",
       " 'short': 4,\n",
       " '_i2': '# IF\\n\\ni = 4\\nj = 4\\n\\nif i==4 and j==4:\\n    print(TRUE)\\n    \\nif i==j==4:\\n    print(TRUE)\\n\\nif (i,j)==(4,4):\\n    print(TRUE)',\n",
       " 'i': 1,\n",
       " 'j': 1,\n",
       " '_i3': \"# IF\\n\\ni = 4\\nj = 4\\n\\nTRUE = 'TRUE'\\n\\nif i==4 and j==4:\\n    print(TRUE)\\n    \\nif i==j==4:\\n    print(TRUE)\\n\\nif (i,j)==(4,4):\\n    print(TRUE)\",\n",
       " 'TRUE': 'TRUE',\n",
       " '_i4': '# LIST\\ni = (1,2,3,4)\\ni = range(4)\\ni = (x**2 for x in range(5))\\nprint(i)',\n",
       " '_i5': '# LIST\\ni = (1,2,3,4)\\ni = range(4)\\ni = (x**2 for x in range(5))\\nprint(i)',\n",
       " '_i6': '# LIST\\ni = (1,2,3,4)\\ni = range(4)\\ni = [x**2 for x in range(5)]\\nprint(i)',\n",
       " '_i7': '# LIST\\ni = (1,2,3,4)\\ni = range(4)\\n\\nprint(i)\\n\\nx=list(i)\\nprint(x)',\n",
       " 'x': [0, 1, 2, 3],\n",
       " '_i8': '# LIST\\ni = (1,2,3,4)\\ni = [range(4)]\\n\\nprint(i)\\n\\nx=list(i)\\nprint(x)',\n",
       " '_i9': '# LIST\\ni = (1,2,3,4)\\ni = [for i in range(4)]\\n\\nprint(i)\\n\\nx=list(i)\\nprint(x)',\n",
       " '_i10': '# LIST\\ni = (1,2,3,4)\\ni = [i for i in range(4)]\\n\\nprint(i)\\n\\nx=list(i)\\nprint(x)',\n",
       " '_i11': '# LIST\\nresults = []\\nfor color in colors:\\n    for fruit in fruits:\\n        results.append((color, fruit))\\n        \\nprint(results)\\n\\nresults = [(color, fruit) for color in colors for fruit in fruits]\\nprint(results)',\n",
       " 'results': [('red', 'Apple'),\n",
       "  ('red', 'baanan'),\n",
       "  ('red', 'melon'),\n",
       "  ('yellow', 'Apple'),\n",
       "  ('yellow', 'baanan'),\n",
       "  ('yellow', 'melon'),\n",
       "  ('green', 'Apple'),\n",
       "  ('green', 'baanan'),\n",
       "  ('green', 'melon'),\n",
       "  ('purple', 'Apple'),\n",
       "  ('purple', 'baanan'),\n",
       "  ('purple', 'melon'),\n",
       "  ('orango', 'Apple'),\n",
       "  ('orango', 'baanan'),\n",
       "  ('orango', 'melon')],\n",
       " '_i12': '# LIST\\ni = (1,2,3,4)\\ni = [i for i in range(4)]\\n\\nprint(i)\\n\\nx=list(i)\\nprint(x)',\n",
       " '_i13': \"fruits = ['Apple', 'baanan', 'melon']\\ncolors = ['red', 'yellow', 'green', 'purple', 'orango']\",\n",
       " 'fruits': ['Apple', 'baanan', 'melon'],\n",
       " 'colors': ['red', 'yellow', 'green', 'purple', 'orango'],\n",
       " '_i14': '# LIST\\nresults = []\\nfor color in colors:\\n    for fruit in fruits:\\n        results.append((color, fruit))\\n        \\nprint(results)\\n\\nresults = [(color, fruit) for color in colors for fruit in fruits]\\nprint(results)',\n",
       " 'color': 'orango',\n",
       " 'fruit': 'melon',\n",
       " '_i15': '# LIST ASSIGN\\ni = (1,2,3,4)\\ni = [i for i in range(4)]\\n\\nprint(i)\\n\\nx=list(i)\\nprint(x)\\n*x,=i\\nprint(x)',\n",
       " '_i16': '# LIST ASSIGN\\ni = (1,2,3,4)\\ni = [i for i in range(4)]\\n\\nprint(i)\\n\\nx=list(i)\\nprint(x)\\n*y,=i\\nprint(y)',\n",
       " 'y': [0, 1, 2, 3],\n",
       " '_i17': \"# LIST ASSIGN\\ni = (1,2,3,4)\\ni = [i for i in range(4)]\\n\\nprint(i)\\n\\nx=list(i)\\nprint(x)\\n*y,=i\\nprint(y)\\n\\n# USEFUL TO MAKE A LIST OF CHARS\\ns=['a','b','c','d']\\nprint(s)\\ns=list('abcde')\\nprint(s)\\n*s,='abcde'\\nprint(s)\",\n",
       " 's': ['a', 'b', 'c', 'd'],\n",
       " '_i18': \"# LIST ASSIGN\\ni = (1,2,3,4)\\ni = [i for i in range(4)]\\n\\nprint(i)\\n\\nx=list(i)\\nprint(x)\\n*y,=i\\nprint(y)\\n\\n# USEFUL TO MAKE A LIST OF CHARS\\ns=['a','b','c','d']\\nprint(s)\\ns=list('abcd')\\nprint(s)\\n*s,='abcd'\\nprint(s)\",\n",
       " '_i19': \"# LIST ASSIGN\\ni = (1,2,3,4)\\ni = [i for i in range(4)]\\n\\nprint(i)\\n\\nx=list(i)\\nprint(x)\\n*y,=i\\nprint(y)\\n\\n# USEFUL TO MAKE A LIST OF CHARS\\ns=['a','b','c','d']\\nprint(s)\\ns=[*'abcde']\\nprint(s)\\ns=list('abcd')\\nprint(s)\\n*s,='abcd'\\nprint(s)\",\n",
       " '_i20': \"# LIST ASSIGN\\ni = (1,2,3,4)\\ni = [i for i in range(4)]\\n\\nprint(i)\\n\\nx=list(i)\\nprint(x)\\n*y,=i\\nprint(y)\\n\\n# USEFUL TO MAKE A LIST OF CHARS\\ns=['a','b','c','d']\\nprint(s)\\ns=[*'abcd']\\nprint(s)\\ns=list('abcd')\\nprint(s)\\n*s,='abcd'\\nprint(s)\",\n",
       " '_i21': \"# LIST ASSIGN\\ni = (1,2,3,4)\\ni = [i for i in range(4)]\\n\\nprint(i)\\n\\nx=list(i)\\nprint(x)\\n*y,=i\\nprint(y)\\n\\n# USEFUL TO MAKE A LIST OF CHARS\\ns=['a','b','c','d']\\nprint(s)\\ns=[*'abcd']\\nprint(s)\\ns=list('abcd')\\nprint(s)\\n*s,='abcd'\\nprint(s)\\nprint(type(s))\",\n",
       " '_i22': '# FOR\\nm = 5\\nn = 2\\nfor i in range(m):\\n    for j in range(n):\\n        print(m, n)',\n",
       " 'm': 5,\n",
       " 'n': 4,\n",
       " '_i23': '# FOR\\nm = 5\\nn = 2\\nfor i in range(m):\\n    for j in range(n):\\n        print(i, j)',\n",
       " '_i24': '# FOR\\nm = 5\\nn = 2\\nfor i in range(m):\\n    for j in range(n):\\n        print(i, j)\\n    print(\"---\")',\n",
       " '_i25': '# FOR\\nm = 5\\nn = 2\\nfor i in range(m):\\n    for j in range(n):\\n        print(i, j)\\n    \\nfor k in range (m*n):\\n    print(k/n,k%n)',\n",
       " 'k': 9,\n",
       " '_i26': '# FOR\\nm = 5\\nn = 2\\nfor i in range(m):\\n    for j in range(n):\\n        print(i, j)\\n    \\nfor k in range (m*n):\\n    print(int(k/n),k%n)',\n",
       " '_i27': '# FOR\\nm = 5\\nn = 2\\nfor i in range(m):\\n    for j in range(n):\\n        print(i, j)\\n\\nprint(\"---\")\\n\\nfor k in range (m*n):\\n    print(int(k/n),k%n)',\n",
       " '_i28': '# 2 loop FOR\\nm = 5\\nn = 2\\n\\nfor i in range(m):\\n    for j in range(n):\\n        print(i, j)\\n\\nprint(\"---\")\\n\\nfor k in range (m*n):\\n    print(int(k/n),k%n)\\n    \\n# 3 loop FOR\\nm = 4\\nn = 3\\no = 2\\n\\nfor i in range(m*n*o):\\n    print(i/n/o, i%(n*o)/o, i%o)',\n",
       " 'o': 2,\n",
       " '_i29': '# 2 loop FOR\\nm = 5\\nn = 2\\n\\nfor i in range(m):\\n    for j in range(n):\\n        print(i, j)\\n\\nprint(\"---\")\\n\\nfor k in range (m*n):\\n    print(int(k/n),k%n)',\n",
       " '_i30': '# WHILE\\n\\nn = 4\\n\\nwhile n-1: # same as white n!=1\\n    print(n)\\n\\nn=4\\n\\nwhile~-n:\\n    print(n)',\n",
       " '_i31': '*a,=[1,2,3,4]\\nprint(a)',\n",
       " '_i32': '*a=[1,2,3,4]\\nprint(a)',\n",
       " '_i33': '*a,=[1,2,3,4]\\nprint(a)',\n",
       " '_i34': 'for i in[1]*8:\\n    print(i)',\n",
       " '_i35': '# REVERSE LIST\\n[1,2,3,4].[::-1]',\n",
       " '_i36': '# REVERSE LIST\\n[1,2,3,4][::-1]',\n",
       " '_36': [4, 3, 2, 1],\n",
       " '_i37': '# CHARACTER LIST\\n[chr(i+97) for i in R(26)]',\n",
       " '_i38': '# CHARACTER LIST\\n[chr(i+97) for i in range(26)]',\n",
       " '_38': ['a',\n",
       "  'b',\n",
       "  'c',\n",
       "  'd',\n",
       "  'e',\n",
       "  'f',\n",
       "  'g',\n",
       "  'h',\n",
       "  'i',\n",
       "  'j',\n",
       "  'k',\n",
       "  'l',\n",
       "  'm',\n",
       "  'n',\n",
       "  'o',\n",
       "  'p',\n",
       "  'q',\n",
       "  'r',\n",
       "  's',\n",
       "  't',\n",
       "  'u',\n",
       "  'v',\n",
       "  'w',\n",
       "  'x',\n",
       "  'y',\n",
       "  'z'],\n",
       " '_i39': '# CHARACTER LIST\\na = [chr(i+97) for i in range(26)]\\na = map(chr, range(97, 123))',\n",
       " '_i40': '# PYTHON SWITCH\\na = 3\\n\\n{1:\\'runThisCode()\\', 2:\"runThisOtherCode()\", 3:\"runThisPtherOtherCode()\"}[a]',\n",
       " '_40': 'runThisPtherOtherCode()',\n",
       " '_i41': 'def print_args(*args):\\n    print(args)\\n    \\ndef print_kwargs(**kwargs):\\n    print(kwargs)\\n    \\nprint_args(1)',\n",
       " 'print_args': <function __main__.print_args(*args)>,\n",
       " 'print_kwargs': <function __main__.print_kwargs(**kwargs)>,\n",
       " '_i42': 'def print_args(*args):\\n    print(args)\\n    \\ndef print_kwargs(**kwargs):\\n    print(kwargs)\\n    \\nprint_args(3,5)',\n",
       " '_i43': 'def print_args(*args):\\n    print(args)\\n    \\ndef print_kwargs(**kwargs):\\n    print(kwargs)\\n    \\nprint_args(3,5,3)',\n",
       " '_i44': 'def print_args(*args):\\n    print(args)\\n    \\ndef print_kwargs(**kwargs):\\n    print(kwargs)\\n    \\nprint_args(3,5,32,3,4)',\n",
       " '_i45': 'def print_args(*args):\\n    print(args)\\n    \\ndef print_kwargs(**kwargs):\\n    print(kwargs)\\n    \\nprint_args(3,5,32,3,4)\\nprint_kwargs(2,4)',\n",
       " '_i46': \"def print_args(*args):\\n    print(args)\\n    \\ndef print_kwargs(**kwargs):\\n    print(kwargs)\\n    \\nprint_args(3,5,32,3,4)\\nprint_kwargs('a')\",\n",
       " '_i47': \"def print_args(*args):\\n    print(args)\\n    \\ndef print_kwargs(**kwargs):\\n    print(kwargs)\\n    \\nprint_args(3,5,32,3,4)\\nprint_kwargs('a','b')\",\n",
       " '_i48': 'def print_args(*args):\\n    print(args)\\n    \\ndef print_kwargs(**kwargs):\\n    print(kwargs)\\n    \\nprint_args(3,5,32,3,4)\\nprint_kwargs()',\n",
       " '_i49': 'def print_args(*args):\\n    print(args)\\n    \\ndef print_kwargs(**kwargs):\\n    print(kwargs)\\n    \\nprint_args(3,5,32,3,4)\\nprint_kwargs([1,2])',\n",
       " '_i50': 'def print_args(*args):\\n    print(args)\\n    \\ndef print_kwargs(**kwargs):\\n    print(kwargs)\\n    \\nprint_args(3,5,32,3,4)\\nprint_kwargs(name=1, age=3)',\n",
       " '_i51': 'def print_args(*args):\\n    print(args)\\n    \\ndef print_kwargs(**kwargs):\\n    print(kwargs)\\n    \\nprint_args(3,5,32,3,4)\\nprint_kwargs(name=1, age=3)\\nprint_args(name=1)',\n",
       " '_i52': 'def print_args(*args):\\n    print(args)\\n    \\ndef print_kwargs(**kwargs):\\n    print(kwargs)\\n    \\nprint_args(3,5,32,3,4)\\nprint_kwargs(name=1, age=3)\\nprint_args(name=1)\\nprint_kwargs(3)',\n",
       " '_i53': 'def print_args(*args):\\n    print(args)\\n    \\ndef print_kwargs(**kwargs):\\n    print(kwargs)\\n    \\nprint_args(3,5,32,3,4)\\nprint_kwargs(name=1, age=3)\\n# print_args(name=1)\\nprint_kwargs(3)',\n",
       " '_i54': 'def print_args(*args):\\n    print(args)\\n    \\ndef print_kwargs(**kwargs):\\n    print(kwargs)\\n    \\nprint_args(3,5,32,3,4)\\nprint_kwargs(name=1, age=3)\\n# print_args(name=1)\\n# print_kwargs(3)\\n\\ndef print_all_args(*args, **kwargs):\\n    print(args)\\n    print(kwargs)\\n    \\nprint_all_args(1,3,5,name=5,kww=1)',\n",
       " 'print_all_args': <function __main__.print_all_args(*args, **kwargs)>,\n",
       " '_i55': 'def docString_example():\\n    \\'\\'\\'\\n        Return DocString\\n    \\'\\'\\'\\n    print(\"AA\")\\n    \\nhelp(docString_example)',\n",
       " 'docString_example': <function __main__.docString_example()>,\n",
       " '_i56': 'def print_call_function():\\n    print(\"Call Function\")\\n    \\ndef f(fc):\\n    fc()\\n    \\nf(print_call_function)',\n",
       " 'print_call_function': <function __main__.print_call_function()>,\n",
       " 'f': <function __main__.f(fc)>,\n",
       " '_i57': 'def print_call_function():\\n    print(\"Call Function\")\\n    \\ndef run_function(f):\\n    f()\\n    \\nrun_function(print_call_function)',\n",
       " 'run_function': <function __main__.run_function(f)>,\n",
       " '_i58': \"champion = 'Lux'\\n\\ndef show_global_champion():\\n    print('show_global_champion : {}'.format(champion))\\n    \\nshow_global_champion()\\nprint('print champion: {}').format(champion)\",\n",
       " 'champion': 'Lux',\n",
       " 'show_global_champion': <function __main__.show_global_champion()>,\n",
       " '_i59': \"champion = 'Lux'\\n\\ndef show_global_champion():\\n    print('show_global_champion : {}'.format(champion))\\n    \\nshow_global_champion()\\nprint('print champion: {}'.format(champion))\",\n",
       " '_i60': \"champion = 'Lux'\\n\\ndef show_global_champion():\\n    print('show_global_champion : {}'.format(champion))\\n    \\ndef change_global_champion():\\n    print(f'before change global: {champion}')\\n    print(f'ater change global: {champion})\\n    \\nshow_global_champion()\\nprint('print champion: {}'.format(champion))\",\n",
       " '_i61': \"champion = 'Lux'\\n\\ndef show_global_champion():\\n    print('show_global_champion : {}'.format(champion))\\n    \\ndef change_global_champion():\\n    print(f'before change global: {champion}')\\n    champion = 'Ahri'\\n    print(f'ater change global: {champion}')\\n    \\nshow_global_champion()\\nprint('print champion: {}'.format(champion))\",\n",
       " 'change_global_champion': <function __main__.change_global_champion()>,\n",
       " '_i62': \"champion = 'Lux'\\n\\ndef show_global_champion():\\n    print('show_global_champion : {}'.format(champion))\\n    \\ndef change_global_champion():\\n    print(f'before change global: {champion}')\\n    champion = 'Ahri'\\n    print(f'ater change global: {champion}')\\n    \\nshow_global_champion()\\nchange_global_champion()\",\n",
       " '_i63': '__builtin__',\n",
       " '_63': <module 'builtins' (built-in)>,\n",
       " '_i64': 'locals()'}"
      ]
     },
     "execution_count": 64,
     "metadata": {},
     "output_type": "execute_result"
    }
   ],
   "source": [
    "locals()"
   ]
  },
  {
   "cell_type": "code",
   "execution_count": 2,
   "metadata": {},
   "outputs": [
    {
     "name": "stdout",
     "output_type": "stream",
     "text": [
      "C\n"
     ]
    }
   ],
   "source": [
    "def run_function(a):\n",
    "    def upper_function():\n",
    "        return a.upper()\n",
    "    return upper_function()\n",
    "\n",
    "print(run_function('c'))"
   ]
  },
  {
   "cell_type": "code",
   "execution_count": null,
   "metadata": {},
   "outputs": [],
   "source": []
  }
 ],
 "metadata": {
  "kernelspec": {
   "display_name": "Python 3",
   "language": "python",
   "name": "python3"
  },
  "language_info": {
   "codemirror_mode": {
    "name": "ipython",
    "version": 3
   },
   "file_extension": ".py",
   "mimetype": "text/x-python",
   "name": "python",
   "nbconvert_exporter": "python",
   "pygments_lexer": "ipython3",
   "version": "3.6.6"
  }
 },
 "nbformat": 4,
 "nbformat_minor": 2
}
